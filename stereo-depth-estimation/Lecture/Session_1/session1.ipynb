{
  "nbformat": 4,
  "nbformat_minor": 0,
  "metadata": {
    "celltoolbar": "Slideshow",
    "kernelspec": {
      "display_name": "Python 3",
      "language": "python",
      "name": "python3"
    },
    "language_info": {
      "codemirror_mode": {
        "name": "ipython",
        "version": 3
      },
      "file_extension": ".py",
      "mimetype": "text/x-python",
      "name": "python",
      "nbconvert_exporter": "python",
      "pygments_lexer": "ipython3",
      "version": "3.8.8"
    },
    "colab": {
      "name": "session1.ipynb",
      "provenance": [],
      "include_colab_link": true
    }
  },
  "cells": [
    {
      "cell_type": "markdown",
      "metadata": {
        "id": "view-in-github",
        "colab_type": "text"
      },
      "source": [
        "<a href=\"https://colab.research.google.com/github/JanNogga/Vision_Systems_Lab/blob/main/Session_1/session1.ipynb\" target=\"_parent\"><img src=\"https://colab.research.google.com/assets/colab-badge.svg\" alt=\"Open In Colab\"/></a>"
      ]
    },
    {
      "cell_type": "markdown",
      "metadata": {
        "id": "ukP_v9ELtbVX"
      },
      "source": [
        "# Lab Vision Sytems: Session 1"
      ]
    },
    {
      "cell_type": "markdown",
      "metadata": {
        "id": "Y0VX2y3GtbVl"
      },
      "source": [
        "##  Organization\n",
        "\n",
        "Please download the materials for the first session from the course website\n",
        "\n",
        " - **Username**: VisionLabSS21\n",
        " - **Password**: Resnet50"
      ]
    },
    {
      "cell_type": "markdown",
      "metadata": {
        "id": "wDAMrpLAtbVl"
      },
      "source": [
        "# Today: \n",
        "\n",
        "#### 1- Python Basics\n",
        "#### 2- PyTorch Basics\n",
        "#### 3- A Simple Neural Net\n",
        "#### 4- Dataset and Data Loading"
      ]
    },
    {
      "cell_type": "markdown",
      "metadata": {
        "id": "cNKFw-63tbVm"
      },
      "source": [
        "# 1-  Python Basics"
      ]
    },
    {
      "cell_type": "markdown",
      "metadata": {
        "id": "uS4AIuSPtbVm"
      },
      "source": [
        "### Basics and Shortcuts\n",
        "\n",
        " - 'a': Add new cell\n",
        " - 'dd': Delete cell ('d' twice)\n",
        " - 'z': Undo last operation\n",
        " - 'c': Copy cell\n",
        " - 'v': Paste below"
      ]
    },
    {
      "cell_type": "code",
      "metadata": {
        "id": "-VOEM351tbVn"
      },
      "source": [
        "## Shortcuts"
      ],
      "execution_count": null,
      "outputs": []
    },
    {
      "cell_type": "code",
      "metadata": {
        "id": "JtXHcsGttbVn",
        "colab": {
          "base_uri": "https://localhost:8080/"
        },
        "outputId": "d917dc86-4b89-41e1-fd20-2e8262b0ba7d"
      },
      "source": [
        "print(\"My name is Jan\")"
      ],
      "execution_count": null,
      "outputs": [
        {
          "output_type": "stream",
          "text": [
            "My name is Jan\n"
          ],
          "name": "stdout"
        }
      ]
    },
    {
      "cell_type": "code",
      "metadata": {
        "id": "CCzqIV0wtbVo",
        "colab": {
          "base_uri": "https://localhost:8080/"
        },
        "outputId": "336a8037-4bd7-48c9-eeca-d7749c2bc500"
      },
      "source": [
        "a = 5 +1\n",
        "print(f\"5 + 1 is {a}\")"
      ],
      "execution_count": null,
      "outputs": [
        {
          "output_type": "stream",
          "text": [
            "5 + 1 is 6\n"
          ],
          "name": "stdout"
        }
      ]
    },
    {
      "cell_type": "code",
      "metadata": {
        "id": "rsmkrDMytbVp",
        "outputId": "9953f203-bef1-4de3-af1c-247c77255ac3"
      },
      "source": [
        "raise NotImplementedError(f\"Error number {a}\")"
      ],
      "execution_count": null,
      "outputs": [
        {
          "output_type": "error",
          "ename": "NotImplementedError",
          "evalue": "Error number 6",
          "traceback": [
            "\u001b[0;31m---------------------------------------------------------------------------\u001b[0m",
            "\u001b[0;31mNotImplementedError\u001b[0m                       Traceback (most recent call last)",
            "\u001b[0;32m<ipython-input-4-0567dbdfaa6e>\u001b[0m in \u001b[0;36m<module>\u001b[0;34m\u001b[0m\n\u001b[0;32m----> 1\u001b[0;31m \u001b[0;32mraise\u001b[0m \u001b[0mNotImplementedError\u001b[0m\u001b[0;34m(\u001b[0m\u001b[0;34mf\"Error number {a}\"\u001b[0m\u001b[0;34m)\u001b[0m\u001b[0;34m\u001b[0m\u001b[0;34m\u001b[0m\u001b[0m\n\u001b[0m",
            "\u001b[0;31mNotImplementedError\u001b[0m: Error number 6"
          ]
        }
      ]
    },
    {
      "cell_type": "markdown",
      "metadata": {
        "id": "hj-IzuPJtbVp"
      },
      "source": [
        "### Magic Functions"
      ]
    },
    {
      "cell_type": "code",
      "metadata": {
        "id": "HfWsGV7QtbVp",
        "outputId": "d3e8595b-251f-49d1-fd13-14b0c7578723"
      },
      "source": [
        "#Note magics! https://ipython.readthedocs.io/en/stable/interactive/magics.html\n",
        "%time a = [i for i in range(int(1e3))]"
      ],
      "execution_count": null,
      "outputs": [
        {
          "output_type": "stream",
          "text": [
            "CPU times: user 0 ns, sys: 0 ns, total: 0 ns\n",
            "Wall time: 52.9 µs\n"
          ],
          "name": "stdout"
        }
      ]
    },
    {
      "cell_type": "code",
      "metadata": {
        "id": "TbABXIiPtbVq",
        "outputId": "476ac672-b202-4365-ae58-8355f5932b56"
      },
      "source": [
        "%%time\n",
        "def compute(n_iters):\n",
        "    for _ in range(n_iters):\n",
        "        pass\n",
        "compute( int(1e3) )   \n",
        "# compute( int(1e6) )\n",
        "# compute( int(1e8) )"
      ],
      "execution_count": null,
      "outputs": [
        {
          "output_type": "stream",
          "text": [
            "CPU times: user 0 ns, sys: 0 ns, total: 0 ns\n",
            "Wall time: 37 µs\n"
          ],
          "name": "stdout"
        }
      ]
    },
    {
      "cell_type": "markdown",
      "metadata": {
        "id": "MEIWdoaxtbVq"
      },
      "source": [
        "### Debugging"
      ]
    },
    {
      "cell_type": "code",
      "metadata": {
        "id": "m7BiEPkftbVq",
        "outputId": "9b91ec84-86fe-4a5a-f5bf-1080edf0d9e8"
      },
      "source": [
        "\"\"\"\n",
        "PDB is the Python debugger module. \n",
        "Very usefull for debugging and profiling purposes\n",
        "\"\"\"\n",
        "import pdb\n",
        "def hi_bye():\n",
        "    print(\"hello\")\n",
        "    pdb.set_trace()\n",
        "    print(\"goodbye\")\n",
        "hi_bye()"
      ],
      "execution_count": null,
      "outputs": [
        {
          "output_type": "stream",
          "text": [
            "hello\n",
            "> \u001b[0;32m<ipython-input-7-ebbc85f4169b>\u001b[0m(9)\u001b[0;36mhi_bye\u001b[0;34m()\u001b[0m\n",
            "\u001b[0;32m      6 \u001b[0;31m\u001b[0;32mdef\u001b[0m \u001b[0mhi_bye\u001b[0m\u001b[0;34m(\u001b[0m\u001b[0;34m)\u001b[0m\u001b[0;34m:\u001b[0m\u001b[0;34m\u001b[0m\u001b[0;34m\u001b[0m\u001b[0m\n",
            "\u001b[0m\u001b[0;32m      7 \u001b[0;31m    \u001b[0mprint\u001b[0m\u001b[0;34m(\u001b[0m\u001b[0;34m\"hello\"\u001b[0m\u001b[0;34m)\u001b[0m\u001b[0;34m\u001b[0m\u001b[0;34m\u001b[0m\u001b[0m\n",
            "\u001b[0m\u001b[0;32m      8 \u001b[0;31m    \u001b[0mpdb\u001b[0m\u001b[0;34m.\u001b[0m\u001b[0mset_trace\u001b[0m\u001b[0;34m(\u001b[0m\u001b[0;34m)\u001b[0m\u001b[0;34m\u001b[0m\u001b[0;34m\u001b[0m\u001b[0m\n",
            "\u001b[0m\u001b[0;32m----> 9 \u001b[0;31m    \u001b[0mprint\u001b[0m\u001b[0;34m(\u001b[0m\u001b[0;34m\"goodbye\"\u001b[0m\u001b[0;34m)\u001b[0m\u001b[0;34m\u001b[0m\u001b[0;34m\u001b[0m\u001b[0m\n",
            "\u001b[0m\u001b[0;32m     10 \u001b[0;31m\u001b[0mhi_bye\u001b[0m\u001b[0;34m(\u001b[0m\u001b[0;34m)\u001b[0m\u001b[0;34m\u001b[0m\u001b[0;34m\u001b[0m\u001b[0m\n",
            "\u001b[0m\n",
            "ipdb> c\n",
            "goodbye\n"
          ],
          "name": "stdout"
        }
      ]
    },
    {
      "cell_type": "code",
      "metadata": {
        "id": "XbjXrAe9tbVr"
      },
      "source": [
        "def add_numbers(n1, n2):\n",
        "    \"\"\" Adding two numbers :) \"\"\"\n",
        "    import pdb; pdb.set_trace()\n",
        "    answer = n1 + n2\n",
        "    return answer\n",
        "\n",
        "def divide_numbers(n1, n2):\n",
        "    \"\"\" Dividing two numbers :) \"\"\"\n",
        "    answer = n1 / n2\n",
        "    return answer\n",
        "\n",
        "def call_add(n1, n2):\n",
        "    result = add_numbers(n1, n2)\n",
        "    return result"
      ],
      "execution_count": null,
      "outputs": []
    },
    {
      "cell_type": "code",
      "metadata": {
        "id": "HsswDwCStbVr",
        "outputId": "e529be9b-2876-4310-cd95-3a1a4898d05b"
      },
      "source": [
        "add_numbers(2, 3)"
      ],
      "execution_count": null,
      "outputs": [
        {
          "output_type": "stream",
          "text": [
            "> \u001b[0;32m<ipython-input-8-fe1a2a429b59>\u001b[0m(4)\u001b[0;36madd_numbers\u001b[0;34m()\u001b[0m\n",
            "\u001b[0;32m      2 \u001b[0;31m    \u001b[0;34m\"\"\" Adding two numbers :) \"\"\"\u001b[0m\u001b[0;34m\u001b[0m\u001b[0;34m\u001b[0m\u001b[0m\n",
            "\u001b[0m\u001b[0;32m      3 \u001b[0;31m    \u001b[0;32mimport\u001b[0m \u001b[0mpdb\u001b[0m\u001b[0;34m;\u001b[0m \u001b[0mpdb\u001b[0m\u001b[0;34m.\u001b[0m\u001b[0mset_trace\u001b[0m\u001b[0;34m(\u001b[0m\u001b[0;34m)\u001b[0m\u001b[0;34m\u001b[0m\u001b[0;34m\u001b[0m\u001b[0m\n",
            "\u001b[0m\u001b[0;32m----> 4 \u001b[0;31m    \u001b[0manswer\u001b[0m \u001b[0;34m=\u001b[0m \u001b[0mn1\u001b[0m \u001b[0;34m+\u001b[0m \u001b[0mn2\u001b[0m\u001b[0;34m\u001b[0m\u001b[0;34m\u001b[0m\u001b[0m\n",
            "\u001b[0m\u001b[0;32m      5 \u001b[0;31m    \u001b[0;32mreturn\u001b[0m \u001b[0manswer\u001b[0m\u001b[0;34m\u001b[0m\u001b[0;34m\u001b[0m\u001b[0m\n",
            "\u001b[0m\u001b[0;32m      6 \u001b[0;31m\u001b[0;34m\u001b[0m\u001b[0m\n",
            "\u001b[0m\n",
            "ipdb> c\n"
          ],
          "name": "stdout"
        },
        {
          "output_type": "execute_result",
          "data": {
            "text/plain": [
              "5"
            ]
          },
          "metadata": {
            "tags": []
          },
          "execution_count": 9
        }
      ]
    },
    {
      "cell_type": "code",
      "metadata": {
        "id": "DWKbIwvhtbVr",
        "outputId": "9546b655-f685-4e5f-80b8-f4f3c32a8735"
      },
      "source": [
        "# Debug magic: %debug\n",
        "# divide_numbers(10, 2)\n",
        "divide_numbers(10, 0)"
      ],
      "execution_count": null,
      "outputs": [
        {
          "output_type": "error",
          "ename": "ZeroDivisionError",
          "evalue": "division by zero",
          "traceback": [
            "\u001b[0;31m---------------------------------------------------------------------------\u001b[0m",
            "\u001b[0;31mZeroDivisionError\u001b[0m                         Traceback (most recent call last)",
            "\u001b[0;32m<ipython-input-10-7a619002f584>\u001b[0m in \u001b[0;36m<module>\u001b[0;34m\u001b[0m\n\u001b[1;32m      1\u001b[0m \u001b[0;31m# Debug magic: %debug\u001b[0m\u001b[0;34m\u001b[0m\u001b[0;34m\u001b[0m\u001b[0;34m\u001b[0m\u001b[0m\n\u001b[1;32m      2\u001b[0m \u001b[0;31m# divide_numbers(10, 2)\u001b[0m\u001b[0;34m\u001b[0m\u001b[0;34m\u001b[0m\u001b[0;34m\u001b[0m\u001b[0m\n\u001b[0;32m----> 3\u001b[0;31m \u001b[0mdivide_numbers\u001b[0m\u001b[0;34m(\u001b[0m\u001b[0;36m10\u001b[0m\u001b[0;34m,\u001b[0m \u001b[0;36m0\u001b[0m\u001b[0;34m)\u001b[0m\u001b[0;34m\u001b[0m\u001b[0;34m\u001b[0m\u001b[0m\n\u001b[0m",
            "\u001b[0;32m<ipython-input-8-fe1a2a429b59>\u001b[0m in \u001b[0;36mdivide_numbers\u001b[0;34m(n1, n2)\u001b[0m\n\u001b[1;32m      7\u001b[0m \u001b[0;32mdef\u001b[0m \u001b[0mdivide_numbers\u001b[0m\u001b[0;34m(\u001b[0m\u001b[0mn1\u001b[0m\u001b[0;34m,\u001b[0m \u001b[0mn2\u001b[0m\u001b[0;34m)\u001b[0m\u001b[0;34m:\u001b[0m\u001b[0;34m\u001b[0m\u001b[0;34m\u001b[0m\u001b[0m\n\u001b[1;32m      8\u001b[0m     \u001b[0;34m\"\"\" Dividing two numbers :) \"\"\"\u001b[0m\u001b[0;34m\u001b[0m\u001b[0;34m\u001b[0m\u001b[0m\n\u001b[0;32m----> 9\u001b[0;31m     \u001b[0manswer\u001b[0m \u001b[0;34m=\u001b[0m \u001b[0mn1\u001b[0m \u001b[0;34m/\u001b[0m \u001b[0mn2\u001b[0m\u001b[0;34m\u001b[0m\u001b[0;34m\u001b[0m\u001b[0m\n\u001b[0m\u001b[1;32m     10\u001b[0m     \u001b[0;32mreturn\u001b[0m \u001b[0manswer\u001b[0m\u001b[0;34m\u001b[0m\u001b[0;34m\u001b[0m\u001b[0m\n\u001b[1;32m     11\u001b[0m \u001b[0;34m\u001b[0m\u001b[0m\n",
            "\u001b[0;31mZeroDivisionError\u001b[0m: division by zero"
          ]
        }
      ]
    },
    {
      "cell_type": "code",
      "metadata": {
        "id": "VWUaz_CItbVs",
        "outputId": "11d10036-9c0e-4621-dc00-5aa6099cdfa7"
      },
      "source": [
        "%debug"
      ],
      "execution_count": null,
      "outputs": [
        {
          "output_type": "stream",
          "text": [
            "> \u001b[0;32m<ipython-input-8-fe1a2a429b59>\u001b[0m(9)\u001b[0;36mdivide_numbers\u001b[0;34m()\u001b[0m\n",
            "\u001b[0;32m      7 \u001b[0;31m\u001b[0;32mdef\u001b[0m \u001b[0mdivide_numbers\u001b[0m\u001b[0;34m(\u001b[0m\u001b[0mn1\u001b[0m\u001b[0;34m,\u001b[0m \u001b[0mn2\u001b[0m\u001b[0;34m)\u001b[0m\u001b[0;34m:\u001b[0m\u001b[0;34m\u001b[0m\u001b[0;34m\u001b[0m\u001b[0m\n",
            "\u001b[0m\u001b[0;32m      8 \u001b[0;31m    \u001b[0;34m\"\"\" Dividing two numbers :) \"\"\"\u001b[0m\u001b[0;34m\u001b[0m\u001b[0;34m\u001b[0m\u001b[0m\n",
            "\u001b[0m\u001b[0;32m----> 9 \u001b[0;31m    \u001b[0manswer\u001b[0m \u001b[0;34m=\u001b[0m \u001b[0mn1\u001b[0m \u001b[0;34m/\u001b[0m \u001b[0mn2\u001b[0m\u001b[0;34m\u001b[0m\u001b[0;34m\u001b[0m\u001b[0m\n",
            "\u001b[0m\u001b[0;32m     10 \u001b[0;31m    \u001b[0;32mreturn\u001b[0m \u001b[0manswer\u001b[0m\u001b[0;34m\u001b[0m\u001b[0;34m\u001b[0m\u001b[0m\n",
            "\u001b[0m\u001b[0;32m     11 \u001b[0;31m\u001b[0;34m\u001b[0m\u001b[0m\n",
            "\u001b[0m\n",
            "ipdb> c\n"
          ],
          "name": "stdout"
        }
      ]
    },
    {
      "cell_type": "code",
      "metadata": {
        "id": "mAg-vREltbVs"
      },
      "source": [
        ""
      ],
      "execution_count": null,
      "outputs": []
    },
    {
      "cell_type": "code",
      "metadata": {
        "id": "lQTy2LSytbVs"
      },
      "source": [
        ""
      ],
      "execution_count": null,
      "outputs": []
    },
    {
      "cell_type": "markdown",
      "metadata": {
        "id": "kyKdNYn2tbVs"
      },
      "source": [
        "### Plotting and Visualization"
      ]
    },
    {
      "cell_type": "code",
      "metadata": {
        "id": "1t3vvzXJtbVt",
        "outputId": "bb7575fa-d668-4f7b-f1c5-26158b648717"
      },
      "source": [
        "%matplotlib inline\n",
        "\n",
        "import matplotlib.pyplot as plt\n",
        "import numpy as np\n",
        "import scipy.misc\n",
        "\n",
        "print(np.__version__)"
      ],
      "execution_count": null,
      "outputs": [
        {
          "output_type": "error",
          "ename": "ModuleNotFoundError",
          "evalue": "No module named 'scipy'",
          "traceback": [
            "\u001b[0;31m---------------------------------------------------------------------------\u001b[0m",
            "\u001b[0;31mModuleNotFoundError\u001b[0m                       Traceback (most recent call last)",
            "\u001b[0;32m<ipython-input-12-1dde41a0ec57>\u001b[0m in \u001b[0;36m<module>\u001b[0;34m\u001b[0m\n\u001b[1;32m      3\u001b[0m \u001b[0;32mimport\u001b[0m \u001b[0mmatplotlib\u001b[0m\u001b[0;34m.\u001b[0m\u001b[0mpyplot\u001b[0m \u001b[0;32mas\u001b[0m \u001b[0mplt\u001b[0m\u001b[0;34m\u001b[0m\u001b[0;34m\u001b[0m\u001b[0m\n\u001b[1;32m      4\u001b[0m \u001b[0;32mimport\u001b[0m \u001b[0mnumpy\u001b[0m \u001b[0;32mas\u001b[0m \u001b[0mnp\u001b[0m\u001b[0;34m\u001b[0m\u001b[0;34m\u001b[0m\u001b[0m\n\u001b[0;32m----> 5\u001b[0;31m \u001b[0;32mimport\u001b[0m \u001b[0mscipy\u001b[0m\u001b[0;34m.\u001b[0m\u001b[0mmisc\u001b[0m\u001b[0;34m\u001b[0m\u001b[0;34m\u001b[0m\u001b[0m\n\u001b[0m\u001b[1;32m      6\u001b[0m \u001b[0;34m\u001b[0m\u001b[0m\n\u001b[1;32m      7\u001b[0m \u001b[0mprint\u001b[0m\u001b[0;34m(\u001b[0m\u001b[0mnp\u001b[0m\u001b[0;34m.\u001b[0m\u001b[0m__version__\u001b[0m\u001b[0;34m)\u001b[0m\u001b[0;34m\u001b[0m\u001b[0;34m\u001b[0m\u001b[0m\n",
            "\u001b[0;31mModuleNotFoundError\u001b[0m: No module named 'scipy'"
          ]
        }
      ]
    },
    {
      "cell_type": "code",
      "metadata": {
        "id": "MU6avnlGtbVt"
      },
      "source": [
        "a = scipy.misc.face()\n",
        "print(a.shape)\n",
        "# plt.imshow(a[:,:,0])\n",
        "plt.imshow(a[:,:,0], cmap=plt.cm.gray)\n",
        "plt.colorbar()\n",
        "plt.show()"
      ],
      "execution_count": null,
      "outputs": []
    },
    {
      "cell_type": "code",
      "metadata": {
        "id": "WWp8FpSitbVt",
        "outputId": "fdd2aa8a-f9c5-4411-f9b0-1a008452d26d"
      },
      "source": [
        "#OPENCV\n",
        "import cv2\n",
        "\n",
        "cap = cv2.VideoCapture(0)\n",
        "\n",
        "# Capture frame-by-frame\n",
        "ret, frame = cap.read()\n",
        "\n",
        "# Our operations on the frame come here\n",
        "gray = cv2.cvtColor(frame, cv2.COLOR_BGR2GRAY)\n",
        "plt.imshow(gray,cmap=plt.cm.gray)\n",
        "\n",
        "# When everything done, release the capture\n",
        "cap.release()\n",
        "cv2.destroyAllWindows()"
      ],
      "execution_count": null,
      "outputs": [
        {
          "output_type": "error",
          "ename": "error",
          "evalue": "OpenCV(4.5.1) /tmp/pip-req-build-jr1ur_cf/opencv/modules/imgproc/src/color.cpp:182: error: (-215:Assertion failed) !_src.empty() in function 'cvtColor'\n",
          "traceback": [
            "\u001b[0;31m---------------------------------------------------------------------------\u001b[0m",
            "\u001b[0;31merror\u001b[0m                                     Traceback (most recent call last)",
            "\u001b[0;32m<ipython-input-13-7153834e6f98>\u001b[0m in \u001b[0;36m<module>\u001b[0;34m\u001b[0m\n\u001b[1;32m      8\u001b[0m \u001b[0;34m\u001b[0m\u001b[0m\n\u001b[1;32m      9\u001b[0m \u001b[0;31m# Our operations on the frame come here\u001b[0m\u001b[0;34m\u001b[0m\u001b[0;34m\u001b[0m\u001b[0;34m\u001b[0m\u001b[0m\n\u001b[0;32m---> 10\u001b[0;31m \u001b[0mgray\u001b[0m \u001b[0;34m=\u001b[0m \u001b[0mcv2\u001b[0m\u001b[0;34m.\u001b[0m\u001b[0mcvtColor\u001b[0m\u001b[0;34m(\u001b[0m\u001b[0mframe\u001b[0m\u001b[0;34m,\u001b[0m \u001b[0mcv2\u001b[0m\u001b[0;34m.\u001b[0m\u001b[0mCOLOR_BGR2GRAY\u001b[0m\u001b[0;34m)\u001b[0m\u001b[0;34m\u001b[0m\u001b[0;34m\u001b[0m\u001b[0m\n\u001b[0m\u001b[1;32m     11\u001b[0m \u001b[0mplt\u001b[0m\u001b[0;34m.\u001b[0m\u001b[0mimshow\u001b[0m\u001b[0;34m(\u001b[0m\u001b[0mgray\u001b[0m\u001b[0;34m,\u001b[0m\u001b[0mcmap\u001b[0m\u001b[0;34m=\u001b[0m\u001b[0mplt\u001b[0m\u001b[0;34m.\u001b[0m\u001b[0mcm\u001b[0m\u001b[0;34m.\u001b[0m\u001b[0mgray\u001b[0m\u001b[0;34m)\u001b[0m\u001b[0;34m\u001b[0m\u001b[0;34m\u001b[0m\u001b[0m\n\u001b[1;32m     12\u001b[0m \u001b[0;34m\u001b[0m\u001b[0m\n",
            "\u001b[0;31merror\u001b[0m: OpenCV(4.5.1) /tmp/pip-req-build-jr1ur_cf/opencv/modules/imgproc/src/color.cpp:182: error: (-215:Assertion failed) !_src.empty() in function 'cvtColor'\n"
          ]
        }
      ]
    },
    {
      "cell_type": "code",
      "metadata": {
        "id": "DhZT5aP7tbVt",
        "outputId": "1d5d09b8-4d36-4bee-d3c3-2ca1ef60be03"
      },
      "source": [
        "# Create an array of 50 values for x equally spaced from -5 to 5. \n",
        "x = np.linspace(start=-5, stop=5.0, num=50)\n",
        "# x2 = np.arange(start=-5, stop=5.0, step=0.2)\n",
        "# print( np.linalg.norm(x-x2) )\n",
        "\n",
        "y = x**2\n",
        "\n",
        "# Plot y versus x\n",
        "fig, ax = plt.subplots(nrows=1, ncols=1)\n",
        "ax.plot(x, y, color='red')\n",
        "ax.set_xlabel('x')\n",
        "ax.set_ylabel('y')\n",
        "ax.set_title('A simple graph of $y=x^2$');"
      ],
      "execution_count": null,
      "outputs": [
        {
          "output_type": "display_data",
          "data": {
            "image/png": "[encoded data removed]",
            "text/plain": [
              "<Figure size 432x288 with 1 Axes>"
            ]
          },
          "metadata": {
            "tags": [],
            "needs_background": "light"
          }
        }
      ]
    },
    {
      "cell_type": "code",
      "metadata": {
        "id": "FNol8S0ttbVu",
        "outputId": "7121fdd0-9abf-42ba-f17e-4eb51e042ccf"
      },
      "source": [
        "x = np.linspace(start=-2*np.pi, stop=2*np.pi, num=50)\n",
        "y = np.sin(x)\n",
        "\n",
        "# Plot y versus x\n",
        "fig, ax = plt.subplots(nrows=1, ncols=1)\n",
        "ax.plot(x, y, color='blue')\n",
        "ax.set_xlabel('x')\n",
        "ax.set_ylabel('y')\n",
        "\n",
        "# xticks = [-2*np.pi + i*np.pi/2 for i in range(8)]\n",
        "# ax.set_xticks(xticks)\n",
        "# xlabels = [\"$-2\\pi$\", \"$-3\\pi/2$\", \"$-\\pi$\", \"$-\\pi\\2$\",\n",
        "#            \"$0$\", \"$\\pi/2$\", \"$\\pi$\", \"$3\\pi/2$\"]\n",
        "# ax.set_xticklabels(xlabels)\n",
        "\n",
        "ax.set_title('A simple graph of $y=\\sin(x)$');"
      ],
      "execution_count": null,
      "outputs": [
        {
          "output_type": "display_data",
          "data": {
            "image/png": "[encoded data removed]",
            "text/plain": [
              "<Figure size 432x288 with 1 Axes>"
            ]
          },
          "metadata": {
            "tags": [],
            "needs_background": "light"
          }
        }
      ]
    },
    {
      "cell_type": "markdown",
      "metadata": {
        "id": "Z0GM3K0HtbVu"
      },
      "source": [
        "Above, you should see a plot of $y=x^2$.\n",
        "\n",
        "You can edit this code and re-run it. For a list of valid functions, see the [NumPy Reference Manual](http://docs.scipy.org/doc/numpy/reference/routines.math.html). You can also update the plot title and axis labels.\n",
        "\n",
        "Text in the plot as well as narrative text in the notebook can contain equations that are formatted using $\\LaTeX$. To edit text written in $\\LaTeX$, double click on the text or press `ENTER` when the text is selected."
      ]
    },
    {
      "cell_type": "code",
      "metadata": {
        "id": "bC7NmcyAtbVu",
        "outputId": "73ee026f-3205-4a0a-fa4a-6a4249bda8b3"
      },
      "source": [
        "x = np.linspace(start=-3, stop=5, num=50)\n",
        "y1 = x**2 - 2*x + 1\n",
        "y2 = 2*x - 2\n",
        "\n",
        "# Object Oriented Matplotlib\n",
        "fig, ax = plt.subplots(1,3)\n",
        "fig.set_size_inches(12, 4)\n",
        "ax[0].plot(x, y1)\n",
        "ax[0].set_title(\"Quadratic Function: $x^2 - 2x + 1$\")\n",
        "ax[1].plot(x, y2)\n",
        "ax[1].set_title(\"Derivative: $2x - 2$\")\n",
        "ax[2].plot(x, y1, label=\"Quadratic Function\")\n",
        "ax[2].plot(x, y2, label=\"Derivative\")\n",
        "ax[2].legend(loc=\"best\")\n",
        "ax[2].set_title(\"Both Graphs\")\n",
        "plt.tight_layout()\n",
        "plt.show()"
      ],
      "execution_count": null,
      "outputs": [
        {
          "output_type": "display_data",
          "data": {
            "image/png": "[encoded data removed]",
            "text/plain": [
              "<Figure size 864x288 with 3 Axes>"
            ]
          },
          "metadata": {
            "tags": [],
            "needs_background": "light"
          }
        }
      ]
    },
    {
      "cell_type": "markdown",
      "metadata": {
        "id": "8u9Kr9Z7tbVv"
      },
      "source": [
        "# ------------------------------------------------------------------------------------------------------------"
      ]
    },
    {
      "cell_type": "markdown",
      "metadata": {
        "id": "SCpfgugJtbVv"
      },
      "source": [
        "\n",
        "# 2. What is PyTorch?\n",
        "================\n",
        "\n",
        "It’s a Python based scientific computing package targeted at two sets of\n",
        "audiences:\n",
        "\n",
        "-  A replacement for numpy to use the power of GPUs\n",
        "-  a deep learning research platform that provides maximum flexibility\n",
        "   and speed\n",
        "   \n",
        "#### https://pytorch.org/docs/stable/index.html\n",
        "#### https://pytorch.org/vision/stable/index.html\n",
        "\n",
        "Getting Started\n",
        "---------------\n",
        "### Tensor\n",
        "\n",
        "Tensors are similar to numpy’s ndarrays, with the addition being that\n",
        "Tensors can also be used on a GPU to accelerate computing.\n",
        "\n"
      ]
    },
    {
      "cell_type": "code",
      "metadata": {
        "id": "yFG8DAdBtbVw",
        "outputId": "9b71c581-193d-4b74-a92f-4f721cf72403"
      },
      "source": [
        "import torch\n",
        "print(torch.__version__)"
      ],
      "execution_count": null,
      "outputs": [
        {
          "output_type": "stream",
          "text": [
            "1.8.1\n"
          ],
          "name": "stdout"
        }
      ]
    },
    {
      "cell_type": "markdown",
      "metadata": {
        "id": "pQbF8PfDtbVx"
      },
      "source": [
        "Construct a 5x3 matrix, uninitialized:\n",
        "\n"
      ]
    },
    {
      "cell_type": "code",
      "metadata": {
        "id": "uN-nGURttbVx",
        "outputId": "b513ece8-32b5-43e9-9035-d8f3cfcae3b2"
      },
      "source": [
        "x = torch.Tensor(5, 3)\n",
        "print(x)"
      ],
      "execution_count": null,
      "outputs": [
        {
          "output_type": "stream",
          "text": [
            "tensor([[0., 0., 0.],\n",
            "        [0., 0., 0.],\n",
            "        [0., 0., 0.],\n",
            "        [0., 0., 0.],\n",
            "        [0., 0., 0.]])\n"
          ],
          "name": "stdout"
        }
      ]
    },
    {
      "cell_type": "code",
      "metadata": {
        "id": "kzuYJlPstbVx",
        "outputId": "aea6ebcd-368e-483b-9833-940a1effd566"
      },
      "source": [
        "x = torch.empty(5, 3)\n",
        "print(x)"
      ],
      "execution_count": null,
      "outputs": [
        {
          "output_type": "stream",
          "text": [
            "tensor([[6.2608e+22, 4.7428e+30, 1.3556e-19],\n",
            "        [1.7753e+28, 3.0579e+32, 1.8469e+25],\n",
            "        [1.6458e+19, 4.7284e+27, 2.9514e+29],\n",
            "        [1.0806e+27, 4.1580e+21, 6.2618e+22],\n",
            "        [4.7428e+30, 2.9514e+29, 1.4607e-19]])\n"
          ],
          "name": "stdout"
        }
      ]
    },
    {
      "cell_type": "code",
      "metadata": {
        "id": "q-B-A-TWtbVx",
        "outputId": "fb319710-2fce-4111-c728-0a0c35d99ee2"
      },
      "source": [
        "#Construct a matrix filled zeros and of dtype long:\n",
        "x = torch.zeros(5, 3, dtype=torch.long)\n",
        "print(x)"
      ],
      "execution_count": null,
      "outputs": [
        {
          "output_type": "stream",
          "text": [
            "tensor([[0, 0, 0],\n",
            "        [0, 0, 0],\n",
            "        [0, 0, 0],\n",
            "        [0, 0, 0],\n",
            "        [0, 0, 0]])\n"
          ],
          "name": "stdout"
        }
      ]
    },
    {
      "cell_type": "code",
      "metadata": {
        "id": "cB_J0rKStbVy",
        "outputId": "63865197-a51d-4773-ade4-b63da79f78b4"
      },
      "source": [
        "#Construct a tensor directly from data:\n",
        "x = torch.tensor([[5.5, 3],[1,2]])\n",
        "print(x)"
      ],
      "execution_count": null,
      "outputs": [
        {
          "output_type": "stream",
          "text": [
            "tensor([[5.5000, 3.0000],\n",
            "        [1.0000, 2.0000]])\n"
          ],
          "name": "stdout"
        }
      ]
    },
    {
      "cell_type": "code",
      "metadata": {
        "id": "Ga28dKoqtbVy",
        "outputId": "fc07f17b-ac1e-4211-9ff2-e0b967580040"
      },
      "source": [
        "#copy by reference\n",
        "xtmp = x\n",
        "xtmp[0,0] = 9\n",
        "print(xtmp)\n",
        "print(x)"
      ],
      "execution_count": null,
      "outputs": [
        {
          "output_type": "stream",
          "text": [
            "tensor([[9., 3.],\n",
            "        [1., 2.]])\n",
            "tensor([[9., 3.],\n",
            "        [1., 2.]])\n"
          ],
          "name": "stdout"
        }
      ]
    },
    {
      "cell_type": "code",
      "metadata": {
        "id": "mzMQw_a6tbVy",
        "outputId": "dbba83b0-c58b-4d6e-bd49-94d47d4391d9"
      },
      "source": [
        "xtmp = x.clone()\n",
        "xtmp[0]=7\n",
        "print(xtmp)\n",
        "print(x)"
      ],
      "execution_count": null,
      "outputs": [
        {
          "output_type": "stream",
          "text": [
            "tensor([[7., 7.],\n",
            "        [1., 2.]])\n",
            "tensor([[9., 3.],\n",
            "        [1., 2.]])\n"
          ],
          "name": "stdout"
        }
      ]
    },
    {
      "cell_type": "markdown",
      "metadata": {
        "id": "Ru1XmRiHtbVy"
      },
      "source": [
        "Construct a randomly initialized matrix\n",
        "\n"
      ]
    },
    {
      "cell_type": "code",
      "metadata": {
        "id": "Ra170wQItbVz",
        "outputId": "9cefda1f-d174-4ae9-98a8-fa90b9683d2d"
      },
      "source": [
        "x = torch.randn(3,3)\n",
        "print(x)"
      ],
      "execution_count": null,
      "outputs": [
        {
          "output_type": "stream",
          "text": [
            "tensor([[ 1.2160,  1.1676, -0.3795],\n",
            "        [-0.6654,  0.7361, -0.3995],\n",
            "        [-1.4930, -0.5999,  0.3992]])\n"
          ],
          "name": "stdout"
        }
      ]
    },
    {
      "cell_type": "code",
      "metadata": {
        "id": "fLV_6CKitbVz",
        "outputId": "7cb4db33-8324-4d62-bba5-fd952139787b"
      },
      "source": [
        "x = torch.randint(low=-5, high=5, size=(3,3))\n",
        "print(x)\n",
        "print(x.float())"
      ],
      "execution_count": null,
      "outputs": [
        {
          "output_type": "stream",
          "text": [
            "tensor([[-1,  3,  4],\n",
            "        [ 0, -1, -3],\n",
            "        [ 4,  1,  3]])\n",
            "tensor([[-1.,  3.,  4.],\n",
            "        [ 0., -1., -3.],\n",
            "        [ 4.,  1.,  3.]])\n"
          ],
          "name": "stdout"
        }
      ]
    },
    {
      "cell_type": "markdown",
      "metadata": {
        "id": "m02J2TJ0tbVz"
      },
      "source": [
        "#### Get the current default floating point torch.dtype"
      ]
    },
    {
      "cell_type": "code",
      "metadata": {
        "id": "_gYwANlytbVz",
        "outputId": "54c5dcf5-f910-4f9a-e80a-94234939fdaa"
      },
      "source": [
        "torch.get_default_dtype()"
      ],
      "execution_count": null,
      "outputs": [
        {
          "output_type": "execute_result",
          "data": {
            "text/plain": [
              "torch.float32"
            ]
          },
          "metadata": {
            "tags": []
          },
          "execution_count": 26
        }
      ]
    },
    {
      "cell_type": "markdown",
      "metadata": {
        "id": "xtQv8w3QtbVz"
      },
      "source": [
        "#### default dtype for a tensor can only be a float type"
      ]
    },
    {
      "cell_type": "code",
      "metadata": {
        "id": "YvIteRoEtbV0",
        "outputId": "eab04cf1-0086-4859-d41f-dc9cb4870880"
      },
      "source": [
        "torch.set_default_dtype(torch.int)"
      ],
      "execution_count": null,
      "outputs": [
        {
          "output_type": "error",
          "ename": "TypeError",
          "evalue": "only floating-point types are supported as the default type",
          "traceback": [
            "\u001b[0;31m---------------------------------------------------------------------------\u001b[0m",
            "\u001b[0;31mTypeError\u001b[0m                                 Traceback (most recent call last)",
            "\u001b[0;32m<ipython-input-27-52038df6b50f>\u001b[0m in \u001b[0;36m<module>\u001b[0;34m\u001b[0m\n\u001b[0;32m----> 1\u001b[0;31m \u001b[0mtorch\u001b[0m\u001b[0;34m.\u001b[0m\u001b[0mset_default_dtype\u001b[0m\u001b[0;34m(\u001b[0m\u001b[0mtorch\u001b[0m\u001b[0;34m.\u001b[0m\u001b[0mint\u001b[0m\u001b[0;34m)\u001b[0m\u001b[0;34m\u001b[0m\u001b[0;34m\u001b[0m\u001b[0m\n\u001b[0m",
            "\u001b[0;32m~/anaconda3/envs/CudaLab/lib/python3.8/site-packages/torch/__init__.py\u001b[0m in \u001b[0;36mset_default_dtype\u001b[0;34m(d)\u001b[0m\n\u001b[1;32m    330\u001b[0m \u001b[0;34m\u001b[0m\u001b[0m\n\u001b[1;32m    331\u001b[0m     \"\"\"\n\u001b[0;32m--> 332\u001b[0;31m     \u001b[0m_C\u001b[0m\u001b[0;34m.\u001b[0m\u001b[0m_set_default_dtype\u001b[0m\u001b[0;34m(\u001b[0m\u001b[0md\u001b[0m\u001b[0;34m)\u001b[0m\u001b[0;34m\u001b[0m\u001b[0;34m\u001b[0m\u001b[0m\n\u001b[0m\u001b[1;32m    333\u001b[0m \u001b[0;34m\u001b[0m\u001b[0m\n\u001b[1;32m    334\u001b[0m \u001b[0;32mdef\u001b[0m \u001b[0muse_deterministic_algorithms\u001b[0m\u001b[0;34m(\u001b[0m\u001b[0md\u001b[0m\u001b[0;34m)\u001b[0m\u001b[0;34m:\u001b[0m\u001b[0;34m\u001b[0m\u001b[0;34m\u001b[0m\u001b[0m\n",
            "\u001b[0;31mTypeError\u001b[0m: only floating-point types are supported as the default type"
          ]
        }
      ]
    },
    {
      "cell_type": "markdown",
      "metadata": {
        "id": "tBPfRCRotbV0"
      },
      "source": [
        "#### The default floating point dtype is initially torch.float32\n",
        "#### Set the default floating point to torch.float64"
      ]
    },
    {
      "cell_type": "code",
      "metadata": {
        "id": "NtlbJG5htbV0"
      },
      "source": [
        "torch.set_default_dtype(torch.float64)"
      ],
      "execution_count": null,
      "outputs": []
    },
    {
      "cell_type": "code",
      "metadata": {
        "id": "L4w52I7PtbV0",
        "outputId": "c8341acb-e27c-48c8-eebf-75b578a49711"
      },
      "source": [
        "torch.get_default_dtype()"
      ],
      "execution_count": null,
      "outputs": [
        {
          "output_type": "execute_result",
          "data": {
            "text/plain": [
              "torch.float64"
            ]
          },
          "metadata": {
            "tags": []
          },
          "execution_count": 29
        }
      ]
    },
    {
      "cell_type": "markdown",
      "metadata": {
        "id": "HQ2o3znPtbV0"
      },
      "source": [
        "## Creating Tensors"
      ]
    },
    {
      "cell_type": "code",
      "metadata": {
        "id": "KU6C1OzntbV1",
        "outputId": "2e54f1b7-65cc-4f50-d019-927195c670e4"
      },
      "source": [
        "tensor_arr = torch.Tensor([[1,2,3], [4,5,6]])\n",
        "tensor_arr"
      ],
      "execution_count": null,
      "outputs": [
        {
          "output_type": "execute_result",
          "data": {
            "text/plain": [
              "tensor([[1., 2., 3.],\n",
              "        [4., 5., 6.]])"
            ]
          },
          "metadata": {
            "tags": []
          },
          "execution_count": 30
        }
      ]
    },
    {
      "cell_type": "code",
      "metadata": {
        "id": "bXb1EuDxtbV1",
        "outputId": "4fd78a1d-d4f3-4eb1-88ad-f6506c138699"
      },
      "source": [
        "torch.is_tensor(tensor_arr)"
      ],
      "execution_count": null,
      "outputs": [
        {
          "output_type": "execute_result",
          "data": {
            "text/plain": [
              "True"
            ]
          },
          "metadata": {
            "tags": []
          },
          "execution_count": 31
        }
      ]
    },
    {
      "cell_type": "markdown",
      "metadata": {
        "id": "sButpkHrtbV1"
      },
      "source": [
        "#### numel() returns the number of elements in a tensor"
      ]
    },
    {
      "cell_type": "code",
      "metadata": {
        "id": "8zpk7cpqtbV1",
        "outputId": "453a758b-2919-4128-875d-b0cfd632e1cc"
      },
      "source": [
        "torch.numel(tensor_arr)"
      ],
      "execution_count": null,
      "outputs": [
        {
          "output_type": "execute_result",
          "data": {
            "text/plain": [
              "6"
            ]
          },
          "metadata": {
            "tags": []
          },
          "execution_count": 32
        }
      ]
    },
    {
      "cell_type": "code",
      "metadata": {
        "id": "W5WHydTRtbV2",
        "outputId": "1344dae2-67d3-4b94-a590-a9dad58f7298"
      },
      "source": [
        "tensor_arr.shape"
      ],
      "execution_count": null,
      "outputs": [
        {
          "output_type": "execute_result",
          "data": {
            "text/plain": [
              "torch.Size([2, 3])"
            ]
          },
          "metadata": {
            "tags": []
          },
          "execution_count": 33
        }
      ]
    },
    {
      "cell_type": "markdown",
      "metadata": {
        "id": "7-WTY3FwtbV2"
      },
      "source": [
        "## Torch Tensor Datatypes\n",
        "Tensors can be set to have specific data types"
      ]
    },
    {
      "cell_type": "code",
      "metadata": {
        "id": "5L3Up9kZtbV2",
        "outputId": "b8f8d065-cadb-41d7-df78-8c0c847c5f1e"
      },
      "source": [
        "tensor_int = torch.tensor([5, 3]).type(torch.IntTensor) #This is on CPU if you want it on GPU you can use torch.cuda.IntTensor\n",
        "tensor_int"
      ],
      "execution_count": null,
      "outputs": [
        {
          "output_type": "execute_result",
          "data": {
            "text/plain": [
              "tensor([5, 3], dtype=torch.int32)"
            ]
          },
          "metadata": {
            "tags": []
          },
          "execution_count": 34
        }
      ]
    },
    {
      "cell_type": "markdown",
      "metadata": {
        "id": "z0FXrCwxtbV2"
      },
      "source": [
        "#### A Tensor of type short"
      ]
    },
    {
      "cell_type": "code",
      "metadata": {
        "id": "PJ-411IqtbV3",
        "outputId": "72b7cc8e-1076-4f65-dc0a-636c9f157c45"
      },
      "source": [
        "tensor_short = torch.tensor([1.0, 2.0, 3.0], dtype=torch.int16)   \n",
        "tensor_short"
      ],
      "execution_count": null,
      "outputs": [
        {
          "output_type": "stream",
          "text": [
            "<ipython-input-35-354825153af6>:1: DeprecationWarning: an integer is required (got type float).  Implicit conversion to integers using __int__ is deprecated, and may be removed in a future version of Python.\n",
            "  tensor_short = torch.tensor([1.0, 2.0, 3.0], dtype=torch.int16)\n"
          ],
          "name": "stderr"
        },
        {
          "output_type": "execute_result",
          "data": {
            "text/plain": [
              "tensor([1, 2, 3], dtype=torch.int16)"
            ]
          },
          "metadata": {
            "tags": []
          },
          "execution_count": 35
        }
      ]
    },
    {
      "cell_type": "markdown",
      "metadata": {
        "id": "KIm2anNXtbV3"
      },
      "source": [
        "#### A Tensor of type float half (float16)"
      ]
    },
    {
      "cell_type": "code",
      "metadata": {
        "id": "VS5uvkMFtbV5",
        "outputId": "7ac7f54e-83dc-46b9-8695-8793541ed593"
      },
      "source": [
        "tensor_float = torch.tensor([1.0, 2.0, 3.0]).type(torch.half)\n",
        "tensor_float"
      ],
      "execution_count": null,
      "outputs": [
        {
          "output_type": "execute_result",
          "data": {
            "text/plain": [
              "tensor([1., 2., 3.], dtype=torch.float16)"
            ]
          },
          "metadata": {
            "tags": []
          },
          "execution_count": 36
        }
      ]
    },
    {
      "cell_type": "markdown",
      "metadata": {
        "id": "as1QqOgXtbV5"
      },
      "source": [
        "#### A tensor filled with a specific values\n"
      ]
    },
    {
      "cell_type": "code",
      "metadata": {
        "id": "Z0ZdxG8JtbV6",
        "outputId": "be021e40-fd16-4e92-cb5d-147993e1b70f"
      },
      "source": [
        "tensor_fill = torch.full((2, 6), fill_value=10)\n",
        "tensor_fill"
      ],
      "execution_count": null,
      "outputs": [
        {
          "output_type": "execute_result",
          "data": {
            "text/plain": [
              "tensor([[10, 10, 10, 10, 10, 10],\n",
              "        [10, 10, 10, 10, 10, 10]])"
            ]
          },
          "metadata": {
            "tags": []
          },
          "execution_count": 37
        }
      ]
    },
    {
      "cell_type": "markdown",
      "metadata": {
        "id": "xGYODOqStbV6"
      },
      "source": [
        "#### A tensor of size (2,4) containing all ones"
      ]
    },
    {
      "cell_type": "code",
      "metadata": {
        "id": "KdkqCTJ5tbV6",
        "outputId": "2520b1d9-363c-4f4c-8171-1fe686c2e7a3"
      },
      "source": [
        "tensor_of_ones = torch.ones([2, 4], dtype=torch.int32)\n",
        "tensor_of_ones"
      ],
      "execution_count": null,
      "outputs": [
        {
          "output_type": "execute_result",
          "data": {
            "text/plain": [
              "tensor([[1, 1, 1, 1],\n",
              "        [1, 1, 1, 1]], dtype=torch.int32)"
            ]
          },
          "metadata": {
            "tags": []
          },
          "execution_count": 38
        }
      ]
    },
    {
      "cell_type": "markdown",
      "metadata": {
        "id": "gWMJgmYbtbV6"
      },
      "source": [
        "#### A tensor of size (2,4) like tensor_of_ones containing all zeroes"
      ]
    },
    {
      "cell_type": "code",
      "metadata": {
        "id": "HumDw5DItbV6",
        "outputId": "7cdca171-6cd9-4424-a427-dba2b18ae9da"
      },
      "source": [
        "tensor_of_zeroes = torch.zeros_like(tensor_of_ones)\n",
        "tensor_of_zeroes"
      ],
      "execution_count": null,
      "outputs": [
        {
          "output_type": "execute_result",
          "data": {
            "text/plain": [
              "tensor([[0, 0, 0, 0],\n",
              "        [0, 0, 0, 0]], dtype=torch.int32)"
            ]
          },
          "metadata": {
            "tags": []
          },
          "execution_count": 39
        }
      ]
    },
    {
      "cell_type": "markdown",
      "metadata": {
        "id": "5uduvd0atbV7"
      },
      "source": [
        "#### Create an identity 5X5 tensor"
      ]
    },
    {
      "cell_type": "code",
      "metadata": {
        "id": "YBbeEuQctbV7",
        "outputId": "2e82465d-d7c7-43b4-ff90-44627e3f166d"
      },
      "source": [
        "tensor_eye = torch.eye(5)\n",
        "tensor_eye"
      ],
      "execution_count": null,
      "outputs": [
        {
          "output_type": "execute_result",
          "data": {
            "text/plain": [
              "tensor([[1., 0., 0., 0., 0.],\n",
              "        [0., 1., 0., 0., 0.],\n",
              "        [0., 0., 1., 0., 0.],\n",
              "        [0., 0., 0., 1., 0.],\n",
              "        [0., 0., 0., 0., 1.]])"
            ]
          },
          "metadata": {
            "tags": []
          },
          "execution_count": 40
        }
      ]
    },
    {
      "cell_type": "code",
      "metadata": {
        "id": "cjxdlC7xtbV7",
        "outputId": "aeb296c2-a9fd-4de2-cc1a-caa8e7cc356b"
      },
      "source": [
        "tensor_eye = tensor_eye.fill_diagonal_(5)\n",
        "tensor_eye"
      ],
      "execution_count": null,
      "outputs": [
        {
          "output_type": "execute_result",
          "data": {
            "text/plain": [
              "tensor([[5., 0., 0., 0., 0.],\n",
              "        [0., 5., 0., 0., 0.],\n",
              "        [0., 0., 5., 0., 0.],\n",
              "        [0., 0., 0., 5., 0.],\n",
              "        [0., 0., 0., 0., 5.]])"
            ]
          },
          "metadata": {
            "tags": []
          },
          "execution_count": 41
        }
      ]
    },
    {
      "cell_type": "markdown",
      "metadata": {
        "id": "PzHnChF-tbV7"
      },
      "source": [
        "#### Get the list of indices of non-zero elements in a tensor\n",
        "[ i, j ] index for non-zero elements"
      ]
    },
    {
      "cell_type": "code",
      "metadata": {
        "id": "xqjY6gv4tbV7",
        "outputId": "2e8c8d0e-3c89-4da0-b64b-3f39bc3b1def"
      },
      "source": [
        "non_zero = torch.nonzero(tensor_eye)\n",
        "non_zero"
      ],
      "execution_count": null,
      "outputs": [
        {
          "output_type": "execute_result",
          "data": {
            "text/plain": [
              "tensor([[0, 0],\n",
              "        [1, 1],\n",
              "        [2, 2],\n",
              "        [3, 3],\n",
              "        [4, 4]])"
            ]
          },
          "metadata": {
            "tags": []
          },
          "execution_count": 42
        }
      ]
    },
    {
      "cell_type": "markdown",
      "metadata": {
        "id": "koWH-fmZtbV8"
      },
      "source": [
        "## Sparse Tensors\n",
        "Create a sparse tensor using coordinates specified by indices and values"
      ]
    },
    {
      "cell_type": "code",
      "metadata": {
        "id": "afitZjWGtbV8"
      },
      "source": [
        "i = torch.tensor([[0, 1, 1],\n",
        "                  [2, 2, 0]])"
      ],
      "execution_count": null,
      "outputs": []
    },
    {
      "cell_type": "code",
      "metadata": {
        "id": "0DzhByzOtbV8"
      },
      "source": [
        "v = torch.tensor([3, 4, 5], dtype=torch.float32)"
      ],
      "execution_count": null,
      "outputs": []
    },
    {
      "cell_type": "code",
      "metadata": {
        "id": "WHNZWSqCtbV8"
      },
      "source": [
        "sparse_tensor = torch.sparse_coo_tensor(i, v, [2, 5])"
      ],
      "execution_count": null,
      "outputs": []
    },
    {
      "cell_type": "code",
      "metadata": {
        "id": "i1NqgpZ7tbV8",
        "outputId": "caac669b-5356-46f5-9e76-0e71f5f9e472"
      },
      "source": [
        "sparse_tensor.data"
      ],
      "execution_count": null,
      "outputs": [
        {
          "output_type": "execute_result",
          "data": {
            "text/plain": [
              "tensor(indices=tensor([[0, 1, 1],\n",
              "                       [2, 2, 0]]),\n",
              "       values=tensor([3., 4., 5.]),\n",
              "       size=(2, 5), nnz=3, dtype=torch.float32, layout=torch.sparse_coo)"
            ]
          },
          "metadata": {
            "tags": []
          },
          "execution_count": 46
        }
      ]
    },
    {
      "cell_type": "code",
      "metadata": {
        "id": "EwVW4eXwtbV9",
        "outputId": "4022c27e-875c-4adc-80f9-e7e38ad3a62d"
      },
      "source": [
        "sparse_tensor.to_dense()"
      ],
      "execution_count": null,
      "outputs": [
        {
          "output_type": "execute_result",
          "data": {
            "text/plain": [
              "tensor([[0., 0., 3., 0., 0.],\n",
              "        [5., 0., 4., 0., 0.]], dtype=torch.float32)"
            ]
          },
          "metadata": {
            "tags": []
          },
          "execution_count": 47
        }
      ]
    },
    {
      "cell_type": "markdown",
      "metadata": {
        "id": "LMYbZwMwtbV9"
      },
      "source": [
        "## Inplace / Out-of-place\n",
        "The first difference is that ALL operations on the tensor that operate in-place on it will have an \"\\_\" postfix. For example, add is the out-of-place version, and add\\_ is the in-place version."
      ]
    },
    {
      "cell_type": "markdown",
      "metadata": {
        "id": "M8sEmwOHtbV9"
      },
      "source": [
        "#### .fill_ is in-place operation and it doesnt have any out-place equivalent"
      ]
    },
    {
      "cell_type": "code",
      "metadata": {
        "id": "3kCGr5eltbV9",
        "outputId": "331e8dff-fe34-48db-9f97-434f464f14f1"
      },
      "source": [
        "initial_tensor = torch.rand(2, 3) \n",
        "\n",
        "initial_tensor"
      ],
      "execution_count": null,
      "outputs": [
        {
          "output_type": "execute_result",
          "data": {
            "text/plain": [
              "tensor([[0.6114, 0.0689, 0.8684],\n",
              "        [0.1033, 0.5397, 0.7704]])"
            ]
          },
          "metadata": {
            "tags": []
          },
          "execution_count": 48
        }
      ]
    },
    {
      "cell_type": "code",
      "metadata": {
        "id": "oFkIQnF6tbV9",
        "outputId": "1fc036ab-2e37-4c62-dd9c-4402dd4fe2e8"
      },
      "source": [
        "initial_tensor.fill_(10) "
      ],
      "execution_count": null,
      "outputs": [
        {
          "output_type": "execute_result",
          "data": {
            "text/plain": [
              "tensor([[10., 10., 10.],\n",
              "        [10., 10., 10.]])"
            ]
          },
          "metadata": {
            "tags": []
          },
          "execution_count": 49
        }
      ]
    },
    {
      "cell_type": "code",
      "metadata": {
        "id": "P876v2FrtbV-",
        "outputId": "45b7866c-9c74-4b52-f170-50059a57fbdd"
      },
      "source": [
        "# initial_tensor.fill(10) \n",
        "newT=torch.ones_like(initial_tensor)*10\n",
        "newT"
      ],
      "execution_count": null,
      "outputs": [
        {
          "output_type": "execute_result",
          "data": {
            "text/plain": [
              "tensor([[10., 10., 10.],\n",
              "        [10., 10., 10.]])"
            ]
          },
          "metadata": {
            "tags": []
          },
          "execution_count": 50
        }
      ]
    },
    {
      "cell_type": "markdown",
      "metadata": {
        "id": "r1mz_fwstbV-"
      },
      "source": [
        "#### The add() method does an out-of-place add operation and returns a new tensor\n",
        "This is assigned to the new_tensor variable"
      ]
    },
    {
      "cell_type": "code",
      "metadata": {
        "id": "EGgr6QjXtbV-",
        "outputId": "0d60a23d-bc08-4035-c957-f0c23c0caa3f"
      },
      "source": [
        "initial_tensor = torch.ones_like(initial_tensor)*10\n",
        "new_tensor = initial_tensor.add(5)\n",
        "print(new_tensor)"
      ],
      "execution_count": null,
      "outputs": [
        {
          "output_type": "stream",
          "text": [
            "tensor([[15., 15., 15.],\n",
            "        [15., 15., 15.]])\n"
          ],
          "name": "stdout"
        }
      ]
    },
    {
      "cell_type": "markdown",
      "metadata": {
        "id": "xKbZgjALtbV-"
      },
      "source": [
        "#### The original tensor is unchanged"
      ]
    },
    {
      "cell_type": "code",
      "metadata": {
        "id": "zEx3WT7ktbV-",
        "outputId": "4ca5746b-ed7c-4045-fb9a-a6fbd55ffd04"
      },
      "source": [
        "initial_tensor"
      ],
      "execution_count": null,
      "outputs": [
        {
          "output_type": "execute_result",
          "data": {
            "text/plain": [
              "tensor([[10., 10., 10.],\n",
              "        [10., 10., 10.]])"
            ]
          },
          "metadata": {
            "tags": []
          },
          "execution_count": 52
        }
      ]
    },
    {
      "cell_type": "markdown",
      "metadata": {
        "id": "9-FBk0SCtbV_"
      },
      "source": [
        "#### The add\\_ method does an in-place add, changing the calling tensor"
      ]
    },
    {
      "cell_type": "code",
      "metadata": {
        "id": "9bm5v_jjtbV_",
        "outputId": "d54ee0a6-e7a3-4d13-a897-09ccb5db7e57"
      },
      "source": [
        "initial_tensor.add_(8)\n",
        "initial_tensor"
      ],
      "execution_count": null,
      "outputs": [
        {
          "output_type": "execute_result",
          "data": {
            "text/plain": [
              "tensor([[18., 18., 18.],\n",
              "        [18., 18., 18.]])"
            ]
          },
          "metadata": {
            "tags": []
          },
          "execution_count": 53
        }
      ]
    },
    {
      "cell_type": "markdown",
      "metadata": {
        "id": "YsmA1HhUtbV_"
      },
      "source": [
        "#### The new_tensor was a separate copy and is unaffected"
      ]
    },
    {
      "cell_type": "code",
      "metadata": {
        "id": "g7IKP_8VtbV_",
        "outputId": "cec9773a-55f9-43e6-d1b9-31357fc07d07"
      },
      "source": [
        "new_tensor"
      ],
      "execution_count": null,
      "outputs": [
        {
          "output_type": "execute_result",
          "data": {
            "text/plain": [
              "tensor([[15., 15., 15.],\n",
              "        [15., 15., 15.]])"
            ]
          },
          "metadata": {
            "tags": []
          },
          "execution_count": 54
        }
      ]
    },
    {
      "cell_type": "markdown",
      "metadata": {
        "id": "eethoojytbV_"
      },
      "source": [
        "#### In-place version of sqrt()"
      ]
    },
    {
      "cell_type": "code",
      "metadata": {
        "id": "uzIAr5bWtbWA",
        "outputId": "b0401476-796b-4e29-e5b5-57e0eb3a10b5"
      },
      "source": [
        "new_tensor.sqrt_()\n",
        "new_tensor"
      ],
      "execution_count": null,
      "outputs": [
        {
          "output_type": "execute_result",
          "data": {
            "text/plain": [
              "tensor([[3.8730, 3.8730, 3.8730],\n",
              "        [3.8730, 3.8730, 3.8730]])"
            ]
          },
          "metadata": {
            "tags": []
          },
          "execution_count": 55
        }
      ]
    },
    {
      "cell_type": "markdown",
      "metadata": {
        "id": "B7ZkOjCmtbWA"
      },
      "source": [
        "## Indexing, Slicing, Joining, Mutating Ops"
      ]
    },
    {
      "cell_type": "markdown",
      "metadata": {
        "id": "oG6Gv0BztbWA"
      },
      "source": [
        "## Slicing"
      ]
    },
    {
      "cell_type": "code",
      "metadata": {
        "id": "_idBDUrbtbWA",
        "outputId": "772215a4-992a-450b-89f8-ade1028bb750"
      },
      "source": [
        "x = torch.linspace(start=0., end=10.0, steps=15)\n",
        "x"
      ],
      "execution_count": null,
      "outputs": [
        {
          "output_type": "execute_result",
          "data": {
            "text/plain": [
              "tensor([ 0.0000,  0.7143,  1.4286,  2.1429,  2.8571,  3.5714,  4.2857,  5.0000,\n",
              "         5.7143,  6.4286,  7.1429,  7.8571,  8.5714,  9.2857, 10.0000])"
            ]
          },
          "metadata": {
            "tags": []
          },
          "execution_count": 56
        }
      ]
    },
    {
      "cell_type": "markdown",
      "metadata": {
        "id": "RgkjvawjtbWB"
      },
      "source": [
        "#### Splits a tensor into a specific number of chunks.\n",
        "- tensor (Tensor) – the tensor to split\n",
        "- chunks (int) – number of chunks to return\n",
        "- dim (int) – dimension along which to split the tensor\n"
      ]
    },
    {
      "cell_type": "code",
      "metadata": {
        "id": "U3TWnnBWtbWB",
        "outputId": "4cf13877-0426-4fc7-9495-098564f5f719"
      },
      "source": [
        "tensor_chunk = torch.chunk(input=x, chunks=3, dim=0)\n",
        "tensor_chunk"
      ],
      "execution_count": null,
      "outputs": [
        {
          "output_type": "execute_result",
          "data": {
            "text/plain": [
              "(tensor([0.0000, 0.7143, 1.4286, 2.1429, 2.8571]),\n",
              " tensor([3.5714, 4.2857, 5.0000, 5.7143, 6.4286]),\n",
              " tensor([ 7.1429,  7.8571,  8.5714,  9.2857, 10.0000]))"
            ]
          },
          "metadata": {
            "tags": []
          },
          "execution_count": 57
        }
      ]
    },
    {
      "cell_type": "markdown",
      "metadata": {
        "id": "aT8OOunLtbWB"
      },
      "source": [
        "## Concatenating and Stacking\n",
        "\n",
        "All tensors must either have the same shape (except in the concatenating dimension) or be empty."
      ]
    },
    {
      "cell_type": "code",
      "metadata": {
        "id": "Q-VRufQhtbWB",
        "outputId": "46d2cf35-adeb-4083-9614-bff2dab6696d"
      },
      "source": [
        "tensor1 = tensor_chunk[0]\n",
        "tensor2 = tensor_chunk[1]\n",
        "tensor3 = tensor_chunk[2]\n",
        "\n",
        "# concatenating along first (and only) dimension\n",
        "cat1 = torch.cat([tensor1, tensor2, tensor3], dim=0)\n",
        "print(cat1.shape)\n",
        "\n",
        "# stacking on first dimension\n",
        "cat2 = torch.stack([tensor1, tensor2, tensor3], dim=0)\n",
        "print(cat2.shape)\n",
        "\n",
        "# stacking on last dimension\n",
        "cat3 = torch.stack([tensor1, tensor2, tensor3], dim=-1)\n",
        "print(cat3.shape)"
      ],
      "execution_count": null,
      "outputs": [
        {
          "output_type": "stream",
          "text": [
            "torch.Size([15])\n",
            "torch.Size([3, 5])\n",
            "torch.Size([5, 3])\n"
          ],
          "name": "stdout"
        }
      ]
    },
    {
      "cell_type": "code",
      "metadata": {
        "id": "93msd91ptbWC",
        "outputId": "26f2dc49-2780-4caf-a370-7ea8136923d4"
      },
      "source": [
        "random_tensor = torch.Tensor([[10, 8, 30], [40, 5, 6], [12, 2, 21]])\n",
        "random_tensor"
      ],
      "execution_count": null,
      "outputs": [
        {
          "output_type": "execute_result",
          "data": {
            "text/plain": [
              "tensor([[10.,  8., 30.],\n",
              "        [40.,  5.,  6.],\n",
              "        [12.,  2., 21.]])"
            ]
          },
          "metadata": {
            "tags": []
          },
          "execution_count": 59
        }
      ]
    },
    {
      "cell_type": "code",
      "metadata": {
        "id": "IGWRHbQRtbWC",
        "outputId": "8eff8e42-323a-4103-cbd5-08acec492a16"
      },
      "source": [
        "random_tensor[0, 1]"
      ],
      "execution_count": null,
      "outputs": [
        {
          "output_type": "execute_result",
          "data": {
            "text/plain": [
              "tensor(8.)"
            ]
          },
          "metadata": {
            "tags": []
          },
          "execution_count": 60
        }
      ]
    },
    {
      "cell_type": "code",
      "metadata": {
        "id": "DbhEwmd0tbWD",
        "outputId": "e93e8a42-2cf5-47c6-b534-f7c77788a260"
      },
      "source": [
        "random_tensor[1:, 1:]"
      ],
      "execution_count": null,
      "outputs": [
        {
          "output_type": "execute_result",
          "data": {
            "text/plain": [
              "tensor([[ 5.,  6.],\n",
              "        [ 2., 21.]])"
            ]
          },
          "metadata": {
            "tags": []
          },
          "execution_count": 61
        }
      ]
    },
    {
      "cell_type": "markdown",
      "metadata": {
        "id": "E399jWLTtbWD"
      },
      "source": [
        "#### Splits the tensor into chunks"
      ]
    },
    {
      "cell_type": "code",
      "metadata": {
        "id": "REMAkBFhtbWD",
        "outputId": "51441695-7c79-4292-ee2b-4aab955048d5"
      },
      "source": [
        "random_tensor_split = torch.split(random_tensor, 2)\n",
        "random_tensor_split"
      ],
      "execution_count": null,
      "outputs": [
        {
          "output_type": "execute_result",
          "data": {
            "text/plain": [
              "(tensor([[10.,  8., 30.],\n",
              "         [40.,  5.,  6.]]),\n",
              " tensor([[12.,  2., 21.]]))"
            ]
          },
          "metadata": {
            "tags": []
          },
          "execution_count": 62
        }
      ]
    },
    {
      "cell_type": "markdown",
      "metadata": {
        "id": "t56YmSJXtbWE"
      },
      "source": [
        "## View and Reshape"
      ]
    },
    {
      "cell_type": "code",
      "metadata": {
        "id": "7y5ohFrRtbWF",
        "outputId": "633e7452-7939-4946-fee0-adfc0ce6284e"
      },
      "source": [
        "random_tensor = torch.randint(low=0, high=5, size=(3,3)).float()\n",
        "random_tensor"
      ],
      "execution_count": null,
      "outputs": [
        {
          "output_type": "execute_result",
          "data": {
            "text/plain": [
              "tensor([[1., 1., 3.],\n",
              "        [1., 0., 2.],\n",
              "        [1., 1., 2.]], dtype=torch.float32)"
            ]
          },
          "metadata": {
            "tags": []
          },
          "execution_count": 63
        }
      ]
    },
    {
      "cell_type": "code",
      "metadata": {
        "id": "_t7GEuV4tbWF",
        "outputId": "ff64c164-b39f-4a94-dbba-3e60187ce919"
      },
      "source": [
        "random_tensor.shape\n",
        "# random_tensor.size()"
      ],
      "execution_count": null,
      "outputs": [
        {
          "output_type": "execute_result",
          "data": {
            "text/plain": [
              "torch.Size([3, 3])"
            ]
          },
          "metadata": {
            "tags": []
          },
          "execution_count": 64
        }
      ]
    },
    {
      "cell_type": "code",
      "metadata": {
        "id": "cZeNc0hGtbWF",
        "outputId": "7bb68dd5-80ab-4ccc-bea9-e47cd10b0a4f"
      },
      "source": [
        "resized_tensor = random_tensor.view(9)  \n",
        "resized_tensor"
      ],
      "execution_count": null,
      "outputs": [
        {
          "output_type": "execute_result",
          "data": {
            "text/plain": [
              "tensor([1., 1., 3., 1., 0., 2., 1., 1., 2.], dtype=torch.float32)"
            ]
          },
          "metadata": {
            "tags": []
          },
          "execution_count": 65
        }
      ]
    },
    {
      "cell_type": "code",
      "metadata": {
        "id": "q6SskH9qtbWF",
        "outputId": "a31a9d2b-c4e2-4c99-b844-8911a9333f8b"
      },
      "source": [
        "# -1 groups all missing elements\n",
        "resized_tensor = random_tensor.view(-1, 3)  \n",
        "resized_tensor"
      ],
      "execution_count": null,
      "outputs": [
        {
          "output_type": "execute_result",
          "data": {
            "text/plain": [
              "tensor([[1., 1., 3.],\n",
              "        [1., 0., 2.],\n",
              "        [1., 1., 2.]], dtype=torch.float32)"
            ]
          },
          "metadata": {
            "tags": []
          },
          "execution_count": 66
        }
      ]
    },
    {
      "cell_type": "code",
      "metadata": {
        "id": "eorUnLCTtbWG",
        "outputId": "6db22d57-7759-472a-aa9d-82aca71c353a"
      },
      "source": [
        "resized_tensor.size()"
      ],
      "execution_count": null,
      "outputs": [
        {
          "output_type": "execute_result",
          "data": {
            "text/plain": [
              "torch.Size([3, 3])"
            ]
          },
          "metadata": {
            "tags": []
          },
          "execution_count": 67
        }
      ]
    },
    {
      "cell_type": "markdown",
      "metadata": {
        "id": "5Wvl6JS3tbWG"
      },
      "source": [
        "#### view() & reshape() does not create a deep copy - just a view as the name suggests\n",
        "Modifying the original tensor affects the resized_tensor as they both point to the same space in memory"
      ]
    },
    {
      "cell_type": "code",
      "metadata": {
        "id": "65p-qlKetbWG",
        "outputId": "482161e2-27cb-4c56-cce5-bfab9ec09360"
      },
      "source": [
        "random_tensor[2, 2] = 100.05\n",
        "resized_tensor"
      ],
      "execution_count": null,
      "outputs": [
        {
          "output_type": "execute_result",
          "data": {
            "text/plain": [
              "tensor([[  1.0000,   1.0000,   3.0000],\n",
              "        [  1.0000,   0.0000,   2.0000],\n",
              "        [  1.0000,   1.0000, 100.0500]], dtype=torch.float32)"
            ]
          },
          "metadata": {
            "tags": []
          },
          "execution_count": 68
        }
      ]
    },
    {
      "cell_type": "markdown",
      "metadata": {
        "id": "Ses8wJSgtbWG"
      },
      "source": [
        "## Squeezing and Unsqueezing\n",
        "Returns a new tensor with a dimension of size one inserted at the specified position."
      ]
    },
    {
      "cell_type": "code",
      "metadata": {
        "id": "k_Q3hawDtbWG",
        "outputId": "77f5dc37-dce0-450c-c1b3-9d735d9941d3"
      },
      "source": [
        "random_tensor = torch.randint(low=0, high=5, size=(3,3)).float()\n",
        "random_tensor"
      ],
      "execution_count": null,
      "outputs": [
        {
          "output_type": "execute_result",
          "data": {
            "text/plain": [
              "tensor([[4., 2., 0.],\n",
              "        [3., 2., 3.],\n",
              "        [4., 4., 2.]], dtype=torch.float32)"
            ]
          },
          "metadata": {
            "tags": []
          },
          "execution_count": 69
        }
      ]
    },
    {
      "cell_type": "code",
      "metadata": {
        "id": "r1e8EPpVtbWH",
        "outputId": "5faadf90-71cc-4372-fb8d-9614d1272445"
      },
      "source": [
        "random_tensor.shape"
      ],
      "execution_count": null,
      "outputs": [
        {
          "output_type": "execute_result",
          "data": {
            "text/plain": [
              "torch.Size([3, 3])"
            ]
          },
          "metadata": {
            "tags": []
          },
          "execution_count": 70
        }
      ]
    },
    {
      "cell_type": "code",
      "metadata": {
        "id": "2rk8qmYotbWH",
        "outputId": "bc89e6c6-cdc5-4f24-c96e-8c714083113e"
      },
      "source": [
        "# adding a new dimension in position 2\n",
        "tensor_unsqueeze = random_tensor.unsqueeze(dim=2)\n",
        "tensor_unsqueeze.shape"
      ],
      "execution_count": null,
      "outputs": [
        {
          "output_type": "execute_result",
          "data": {
            "text/plain": [
              "torch.Size([3, 3, 1])"
            ]
          },
          "metadata": {
            "tags": []
          },
          "execution_count": 71
        }
      ]
    },
    {
      "cell_type": "code",
      "metadata": {
        "id": "xBp2mBqbtbWH",
        "outputId": "bb38e372-7636-42ef-ee23-74f84663f06e"
      },
      "source": [
        "# removing empty dimension in position 2\n",
        "tensor_unsqueeze.squeeze(2).shape"
      ],
      "execution_count": null,
      "outputs": [
        {
          "output_type": "execute_result",
          "data": {
            "text/plain": [
              "torch.Size([3, 3])"
            ]
          },
          "metadata": {
            "tags": []
          },
          "execution_count": 72
        }
      ]
    },
    {
      "cell_type": "code",
      "metadata": {
        "id": "A5M1qnLktbWH",
        "outputId": "44457da7-78af-44f4-dc3a-1c4315a299ce"
      },
      "source": [
        "# using squeeze removes all dimensions of size 1\n",
        "tensor_unsqueeze = random_tensor.unsqueeze(dim=-1).unsqueeze(dim=-1)\n",
        "print(tensor_unsqueeze.shape)\n",
        "tensor_squeeze = tensor_unsqueeze.squeeze()\n",
        "print(tensor_squeeze.shape)"
      ],
      "execution_count": null,
      "outputs": [
        {
          "output_type": "stream",
          "text": [
            "torch.Size([3, 3, 1, 1])\n",
            "torch.Size([3, 3])\n"
          ],
          "name": "stdout"
        }
      ]
    },
    {
      "cell_type": "markdown",
      "metadata": {
        "id": "3vOl3FbntbWI"
      },
      "source": [
        "## Transposing and Permuting\n",
        "\n",
        "#### Transpose returns a tensor that is a transposed version of the input. The given dimensions dim0 and dim1 are swapped."
      ]
    },
    {
      "cell_type": "code",
      "metadata": {
        "id": "iGOV9KGotbWI",
        "outputId": "67df01a3-4932-4016-9079-31073d82f507"
      },
      "source": [
        "initial_tensor = torch.ones(2,3)\n",
        "print(initial_tensor)\n",
        "print(initial_tensor.shape)"
      ],
      "execution_count": null,
      "outputs": [
        {
          "output_type": "stream",
          "text": [
            "tensor([[1., 1., 1.],\n",
            "        [1., 1., 1.]])\n",
            "torch.Size([2, 3])\n"
          ],
          "name": "stdout"
        }
      ]
    },
    {
      "cell_type": "code",
      "metadata": {
        "id": "__FwO7m6tbWJ",
        "outputId": "1240e5db-3154-4ddd-94cb-eecd7c72cbee"
      },
      "source": [
        "tensor_transpose = initial_tensor.transpose(dim0=0, dim1=1)\n",
        "print(tensor_transpose)\n",
        "print(tensor_transpose.shape)"
      ],
      "execution_count": null,
      "outputs": [
        {
          "output_type": "stream",
          "text": [
            "tensor([[1., 1.],\n",
            "        [1., 1.],\n",
            "        [1., 1.]])\n",
            "torch.Size([3, 2])\n"
          ],
          "name": "stdout"
        }
      ]
    },
    {
      "cell_type": "code",
      "metadata": {
        "id": "zmX1htSOtbWJ",
        "outputId": "d05630f8-14a7-4fef-f54a-16acd04fdeb2"
      },
      "source": [
        "# it only works for two dimensions\n",
        "initial_tensor = torch.rand(3,4,5)\n",
        "transpose_0_1 = initial_tensor.transpose(0, 1)\n",
        "transpose_0_2 = initial_tensor.transpose(0, 2)\n",
        "transpose_1_2 = initial_tensor.transpose(1, 2)\n",
        "print(f\"Orig shape: {initial_tensor.shape}\")\n",
        "print(f\"Transposed 0-1 shape: {transpose_0_1.shape}\")\n",
        "print(f\"Transposed 0-2 shape: {transpose_0_2.shape}\")\n",
        "print(f\"Transposed 1-2 shape: {transpose_1_2.shape}\")"
      ],
      "execution_count": null,
      "outputs": [
        {
          "output_type": "stream",
          "text": [
            "Orig shape: torch.Size([3, 4, 5])\n",
            "Transposed 0-1 shape: torch.Size([4, 3, 5])\n",
            "Transposed 0-2 shape: torch.Size([5, 4, 3])\n",
            "Transposed 1-2 shape: torch.Size([3, 5, 4])\n"
          ],
          "name": "stdout"
        }
      ]
    },
    {
      "cell_type": "markdown",
      "metadata": {
        "id": "fGPfyxfBtbWJ"
      },
      "source": [
        "#### Permute allowes to simultanously permute several dimensions"
      ]
    },
    {
      "cell_type": "code",
      "metadata": {
        "id": "lx3Lz2hatbWJ",
        "outputId": "2b3d4662-2d50-4763-a7e6-00fd354303d3"
      },
      "source": [
        "perm1 = initial_tensor.permute(2, 0, 1)\n",
        "perm2 = initial_tensor.permute(1, 2, 0)\n",
        "print(f\"Orig shape: {initial_tensor.shape}\")\n",
        "print(f\"Permutation (2,0,1) shape: {perm1.shape}\")\n",
        "print(f\"Permutation (1,2,0) shape: {perm2.shape}\")"
      ],
      "execution_count": null,
      "outputs": [
        {
          "output_type": "stream",
          "text": [
            "Orig shape: torch.Size([3, 4, 5])\n",
            "Permutation (2,0,1) shape: torch.Size([5, 3, 4])\n",
            "Permutation (1,2,0) shape: torch.Size([4, 5, 3])\n"
          ],
          "name": "stdout"
        }
      ]
    },
    {
      "cell_type": "markdown",
      "metadata": {
        "id": "C42OFkjEtbWJ"
      },
      "source": [
        "#### Useful for plotting. Output of a CNN has shape (B,C,H,W), whereas Matplotlib plots with the color-channel in the las dimension\n",
        " - ```python\n",
        "     img_plot = out_cnn[0].permute(1,2,0)  # selecting first element in the batch and permuting for plot\n",
        "     ```"
      ]
    },
    {
      "cell_type": "markdown",
      "metadata": {
        "id": "r1DUMaMBtbWK"
      },
      "source": [
        "## Sorting tensors\n",
        "Tensors can be sorted along a specified dimension. If no dimension is specified, the last dimension is picked by default"
      ]
    },
    {
      "cell_type": "code",
      "metadata": {
        "id": "qqkvSh6dtbWK",
        "outputId": "8ff4f25e-2de4-4a92-8480-154f6c46eee4"
      },
      "source": [
        "random_tensor"
      ],
      "execution_count": null,
      "outputs": [
        {
          "output_type": "execute_result",
          "data": {
            "text/plain": [
              "tensor([[4., 2., 0.],\n",
              "        [3., 2., 3.],\n",
              "        [4., 4., 2.]], dtype=torch.float32)"
            ]
          },
          "metadata": {
            "tags": []
          },
          "execution_count": 78
        }
      ]
    },
    {
      "cell_type": "code",
      "metadata": {
        "id": "2cKeF2KKtbWK"
      },
      "source": [
        "sorted_tensor, sorted_indices = torch.sort(random_tensor)  #Default last dim of the Tensor"
      ],
      "execution_count": null,
      "outputs": []
    },
    {
      "cell_type": "code",
      "metadata": {
        "id": "kM6irv7ctbWK",
        "outputId": "200e9875-f6ea-48d5-cea8-871c9bcd286b"
      },
      "source": [
        "sorted_tensor"
      ],
      "execution_count": null,
      "outputs": [
        {
          "output_type": "execute_result",
          "data": {
            "text/plain": [
              "tensor([[0., 2., 4.],\n",
              "        [2., 3., 3.],\n",
              "        [2., 4., 4.]], dtype=torch.float32)"
            ]
          },
          "metadata": {
            "tags": []
          },
          "execution_count": 80
        }
      ]
    },
    {
      "cell_type": "code",
      "metadata": {
        "id": "JsWrYTmctbWK",
        "outputId": "f6d4f682-655b-45c2-bef7-60e78429aec6"
      },
      "source": [
        "sorted_indices"
      ],
      "execution_count": null,
      "outputs": [
        {
          "output_type": "execute_result",
          "data": {
            "text/plain": [
              "tensor([[2, 1, 0],\n",
              "        [1, 0, 2],\n",
              "        [2, 0, 1]])"
            ]
          },
          "metadata": {
            "tags": []
          },
          "execution_count": 81
        }
      ]
    },
    {
      "cell_type": "markdown",
      "metadata": {
        "id": "6WtjpIl1tbWL"
      },
      "source": [
        "# Math Operations\n",
        "Pytorch supports a number of mathematical operations which can be performed on tensors. We take a look at a few of them here"
      ]
    },
    {
      "cell_type": "code",
      "metadata": {
        "id": "IrnmOORUtbWL",
        "outputId": "4deeb458-61f4-4c83-93e6-5b30d0efb37f"
      },
      "source": [
        "tensor_float = torch.FloatTensor([-1.1, -2.2, 3.3])\n",
        "tensor_float"
      ],
      "execution_count": null,
      "outputs": [
        {
          "output_type": "execute_result",
          "data": {
            "text/plain": [
              "tensor([-1.1000, -2.2000,  3.3000], dtype=torch.float32)"
            ]
          },
          "metadata": {
            "tags": []
          },
          "execution_count": 82
        }
      ]
    },
    {
      "cell_type": "markdown",
      "metadata": {
        "id": "LN5Vnp1BtbWL"
      },
      "source": [
        "### Basic Ops"
      ]
    },
    {
      "cell_type": "code",
      "metadata": {
        "id": "zRc_huyRtbWL",
        "outputId": "af26c48f-052d-4248-f2a9-729db7f05a36"
      },
      "source": [
        "# absolute value\n",
        "tensor_abs = torch.abs(tensor_float)      \n",
        "# tensor_abs = tensor_float.abs()    \n",
        "tensor_abs"
      ],
      "execution_count": null,
      "outputs": [
        {
          "output_type": "execute_result",
          "data": {
            "text/plain": [
              "tensor([1.1000, 2.2000, 3.3000], dtype=torch.float32)"
            ]
          },
          "metadata": {
            "tags": []
          },
          "execution_count": 83
        }
      ]
    },
    {
      "cell_type": "code",
      "metadata": {
        "id": "dBIpckoQtbWM",
        "outputId": "0651871a-046b-4e90-8086-c77e58511c84"
      },
      "source": [
        "initial_tensor = torch.rand(2,2)\n",
        "initial_tensor"
      ],
      "execution_count": null,
      "outputs": [
        {
          "output_type": "execute_result",
          "data": {
            "text/plain": [
              "tensor([[0.8991, 0.9139],\n",
              "        [0.7175, 0.6176]])"
            ]
          },
          "metadata": {
            "tags": []
          },
          "execution_count": 84
        }
      ]
    },
    {
      "cell_type": "code",
      "metadata": {
        "id": "l5xVwJgTtbWM",
        "outputId": "f7f0bf3b-ceb6-4781-b678-021da7a6c38d"
      },
      "source": [
        "new_tensor = torch.add(initial_tensor, 2)\n",
        "new_tensor"
      ],
      "execution_count": null,
      "outputs": [
        {
          "output_type": "execute_result",
          "data": {
            "text/plain": [
              "tensor([[2.8991, 2.9139],\n",
              "        [2.7175, 2.6176]])"
            ]
          },
          "metadata": {
            "tags": []
          },
          "execution_count": 85
        }
      ]
    },
    {
      "cell_type": "markdown",
      "metadata": {
        "id": "DW8So2XptbWM"
      },
      "source": [
        "#### Element-wise division\n",
        "The div() and mul() functions can be used to divide and multiply the values in a tensor. Here, we do an element-wise division between two tensors"
      ]
    },
    {
      "cell_type": "code",
      "metadata": {
        "id": "H368JCLAtbWN"
      },
      "source": [
        "tensor = torch.Tensor([[-1, -2, -3],\n",
        "                       [ 1,  2,  3]])"
      ],
      "execution_count": null,
      "outputs": []
    },
    {
      "cell_type": "code",
      "metadata": {
        "id": "6NAlZl-DtbWN",
        "outputId": "059083d5-a08e-42b7-974f-02ea009420d8"
      },
      "source": [
        "tensor_div = torch.div(tensor, tensor + 1)\n",
        "tensor_div"
      ],
      "execution_count": null,
      "outputs": [
        {
          "output_type": "execute_result",
          "data": {
            "text/plain": [
              "tensor([[  -inf, 2.0000, 1.5000],\n",
              "        [0.5000, 0.6667, 0.7500]])"
            ]
          },
          "metadata": {
            "tags": []
          },
          "execution_count": 87
        }
      ]
    },
    {
      "cell_type": "markdown",
      "metadata": {
        "id": "tYaZkzR1tbWO"
      },
      "source": [
        "#### Element-wise multiplicaton"
      ]
    },
    {
      "cell_type": "code",
      "metadata": {
        "id": "hwMJ5iGntbWO",
        "outputId": "f660f41f-04b2-47dc-9622-cd126daf9eb9"
      },
      "source": [
        "tensor_mul = torch.mul(tensor, tensor)\n",
        "tensor_mul"
      ],
      "execution_count": null,
      "outputs": [
        {
          "output_type": "execute_result",
          "data": {
            "text/plain": [
              "tensor([[1., 4., 9.],\n",
              "        [1., 4., 9.]])"
            ]
          },
          "metadata": {
            "tags": []
          },
          "execution_count": 88
        }
      ]
    },
    {
      "cell_type": "markdown",
      "metadata": {
        "id": "gfjhuNw2tbWO"
      },
      "source": [
        "## Chaining Operations\n",
        "\n",
        "We can easily chain several operations in one line:\n",
        "\n",
        "$ MSE(X,Y) = \\frac{1}{N}\\sum_{i=0}^{N-1}(x_i - y_i)^2 $"
      ]
    },
    {
      "cell_type": "code",
      "metadata": {
        "id": "a8M6GxUJtbWO",
        "outputId": "1b969b5e-4d9a-4275-80e0-d26abaf7d2d2"
      },
      "source": [
        "# MSE\n",
        "x = torch.rand(3,3)\n",
        "y = torch.rand(3,3)\n",
        "mse_ours = (x - y).pow(2).sum().div(9)\n",
        "\n",
        "import torch.nn.functional as F\n",
        "mse_torch = F.mse_loss(x,y)\n",
        "\n",
        "print(f\"MSE ours:  {mse_ours}\")\n",
        "print(f\"MSE torch: {mse_torch}\")"
      ],
      "execution_count": null,
      "outputs": [
        {
          "output_type": "stream",
          "text": [
            "MSE ours:  0.16268022596238818\n",
            "MSE torch: 0.16268022596238818\n"
          ],
          "name": "stdout"
        }
      ]
    },
    {
      "cell_type": "markdown",
      "metadata": {
        "id": "L-MTPXbXtbWP"
      },
      "source": [
        "## Clamp the value of a Tensor\n",
        "There will be occasions where you would like to set upper and lower limits for the values in a tensor. This is where the clamp function is used. The value of an element is set to:\n",
        "* min if if x<sub>i</sub> < min\n",
        "* x<sub>i</sub> if min < x<sub>i</sub> < max\n",
        "* max if x<sub>i</sub> > max\n",
        "\n",
        "Very useful to display tensors in which there are values above 255 or below 0."
      ]
    },
    {
      "cell_type": "code",
      "metadata": {
        "id": "wovI1oJotbWP",
        "outputId": "ebf5cf62-396e-477e-d380-948b61306a7f"
      },
      "source": [
        "tensor"
      ],
      "execution_count": null,
      "outputs": [
        {
          "output_type": "execute_result",
          "data": {
            "text/plain": [
              "tensor([[-1., -2., -3.],\n",
              "        [ 1.,  2.,  3.]])"
            ]
          },
          "metadata": {
            "tags": []
          },
          "execution_count": 90
        }
      ]
    },
    {
      "cell_type": "code",
      "metadata": {
        "id": "_HUuHDCNtbWP",
        "outputId": "5a8fb30d-1818-4fce-ac74-c6acff3e1968"
      },
      "source": [
        "tensor_clamp = torch.clamp(tensor, min= -0.2, max=2)\n",
        "tensor_clamp"
      ],
      "execution_count": null,
      "outputs": [
        {
          "output_type": "execute_result",
          "data": {
            "text/plain": [
              "tensor([[-0.2000, -0.2000, -0.2000],\n",
              "        [ 1.0000,  2.0000,  2.0000]])"
            ]
          },
          "metadata": {
            "tags": []
          },
          "execution_count": 91
        }
      ]
    },
    {
      "cell_type": "code",
      "metadata": {
        "id": "WeOZyM4xtbWP",
        "outputId": "91435f60-4a9f-4d95-ad8b-b865237988b5"
      },
      "source": [
        "img = scipy.misc.face() / 255\n",
        "img = torch.Tensor(img)\n",
        "img[200:210, 200:210] = 2\n",
        "img[652,222] = -.2\n",
        "img_clamp = img.clamp(min=0, max=1)\n",
        "\n",
        "fig, ax = plt.subplots(1,2)\n",
        "fig.set_size_inches(15,5)\n",
        "\n",
        "im = ax[0].imshow(img[:,:,0], cmap=plt.cm.gray)\n",
        "fig.colorbar(im, ax=ax[0])\n",
        "ax[0].set_title(\"Image with Satureated Pixels\")\n",
        "\n",
        "im = ax[1].imshow(img_clamp[:,:,0], cmap=plt.cm.gray)\n",
        "fig.colorbar(im, ax=ax[1])\n",
        "ax[1].set_title(\"Clamped Image\")\n",
        "\n",
        "plt.show()"
      ],
      "execution_count": null,
      "outputs": [
        {
          "output_type": "error",
          "ename": "NameError",
          "evalue": "name 'scipy' is not defined",
          "traceback": [
            "\u001b[0;31m---------------------------------------------------------------------------\u001b[0m",
            "\u001b[0;31mNameError\u001b[0m                                 Traceback (most recent call last)",
            "\u001b[0;32m<ipython-input-92-f6b4415498a0>\u001b[0m in \u001b[0;36m<module>\u001b[0;34m\u001b[0m\n\u001b[0;32m----> 1\u001b[0;31m \u001b[0mimg\u001b[0m \u001b[0;34m=\u001b[0m \u001b[0mscipy\u001b[0m\u001b[0;34m.\u001b[0m\u001b[0mmisc\u001b[0m\u001b[0;34m.\u001b[0m\u001b[0mface\u001b[0m\u001b[0;34m(\u001b[0m\u001b[0;34m)\u001b[0m \u001b[0;34m/\u001b[0m \u001b[0;36m255\u001b[0m\u001b[0;34m\u001b[0m\u001b[0;34m\u001b[0m\u001b[0m\n\u001b[0m\u001b[1;32m      2\u001b[0m \u001b[0mimg\u001b[0m \u001b[0;34m=\u001b[0m \u001b[0mtorch\u001b[0m\u001b[0;34m.\u001b[0m\u001b[0mTensor\u001b[0m\u001b[0;34m(\u001b[0m\u001b[0mimg\u001b[0m\u001b[0;34m)\u001b[0m\u001b[0;34m\u001b[0m\u001b[0;34m\u001b[0m\u001b[0m\n\u001b[1;32m      3\u001b[0m \u001b[0mimg\u001b[0m\u001b[0;34m[\u001b[0m\u001b[0;36m200\u001b[0m\u001b[0;34m:\u001b[0m\u001b[0;36m210\u001b[0m\u001b[0;34m,\u001b[0m \u001b[0;36m200\u001b[0m\u001b[0;34m:\u001b[0m\u001b[0;36m210\u001b[0m\u001b[0;34m]\u001b[0m \u001b[0;34m=\u001b[0m \u001b[0;36m2\u001b[0m\u001b[0;34m\u001b[0m\u001b[0;34m\u001b[0m\u001b[0m\n\u001b[1;32m      4\u001b[0m \u001b[0mimg\u001b[0m\u001b[0;34m[\u001b[0m\u001b[0;36m652\u001b[0m\u001b[0;34m,\u001b[0m\u001b[0;36m222\u001b[0m\u001b[0;34m]\u001b[0m \u001b[0;34m=\u001b[0m \u001b[0;34m-\u001b[0m\u001b[0;36m.2\u001b[0m\u001b[0;34m\u001b[0m\u001b[0;34m\u001b[0m\u001b[0m\n\u001b[1;32m      5\u001b[0m \u001b[0mimg_clamp\u001b[0m \u001b[0;34m=\u001b[0m \u001b[0mimg\u001b[0m\u001b[0;34m.\u001b[0m\u001b[0mclamp\u001b[0m\u001b[0;34m(\u001b[0m\u001b[0mmin\u001b[0m\u001b[0;34m=\u001b[0m\u001b[0;36m0\u001b[0m\u001b[0;34m,\u001b[0m \u001b[0mmax\u001b[0m\u001b[0;34m=\u001b[0m\u001b[0;36m1\u001b[0m\u001b[0;34m)\u001b[0m\u001b[0;34m\u001b[0m\u001b[0;34m\u001b[0m\u001b[0m\n",
            "\u001b[0;31mNameError\u001b[0m: name 'scipy' is not defined"
          ]
        }
      ]
    },
    {
      "cell_type": "code",
      "metadata": {
        "id": "8iLnxB6JtbWQ"
      },
      "source": [
        ""
      ],
      "execution_count": null,
      "outputs": []
    },
    {
      "cell_type": "markdown",
      "metadata": {
        "id": "J6RzKS_1tbWQ"
      },
      "source": [
        "## Vector Multiplication "
      ]
    },
    {
      "cell_type": "markdown",
      "metadata": {
        "id": "cjqo00rutbWQ"
      },
      "source": [
        "#### Dot product"
      ]
    },
    {
      "cell_type": "code",
      "metadata": {
        "id": "YMLtTP1TtbWQ"
      },
      "source": [
        "t1 = torch.Tensor([1, 2])\n",
        "t2 = torch.Tensor([10, 20])"
      ],
      "execution_count": null,
      "outputs": []
    },
    {
      "cell_type": "code",
      "metadata": {
        "id": "saZ4fPXQtbWQ",
        "outputId": "aed50120-91d0-4965-9056-418db899ecef"
      },
      "source": [
        "dot_product = torch.dot(t1, t2) \n",
        "dot_product"
      ],
      "execution_count": null,
      "outputs": [
        {
          "output_type": "execute_result",
          "data": {
            "text/plain": [
              "tensor(50.)"
            ]
          },
          "metadata": {
            "tags": []
          },
          "execution_count": 94
        }
      ]
    },
    {
      "cell_type": "markdown",
      "metadata": {
        "id": "T6_lJIhDtbWQ"
      },
      "source": [
        "## Matrix Vector product\n",
        "If mat is a (n×m) tensor, vec is a 1-D tensor of size m, out will be 1-D of size n."
      ]
    },
    {
      "cell_type": "code",
      "metadata": {
        "id": "51OXvyHAtbWR"
      },
      "source": [
        "matrix = torch.Tensor([[1, 2, 3],\n",
        "                       [4, 5, 6]])\n",
        "\n",
        "vector = torch.Tensor([0, 1, 2])"
      ],
      "execution_count": null,
      "outputs": []
    },
    {
      "cell_type": "code",
      "metadata": {
        "id": "P32pwzpxtbWR",
        "outputId": "51f1bf44-94f4-450a-8b4a-07fa7e3852ab"
      },
      "source": [
        "matrix_vector = torch.mv(matrix, vector)\n",
        "matrix_vector"
      ],
      "execution_count": null,
      "outputs": [
        {
          "output_type": "execute_result",
          "data": {
            "text/plain": [
              "tensor([ 8., 17.])"
            ]
          },
          "metadata": {
            "tags": []
          },
          "execution_count": 96
        }
      ]
    },
    {
      "cell_type": "markdown",
      "metadata": {
        "id": "sRsCH_fLtbWR"
      },
      "source": [
        "## Matrix multiplication"
      ]
    },
    {
      "cell_type": "code",
      "metadata": {
        "id": "mRI9hXOUtbWR"
      },
      "source": [
        "another_matrix = torch.Tensor([[10, 30],\n",
        "                               [20, 0],\n",
        "                               [0 , 50]])"
      ],
      "execution_count": null,
      "outputs": []
    },
    {
      "cell_type": "code",
      "metadata": {
        "id": "uRSZU2KytbWR",
        "outputId": "eab87bc7-a957-4144-fa35-3d8ae5f90fdd"
      },
      "source": [
        "print(matrix.shape)\n",
        "print(another_matrix.shape)"
      ],
      "execution_count": null,
      "outputs": [
        {
          "output_type": "stream",
          "text": [
            "torch.Size([2, 3])\n",
            "torch.Size([3, 2])\n"
          ],
          "name": "stdout"
        }
      ]
    },
    {
      "cell_type": "code",
      "metadata": {
        "id": "8Bp3KrgWtbWS",
        "outputId": "644a8949-e6fd-4952-cc6e-98afb9b389e1"
      },
      "source": [
        "matrix_mul = torch.mm(matrix, another_matrix)\n",
        "matrix_mul"
      ],
      "execution_count": null,
      "outputs": [
        {
          "output_type": "execute_result",
          "data": {
            "text/plain": [
              "tensor([[ 50., 180.],\n",
              "        [140., 420.]])"
            ]
          },
          "metadata": {
            "tags": []
          },
          "execution_count": 99
        }
      ]
    },
    {
      "cell_type": "code",
      "metadata": {
        "id": "ubU_Py3mtbWS",
        "outputId": "5447d400-93e5-4159-b2f5-e6652c29034f"
      },
      "source": [
        "matrix_mul = torch.mm(matrix, another_matrix.T)\n",
        "matrix_mul"
      ],
      "execution_count": null,
      "outputs": [
        {
          "output_type": "error",
          "ename": "RuntimeError",
          "evalue": "mat1 and mat2 shapes cannot be multiplied (2x3 and 2x3)",
          "traceback": [
            "\u001b[0;31m---------------------------------------------------------------------------\u001b[0m",
            "\u001b[0;31mRuntimeError\u001b[0m                              Traceback (most recent call last)",
            "\u001b[0;32m<ipython-input-100-8e80cc3515d3>\u001b[0m in \u001b[0;36m<module>\u001b[0;34m\u001b[0m\n\u001b[0;32m----> 1\u001b[0;31m \u001b[0mmatrix_mul\u001b[0m \u001b[0;34m=\u001b[0m \u001b[0mtorch\u001b[0m\u001b[0;34m.\u001b[0m\u001b[0mmm\u001b[0m\u001b[0;34m(\u001b[0m\u001b[0mmatrix\u001b[0m\u001b[0;34m,\u001b[0m \u001b[0manother_matrix\u001b[0m\u001b[0;34m.\u001b[0m\u001b[0mT\u001b[0m\u001b[0;34m)\u001b[0m\u001b[0;34m\u001b[0m\u001b[0;34m\u001b[0m\u001b[0m\n\u001b[0m\u001b[1;32m      2\u001b[0m \u001b[0mmatrix_mul\u001b[0m\u001b[0;34m\u001b[0m\u001b[0;34m\u001b[0m\u001b[0m\n",
            "\u001b[0;31mRuntimeError\u001b[0m: mat1 and mat2 shapes cannot be multiplied (2x3 and 2x3)"
          ]
        }
      ]
    },
    {
      "cell_type": "markdown",
      "metadata": {
        "id": "E2J3ig7FtbWS"
      },
      "source": [
        "## Batch Matrix Multiplication"
      ]
    },
    {
      "cell_type": "code",
      "metadata": {
        "id": "_HooQb7KtbWS",
        "outputId": "b50b5778-7986-451b-a77f-7e379d28f4a3"
      },
      "source": [
        "m1 = torch.zeros(2,3)\n",
        "m2 = torch.ones(2,3)\n",
        "matrix = torch.stack([m1,m2])\n",
        "print(matrix.shape)"
      ],
      "execution_count": null,
      "outputs": [
        {
          "output_type": "stream",
          "text": [
            "torch.Size([2, 2, 3])\n"
          ],
          "name": "stdout"
        }
      ]
    },
    {
      "cell_type": "code",
      "metadata": {
        "id": "_W3GdUsJtbWT",
        "outputId": "461b226e-4855-4130-a2d4-fbb4d215616e"
      },
      "source": [
        "another_matrix = torch.Tensor([[10, 30], [20, 0], [0 , 50]])\n",
        "another_matrix = another_matrix.unsqueeze(0).repeat(2,1,1)\n",
        "print(another_matrix.shape)"
      ],
      "execution_count": null,
      "outputs": [
        {
          "output_type": "stream",
          "text": [
            "torch.Size([2, 3, 2])\n"
          ],
          "name": "stdout"
        }
      ]
    },
    {
      "cell_type": "code",
      "metadata": {
        "id": "WCcx7xuktbWT"
      },
      "source": [
        "matrix_mul = torch.bmm(matrix, another_matrix)"
      ],
      "execution_count": null,
      "outputs": []
    },
    {
      "cell_type": "code",
      "metadata": {
        "id": "Xa4Sv7hhtbWT",
        "outputId": "dd3140c9-56c9-4486-c6ea-9d0637884227"
      },
      "source": [
        "matrix_mul"
      ],
      "execution_count": null,
      "outputs": [
        {
          "output_type": "execute_result",
          "data": {
            "text/plain": [
              "tensor([[[ 0.,  0.],\n",
              "         [ 0.,  0.]],\n",
              "\n",
              "        [[30., 80.],\n",
              "         [30., 80.]]])"
            ]
          },
          "metadata": {
            "tags": []
          },
          "execution_count": 104
        }
      ]
    },
    {
      "cell_type": "markdown",
      "metadata": {
        "id": "PujRa9ZYtbWT"
      },
      "source": [
        "## Argmax & Argmin\n",
        "#### Indices of the maximum values of a tensor across a dimension."
      ]
    },
    {
      "cell_type": "code",
      "metadata": {
        "id": "jmEXNR5xtbWT",
        "outputId": "54a2538a-2a31-42d1-812d-ba884be0931d"
      },
      "source": [
        "m1 = torch.arange(0,10)\n",
        "m2 = torch.arange(10,0, -1)\n",
        "matrix = torch.stack([m1,m2])\n",
        "matrix"
      ],
      "execution_count": null,
      "outputs": [
        {
          "output_type": "execute_result",
          "data": {
            "text/plain": [
              "tensor([[ 0,  1,  2,  3,  4,  5,  6,  7,  8,  9],\n",
              "        [10,  9,  8,  7,  6,  5,  4,  3,  2,  1]])"
            ]
          },
          "metadata": {
            "tags": []
          },
          "execution_count": 105
        }
      ]
    },
    {
      "cell_type": "code",
      "metadata": {
        "id": "DOUrpz46tbWU",
        "outputId": "02173e9e-6301-4b64-d6d5-a182a00eea99"
      },
      "source": [
        "torch.argmax(matrix, dim=1)"
      ],
      "execution_count": null,
      "outputs": [
        {
          "output_type": "execute_result",
          "data": {
            "text/plain": [
              "tensor([9, 0])"
            ]
          },
          "metadata": {
            "tags": []
          },
          "execution_count": 106
        }
      ]
    },
    {
      "cell_type": "code",
      "metadata": {
        "id": "GmOywaWrtbWU",
        "outputId": "39b1fb84-3022-4302-8185-f77928a7c463"
      },
      "source": [
        "torch.argmin(matrix, dim=1)"
      ],
      "execution_count": null,
      "outputs": [
        {
          "output_type": "execute_result",
          "data": {
            "text/plain": [
              "tensor([0, 9])"
            ]
          },
          "metadata": {
            "tags": []
          },
          "execution_count": 107
        }
      ]
    },
    {
      "cell_type": "code",
      "metadata": {
        "id": "ZwkiGaQatbWU",
        "outputId": "fa727843-c316-441f-e2ec-b400634d0630"
      },
      "source": [
        "# if you dont specifiy, it linearizes\n",
        "amax = torch.argmax(matrix)\n",
        "amax"
      ],
      "execution_count": null,
      "outputs": [
        {
          "output_type": "execute_result",
          "data": {
            "text/plain": [
              "tensor(10)"
            ]
          },
          "metadata": {
            "tags": []
          },
          "execution_count": 108
        }
      ]
    },
    {
      "cell_type": "code",
      "metadata": {
        "id": "4qS2d3Z-tbWU",
        "outputId": "6d21aff7-2da5-4bff-f3e4-0ea1ba1af391"
      },
      "source": [
        "n_cols = matrix.shape[1]\n",
        "row, col = amax // n_cols, amax % n_cols\n",
        "print(f\"arg max: row {row} & col {col}\")"
      ],
      "execution_count": null,
      "outputs": [
        {
          "output_type": "stream",
          "text": [
            "arg max: row 1 & col 0\n"
          ],
          "name": "stdout"
        }
      ]
    },
    {
      "cell_type": "code",
      "metadata": {
        "id": "4C8T-zkltbWV"
      },
      "source": [
        ""
      ],
      "execution_count": null,
      "outputs": []
    },
    {
      "cell_type": "markdown",
      "metadata": {
        "id": "LRsDvdeKtbWV"
      },
      "source": [
        "## Seeds for Reproducibility\n",
        "\n",
        "We want to be able to reproduce our work. To remove randomness, we manually choose random seeds for reproducibility.\n"
      ]
    },
    {
      "cell_type": "code",
      "metadata": {
        "id": "YbJxmEmYtbWV",
        "outputId": "6f9bbe79-2de5-467d-f7d6-c2aa554334d8"
      },
      "source": [
        "# different every time\n",
        "x = torch.rand(5, 3)\n",
        "print(x)"
      ],
      "execution_count": null,
      "outputs": [
        {
          "output_type": "stream",
          "text": [
            "tensor([[0.5287, 0.6368, 0.9868],\n",
            "        [0.8597, 0.6760, 0.8842],\n",
            "        [0.9293, 0.6339, 0.2711],\n",
            "        [0.1185, 0.2807, 0.2062],\n",
            "        [0.5685, 0.7782, 0.0351]])\n"
          ],
          "name": "stdout"
        }
      ]
    },
    {
      "cell_type": "code",
      "metadata": {
        "id": "XZ455AqctbWV",
        "outputId": "d83e8d4a-7588-4662-c72a-af8ca8d405a8"
      },
      "source": [
        "# always same randomness\n",
        "torch.manual_seed(13)\n",
        "x = torch.rand(5, 3)\n",
        "print(x)"
      ],
      "execution_count": null,
      "outputs": [
        {
          "output_type": "stream",
          "text": [
            "tensor([[0.7345, 0.4844, 0.1224],\n",
            "        [0.8544, 0.8871, 0.6640],\n",
            "        [0.3190, 0.2783, 0.0241],\n",
            "        [0.6933, 0.7548, 0.2245],\n",
            "        [0.8336, 0.2608, 0.6050]])\n"
          ],
          "name": "stdout"
        }
      ]
    },
    {
      "cell_type": "code",
      "metadata": {
        "id": "roO-69ddtbWV",
        "outputId": "60db23a8-dfa4-47bd-fea4-a14ffaa9e49e"
      },
      "source": [
        "np.random.seed(13)\n",
        "np.random.rand(2,2)"
      ],
      "execution_count": null,
      "outputs": [
        {
          "output_type": "execute_result",
          "data": {
            "text/plain": [
              "array([[0.77770241, 0.23754122],\n",
              "       [0.82427853, 0.9657492 ]])"
            ]
          },
          "metadata": {
            "tags": []
          },
          "execution_count": 112
        }
      ]
    },
    {
      "cell_type": "code",
      "metadata": {
        "id": "q6z30pMWtbWW"
      },
      "source": [
        "import os, random\n",
        "\n",
        "CONFIG = {\n",
        "    \"random_seed\": 13\n",
        "}\n",
        "\n",
        "def set_random_seed(random_seed=None):\n",
        "    \"\"\"\n",
        "    Generalizing random seed\n",
        "    \"\"\"\n",
        "    if(random_seed is None):\n",
        "        random_seed = CONFIG[\"random_seed\"]\n",
        "    os.environ['PYTHONHASHSEED'] = str(random_seed)\n",
        "    random.seed(random_seed)\n",
        "    np.random.seed(random_seed)\n",
        "    torch.manual_seed(random_seed)\n",
        "    if torch.cuda.is_available():\n",
        "        torch.cuda.manual_seed_all(random_seed)\n",
        "    return\n",
        "\n",
        "set_random_seed()"
      ],
      "execution_count": null,
      "outputs": []
    },
    {
      "cell_type": "markdown",
      "metadata": {
        "id": "3gnhqlQLtbWW"
      },
      "source": [
        "## Read later:\n",
        "\n",
        "\n",
        "  100+ Tensor operations, including transposing, indexing, slicing,\n",
        "  mathematical operations, linear algebra, random numbers, etc are described\n",
        "  here: <http://pytorch.org/docs/torch>\n"
      ]
    },
    {
      "cell_type": "markdown",
      "metadata": {
        "id": "kAtB7sS0tbWW"
      },
      "source": [
        "## Numpy Bridge\n",
        "------------\n",
        "\n",
        "Converting a torch Tensor to a numpy array and vice versa is a breeze.\n",
        "\n",
        "The torch Tensor and numpy array will share their underlying memory\n",
        "locations, and changing one will change the other.\n",
        "\n",
        "### Converting torch Tensor to numpy Array\n"
      ]
    },
    {
      "cell_type": "code",
      "metadata": {
        "id": "7RH0J3rktbWX",
        "outputId": "18e7f83b-ffa6-4901-b6eb-f349f4026f8d"
      },
      "source": [
        "a = torch.zeros(5)\n",
        "print(a)"
      ],
      "execution_count": null,
      "outputs": [
        {
          "output_type": "stream",
          "text": [
            "tensor([0., 0., 0., 0., 0.])\n"
          ],
          "name": "stdout"
        }
      ]
    },
    {
      "cell_type": "code",
      "metadata": {
        "id": "ke92UcZ6tbWY",
        "outputId": "daffc6e9-7991-4262-fd4e-f4227e8b17d1"
      },
      "source": [
        "print(type(a))\n",
        "b = a.numpy()\n",
        "print(b)\n",
        "print(type(b))"
      ],
      "execution_count": null,
      "outputs": [
        {
          "output_type": "stream",
          "text": [
            "<class 'torch.Tensor'>\n",
            "[0. 0. 0. 0. 0.]\n",
            "<class 'numpy.ndarray'>\n"
          ],
          "name": "stdout"
        }
      ]
    },
    {
      "cell_type": "markdown",
      "metadata": {
        "id": "-Wjf-rf7tbWY"
      },
      "source": [
        "See how the numpy array changed in value.\n",
        "\n"
      ]
    },
    {
      "cell_type": "code",
      "metadata": {
        "id": "2CnyNuIRtbWY",
        "outputId": "4782350b-77b8-4393-871a-9086529a6d95"
      },
      "source": [
        "a.add_(1)\n",
        "print(a)\n",
        "print(b)"
      ],
      "execution_count": null,
      "outputs": [
        {
          "output_type": "stream",
          "text": [
            "tensor([1., 1., 1., 1., 1.])\n",
            "[1. 1. 1. 1. 1.]\n"
          ],
          "name": "stdout"
        }
      ]
    },
    {
      "cell_type": "markdown",
      "metadata": {
        "id": "dSvt3QoBtbWY"
      },
      "source": [
        "### Converting numpy Array to torch Tensor\n",
        "\n",
        "See how changing the np array changed the torch Tensor automatically\n",
        "\n"
      ]
    },
    {
      "cell_type": "code",
      "metadata": {
        "id": "nEOkD-MBtbWY",
        "outputId": "9f648f64-b158-4161-a71c-af1510231ed4"
      },
      "source": [
        "import numpy as np\n",
        "a = np.ones(5)\n",
        "b = torch.from_numpy(a)\n",
        "np.add(a, 1, out=a)\n",
        "print(a)\n",
        "print(b)"
      ],
      "execution_count": null,
      "outputs": [
        {
          "output_type": "stream",
          "text": [
            "[2. 2. 2. 2. 2.]\n",
            "tensor([2., 2., 2., 2., 2.])\n"
          ],
          "name": "stdout"
        }
      ]
    },
    {
      "cell_type": "code",
      "metadata": {
        "id": "r6G7G2-WtbWZ",
        "outputId": "30865753-b443-4ff2-d174-5a941c41d881"
      },
      "source": [
        "np_array_new = np.ones((2,2),dtype=np.int32)\n",
        "torch_from_np = torch.from_numpy(np_array_new) # The only supported types are: double, float32 , float64, int64, int32, and uint8\n",
        "torch_from_np"
      ],
      "execution_count": null,
      "outputs": [
        {
          "output_type": "execute_result",
          "data": {
            "text/plain": [
              "tensor([[1, 1],\n",
              "        [1, 1]], dtype=torch.int32)"
            ]
          },
          "metadata": {
            "tags": []
          },
          "execution_count": 117
        }
      ]
    },
    {
      "cell_type": "code",
      "metadata": {
        "id": "ai1hrbhVtbWZ",
        "outputId": "a27820d7-152b-4589-b652-016795c3735f"
      },
      "source": [
        "torch_tensor = torch.Tensor(np_array_new)\n",
        "torch_tensor"
      ],
      "execution_count": null,
      "outputs": [
        {
          "output_type": "execute_result",
          "data": {
            "text/plain": [
              "tensor([[1., 1.],\n",
              "        [1., 1.]])"
            ]
          },
          "metadata": {
            "tags": []
          },
          "execution_count": 118
        }
      ]
    },
    {
      "cell_type": "markdown",
      "metadata": {
        "id": "Nzbc3VE5tbWZ"
      },
      "source": [
        "## Interoperablity between Numpy arrays and Pytorch Tensors"
      ]
    },
    {
      "cell_type": "code",
      "metadata": {
        "id": "KWOUH7j3tbWZ"
      },
      "source": [
        "import numpy as np\n",
        "import torch"
      ],
      "execution_count": null,
      "outputs": []
    },
    {
      "cell_type": "code",
      "metadata": {
        "id": "IFXXIaNVtbWa",
        "outputId": "81d0ec9c-e007-4f6d-bf65-2d908f6f5a70"
      },
      "source": [
        "tensor = torch.rand(2, 2)\n",
        "id(tensor)"
      ],
      "execution_count": null,
      "outputs": [
        {
          "output_type": "execute_result",
          "data": {
            "text/plain": [
              "140139081213888"
            ]
          },
          "metadata": {
            "tags": []
          },
          "execution_count": 120
        }
      ]
    },
    {
      "cell_type": "markdown",
      "metadata": {
        "id": "DYRQJYTntbWa"
      },
      "source": [
        "### The numpy arrays use the same memory as the PyTorch tensor"
      ]
    },
    {
      "cell_type": "code",
      "metadata": {
        "id": "hDm-9SSgtbWa",
        "outputId": "e610e016-e6ef-4046-c610-bd2fbc034039"
      },
      "source": [
        "numpy_from_tensor = tensor.numpy()                   \n",
        "numpy_from_tensor"
      ],
      "execution_count": null,
      "outputs": [
        {
          "output_type": "execute_result",
          "data": {
            "text/plain": [
              "array([[0.32860825, 0.86132885],\n",
              "       [0.84632539, 0.27734929]])"
            ]
          },
          "metadata": {
            "tags": []
          },
          "execution_count": 121
        }
      ]
    },
    {
      "cell_type": "code",
      "metadata": {
        "id": "B1ks_YyEtbWa",
        "outputId": "a6f4f415-857c-473f-c51d-d53ff04d1764"
      },
      "source": [
        "type(numpy_from_tensor)"
      ],
      "execution_count": null,
      "outputs": [
        {
          "output_type": "execute_result",
          "data": {
            "text/plain": [
              "numpy.ndarray"
            ]
          },
          "metadata": {
            "tags": []
          },
          "execution_count": 122
        }
      ]
    },
    {
      "cell_type": "code",
      "metadata": {
        "id": "V-SBp5_ntbWa",
        "outputId": "5d7adddf-9170-4356-e88a-bb24c78f463a"
      },
      "source": [
        "torch.is_tensor(tensor)"
      ],
      "execution_count": null,
      "outputs": [
        {
          "output_type": "execute_result",
          "data": {
            "text/plain": [
              "True"
            ]
          },
          "metadata": {
            "tags": []
          },
          "execution_count": 123
        }
      ]
    },
    {
      "cell_type": "code",
      "metadata": {
        "id": "cA1F1VmltbWb",
        "outputId": "716f98e2-769b-4fda-e52e-0f5eb4982060"
      },
      "source": [
        "torch.is_tensor(numpy_from_tensor)"
      ],
      "execution_count": null,
      "outputs": [
        {
          "output_type": "execute_result",
          "data": {
            "text/plain": [
              "False"
            ]
          },
          "metadata": {
            "tags": []
          },
          "execution_count": 124
        }
      ]
    },
    {
      "cell_type": "markdown",
      "metadata": {
        "id": "bnpBd1yNtbWb"
      },
      "source": [
        "#### The NumPy array and the Torch tensor share memory"
      ]
    },
    {
      "cell_type": "code",
      "metadata": {
        "id": "thwSV3tFtbWb",
        "outputId": "adf56eb0-e73d-42c8-fc20-1bb1fb924581"
      },
      "source": [
        "numpy_from_tensor[0, 0] = 100.0\n",
        "\n",
        "numpy_from_tensor"
      ],
      "execution_count": null,
      "outputs": [
        {
          "output_type": "execute_result",
          "data": {
            "text/plain": [
              "array([[100.        ,   0.86132885],\n",
              "       [  0.84632539,   0.27734929]])"
            ]
          },
          "metadata": {
            "tags": []
          },
          "execution_count": 125
        }
      ]
    },
    {
      "cell_type": "code",
      "metadata": {
        "id": "WEbmn0qEtbWc",
        "outputId": "01040339-55c7-4b84-b5c7-471339520ba7"
      },
      "source": [
        "tensor"
      ],
      "execution_count": null,
      "outputs": [
        {
          "output_type": "execute_result",
          "data": {
            "text/plain": [
              "tensor([[100.0000,   0.8613],\n",
              "        [  0.8463,   0.2773]])"
            ]
          },
          "metadata": {
            "tags": []
          },
          "execution_count": 126
        }
      ]
    },
    {
      "cell_type": "markdown",
      "metadata": {
        "id": "_Nbt29IAtbWc"
      },
      "source": [
        "#### Converting a numpy array to a Tensor"
      ]
    },
    {
      "cell_type": "code",
      "metadata": {
        "id": "0dhK8LJEtbWc",
        "outputId": "f7430921-fa26-4cf5-f2d5-eea30d61e948"
      },
      "source": [
        "numpy_arr = np.array([[1.0, 2.0, 3.0], \n",
        "                      [10.0, 20.0, 30.0],\n",
        "                      [100.0, 200.0, 300.0]])\n",
        "\n",
        "numpy_arr"
      ],
      "execution_count": null,
      "outputs": [
        {
          "output_type": "execute_result",
          "data": {
            "text/plain": [
              "array([[  1.,   2.,   3.],\n",
              "       [ 10.,  20.,  30.],\n",
              "       [100., 200., 300.]])"
            ]
          },
          "metadata": {
            "tags": []
          },
          "execution_count": 127
        }
      ]
    },
    {
      "cell_type": "code",
      "metadata": {
        "id": "QR4PAGnwtbWc",
        "outputId": "2c80b69a-673f-4c6e-9ebb-32c6c490e3ce"
      },
      "source": [
        "tensor_from_numpy = torch.from_numpy(numpy_arr)\n",
        "tensor_from_numpy"
      ],
      "execution_count": null,
      "outputs": [
        {
          "output_type": "execute_result",
          "data": {
            "text/plain": [
              "tensor([[  1.,   2.,   3.],\n",
              "        [ 10.,  20.,  30.],\n",
              "        [100., 200., 300.]])"
            ]
          },
          "metadata": {
            "tags": []
          },
          "execution_count": 128
        }
      ]
    },
    {
      "cell_type": "code",
      "metadata": {
        "id": "9tr9_IwAtbWc",
        "outputId": "03de2e52-9f84-4a3e-aa5a-9d574f29a502"
      },
      "source": [
        "type(tensor_from_numpy)"
      ],
      "execution_count": null,
      "outputs": [
        {
          "output_type": "execute_result",
          "data": {
            "text/plain": [
              "torch.Tensor"
            ]
          },
          "metadata": {
            "tags": []
          },
          "execution_count": 129
        }
      ]
    },
    {
      "cell_type": "code",
      "metadata": {
        "id": "SMdhXnkytbWd",
        "outputId": "edab41e8-a518-420d-ce72-2d35575806a9"
      },
      "source": [
        "torch.is_tensor(tensor_from_numpy)"
      ],
      "execution_count": null,
      "outputs": [
        {
          "output_type": "execute_result",
          "data": {
            "text/plain": [
              "True"
            ]
          },
          "metadata": {
            "tags": []
          },
          "execution_count": 130
        }
      ]
    },
    {
      "cell_type": "markdown",
      "metadata": {
        "id": "gVn3aQLktbWd"
      },
      "source": [
        "#### The Numpy arrays and Tensor share the same memory\n",
        "The tensor and numpy_from_tensor are shallow copies and share the same memory as the original numpy array. Modifying the original array affects the values of both tensor and numpy_from_tensor"
      ]
    },
    {
      "cell_type": "code",
      "metadata": {
        "id": "9i2Wzi7btbWd",
        "outputId": "6d5c9301-93d9-4ee4-b5a7-69e7eec0dc2a"
      },
      "source": [
        "tensor_from_numpy[0] = 1\n",
        "tensor_from_numpy"
      ],
      "execution_count": null,
      "outputs": [
        {
          "output_type": "execute_result",
          "data": {
            "text/plain": [
              "tensor([[  1.,   1.,   1.],\n",
              "        [ 10.,  20.,  30.],\n",
              "        [100., 200., 300.]])"
            ]
          },
          "metadata": {
            "tags": []
          },
          "execution_count": 131
        }
      ]
    },
    {
      "cell_type": "code",
      "metadata": {
        "id": "kt-LfQ70tbWd",
        "outputId": "15fb6e04-9c80-4c3e-eccb-443a2e9c9901"
      },
      "source": [
        "numpy_arr"
      ],
      "execution_count": null,
      "outputs": [
        {
          "output_type": "execute_result",
          "data": {
            "text/plain": [
              "array([[  1.,   1.,   1.],\n",
              "       [ 10.,  20.,  30.],\n",
              "       [100., 200., 300.]])"
            ]
          },
          "metadata": {
            "tags": []
          },
          "execution_count": 132
        }
      ]
    },
    {
      "cell_type": "markdown",
      "metadata": {
        "id": "0B1wwdnftbWe"
      },
      "source": [
        "#### Convert the data into a torch.Tensor. \n",
        "\n",
        "If the data is already a Tensor with the same dtype and device, no copy will be performed, otherwise a new Tensor will be returned"
      ]
    },
    {
      "cell_type": "code",
      "metadata": {
        "id": "Py1vwJhMtbWe",
        "outputId": "7bfdd623-ce7b-4779-bebc-0374713631fe"
      },
      "source": [
        "np_array_one = np.array([4, 8])\n",
        "np_array_one"
      ],
      "execution_count": null,
      "outputs": [
        {
          "output_type": "execute_result",
          "data": {
            "text/plain": [
              "array([4, 8])"
            ]
          },
          "metadata": {
            "tags": []
          },
          "execution_count": 133
        }
      ]
    },
    {
      "cell_type": "code",
      "metadata": {
        "id": "8GXlogNktbWe",
        "outputId": "d5307e9f-b0d5-4f5c-8073-f7af1fb500b7"
      },
      "source": [
        "tensor_from_array_one = torch.as_tensor(np_array_one) #Performs copy if the data is not already a tensor\n",
        "tensor_from_array_one"
      ],
      "execution_count": null,
      "outputs": [
        {
          "output_type": "execute_result",
          "data": {
            "text/plain": [
              "tensor([4, 8])"
            ]
          },
          "metadata": {
            "tags": []
          },
          "execution_count": 134
        }
      ]
    },
    {
      "cell_type": "code",
      "metadata": {
        "id": "gDowXKYItbWe",
        "outputId": "9f8ac444-142f-457d-8aec-a71d40c8f858"
      },
      "source": [
        "np_array_one[1] = 5\n",
        "np_array_one"
      ],
      "execution_count": null,
      "outputs": [
        {
          "output_type": "execute_result",
          "data": {
            "text/plain": [
              "array([4, 5])"
            ]
          },
          "metadata": {
            "tags": []
          },
          "execution_count": 135
        }
      ]
    },
    {
      "cell_type": "code",
      "metadata": {
        "id": "WRzaa68NtbWe",
        "outputId": "6c22bcf6-e679-4931-ef07-cec05a24fe27"
      },
      "source": [
        "tensor_from_array_one"
      ],
      "execution_count": null,
      "outputs": [
        {
          "output_type": "execute_result",
          "data": {
            "text/plain": [
              "tensor([4, 5])"
            ]
          },
          "metadata": {
            "tags": []
          },
          "execution_count": 136
        }
      ]
    },
    {
      "cell_type": "markdown",
      "metadata": {
        "id": "F41OpeWTtbWf"
      },
      "source": [
        "#### torch.tensor() and torch.Tensor() read out the data from whatever it is passed, and constructs a leaf variable"
      ]
    },
    {
      "cell_type": "code",
      "metadata": {
        "id": "5aqxpr4otbWf",
        "outputId": "6474efd1-0b47-4355-f820-5387d11b59ff"
      },
      "source": [
        "np_array_two = np.array([2, 2])\n",
        "np_array_two"
      ],
      "execution_count": null,
      "outputs": [
        {
          "output_type": "execute_result",
          "data": {
            "text/plain": [
              "array([2, 2])"
            ]
          },
          "metadata": {
            "tags": []
          },
          "execution_count": 137
        }
      ]
    },
    {
      "cell_type": "code",
      "metadata": {
        "id": "H6C3Op7ttbWf",
        "outputId": "eb8e615b-9cda-417e-a7d7-c2dabab3b7d5"
      },
      "source": [
        "tensor_from_array_two = torch.tensor(np_array_two)#Always copy\n",
        "\n",
        "tensor_from_array_two"
      ],
      "execution_count": null,
      "outputs": [
        {
          "output_type": "execute_result",
          "data": {
            "text/plain": [
              "tensor([2, 2])"
            ]
          },
          "metadata": {
            "tags": []
          },
          "execution_count": 138
        }
      ]
    },
    {
      "cell_type": "markdown",
      "metadata": {
        "id": "fxWZ88GZtbWf"
      },
      "source": [
        "#### in this method the tensor and array do not share memory"
      ]
    },
    {
      "cell_type": "code",
      "metadata": {
        "id": "CAza_u8DtbWg",
        "outputId": "ad3f791e-db8e-4050-d308-2892128e933c"
      },
      "source": [
        "np_array_two[1] = 4\n",
        "np_array_two"
      ],
      "execution_count": null,
      "outputs": [
        {
          "output_type": "execute_result",
          "data": {
            "text/plain": [
              "array([2, 4])"
            ]
          },
          "metadata": {
            "tags": []
          },
          "execution_count": 139
        }
      ]
    },
    {
      "cell_type": "code",
      "metadata": {
        "id": "mDvt15gxtbWh",
        "outputId": "7c968f81-1fb4-409a-b390-6d8c4905621c"
      },
      "source": [
        "tensor_from_array_two"
      ],
      "execution_count": null,
      "outputs": [
        {
          "output_type": "execute_result",
          "data": {
            "text/plain": [
              "tensor([2, 2])"
            ]
          },
          "metadata": {
            "tags": []
          },
          "execution_count": 140
        }
      ]
    },
    {
      "cell_type": "markdown",
      "metadata": {
        "id": "Cp4LGb4DtbWh"
      },
      "source": [
        "All the Tensors on the CPU except a CharTensor support converting to\n",
        "NumPy and back.\n"
      ]
    },
    {
      "cell_type": "markdown",
      "metadata": {
        "id": "6TxYqevGtbWi"
      },
      "source": [
        "\n",
        "CUDA Tensors\n",
        "------------\n",
        "\n",
        "Tensors can be moved onto GPU using the ``.cuda`` function.\n",
        "\n",
        " - To run Jupyter or a Python scrip with CUDA, you need to preprend ``CUDA_VISIBLE_DEVICES=ID`` to the call\n",
        " - Connect to server with forwarding option\n",
        " ```bash \n",
        " ssh -L localhost:9999:localhost:9999 villar@bigcuda4.informatik.uni-bonn.de\n",
        " ```\n",
        " - Start serving Jupyter Lab\n",
        " ```bash \n",
        " CUDA_VISIBLE_DEVICES=0 jupyter lab --no-browser --port=9999\n",
        " ```\n",
        " \n",
        " "
      ]
    },
    {
      "cell_type": "code",
      "metadata": {
        "id": "OO8qmkdKtbWi"
      },
      "source": [
        ""
      ],
      "execution_count": null,
      "outputs": []
    },
    {
      "cell_type": "code",
      "metadata": {
        "id": "_oetUQe1tbWi",
        "outputId": "9917be54-7bf9-400a-8c42-3efad0cfd24b"
      },
      "source": [
        "torch.cuda.is_available()"
      ],
      "execution_count": null,
      "outputs": [
        {
          "output_type": "execute_result",
          "data": {
            "text/plain": [
              "False"
            ]
          },
          "metadata": {
            "tags": []
          },
          "execution_count": 141
        }
      ]
    },
    {
      "cell_type": "code",
      "metadata": {
        "id": "sCgz6pgltbWi"
      },
      "source": [
        "# let us run this cell only if CUDA is available\n",
        "if torch.cuda.is_available():\n",
        "    x, y = torch.ones(2), torch.ones(2) \n",
        "    x = x.cuda()\n",
        "    y = y.cuda()\n",
        "    print(type(y))\n",
        "    print(x + y)\n",
        "    print(type(x+y))\n",
        "    ycpu=y.cpu()\n",
        "    print(type(ycpu))"
      ],
      "execution_count": null,
      "outputs": []
    },
    {
      "cell_type": "code",
      "metadata": {
        "id": "evDDLBSLtbWi"
      },
      "source": [
        "# let us run this cell only if CUDA is available\n",
        "# We will use ``torch.device`` objects to move tensors in and out of GPU\n",
        "if torch.cuda.is_available():\n",
        "    device = torch.device(\"cuda\")          # a CUDA device object\n",
        "    y = torch.ones_like(x, device=device)  # directly create a tensor on GPU\n",
        "    x = x.to(device)                       # or just use strings ``.to(\"cuda\")``\n",
        "    z = x + y\n",
        "    print(z)\n",
        "    print(z.to(\"cpu\", torch.double))       # ``.to`` can also change dtype together!"
      ],
      "execution_count": null,
      "outputs": []
    },
    {
      "cell_type": "code",
      "metadata": {
        "id": "ZII3m2FXtbWi"
      },
      "source": [
        "# the magic line\n",
        "device = torch.device(\"cuda\" if torch.cuda.is_available() else \"cpu\")"
      ],
      "execution_count": null,
      "outputs": []
    },
    {
      "cell_type": "code",
      "metadata": {
        "id": "mJOFGqZgtbWj"
      },
      "source": [
        "x = x.to(device)"
      ],
      "execution_count": null,
      "outputs": []
    },
    {
      "cell_type": "markdown",
      "metadata": {
        "id": "QM4sZy7ltbWj"
      },
      "source": [
        "## Cuda"
      ]
    },
    {
      "cell_type": "code",
      "metadata": {
        "id": "CfeQr8SYtbWj",
        "outputId": "efd377bd-844a-49c3-8773-94ccb6ff88c2"
      },
      "source": [
        "torch.cuda.is_available()"
      ],
      "execution_count": null,
      "outputs": [
        {
          "output_type": "execute_result",
          "data": {
            "text/plain": [
              "False"
            ]
          },
          "metadata": {
            "tags": []
          },
          "execution_count": 146
        }
      ]
    },
    {
      "cell_type": "code",
      "metadata": {
        "id": "2IV0TvXXtbWj"
      },
      "source": [
        "# Initialize PyTorch’s CUDA state. You may need to call this explicitly if you are interacting \n",
        "# with PyTorch via its C API\n",
        "\n",
        "torch.cuda.init()"
      ],
      "execution_count": null,
      "outputs": []
    },
    {
      "cell_type": "code",
      "metadata": {
        "id": "H0UvI364tbWk"
      },
      "source": [
        "torch.cuda.current_device()"
      ],
      "execution_count": null,
      "outputs": []
    },
    {
      "cell_type": "code",
      "metadata": {
        "id": "EI1bzH8btbWk"
      },
      "source": [
        "torch.cuda.device_count()"
      ],
      "execution_count": null,
      "outputs": []
    },
    {
      "cell_type": "code",
      "metadata": {
        "id": "caacOQXrtbWk"
      },
      "source": [
        "torch.cuda.memory_allocated()"
      ],
      "execution_count": null,
      "outputs": []
    },
    {
      "cell_type": "code",
      "metadata": {
        "id": "oMhLPJdWtbWk"
      },
      "source": [
        "torch.cuda.memory_cached() #Behind the scenes Pytorch uses a caching memory allocator to speed up memory allocations \n",
        "#this allows fast memory deallocation withput device synchronizations"
      ],
      "execution_count": null,
      "outputs": []
    },
    {
      "cell_type": "code",
      "metadata": {
        "id": "giRUhBQ_tbWk"
      },
      "source": [
        "cuda = torch.device('cuda') #device context manager\n",
        "\n",
        "cuda"
      ],
      "execution_count": null,
      "outputs": []
    },
    {
      "cell_type": "code",
      "metadata": {
        "id": "40MFHouJtbWk"
      },
      "source": [
        "cuda0 = torch.device('cuda:0')\n",
        "cuda1 = torch.device('cuda:1')\n",
        "cuda2 = torch.device('cuda:2')"
      ],
      "execution_count": null,
      "outputs": []
    },
    {
      "cell_type": "code",
      "metadata": {
        "id": "1I1JtR-0tbWl"
      },
      "source": [
        "cuda0, cuda1, cuda2"
      ],
      "execution_count": null,
      "outputs": []
    },
    {
      "cell_type": "code",
      "metadata": {
        "id": "WG0ZQIkStbWl"
      },
      "source": [
        "x = torch.tensor([10., 20.])\n",
        "\n",
        "x"
      ],
      "execution_count": null,
      "outputs": []
    },
    {
      "cell_type": "code",
      "metadata": {
        "id": "KVlodFzftbWl"
      },
      "source": [
        "x_default = torch.tensor([10., 20.], device=cuda)\n",
        "\n",
        "x_default"
      ],
      "execution_count": null,
      "outputs": []
    },
    {
      "cell_type": "code",
      "metadata": {
        "id": "4bamYh6KtbWl"
      },
      "source": [
        "x0 = torch.tensor([10., 20.], device=cuda0)\n",
        "\n",
        "x0"
      ],
      "execution_count": null,
      "outputs": []
    },
    {
      "cell_type": "code",
      "metadata": {
        "id": "xb5n8d2QtbWl"
      },
      "source": [
        "x1 = torch.tensor([10., 20.], device=cuda1)\n",
        "\n",
        "x1"
      ],
      "execution_count": null,
      "outputs": []
    },
    {
      "cell_type": "code",
      "metadata": {
        "id": "PD8oBpgztbWl"
      },
      "source": [
        "x2 = torch.tensor([10., 20.], device=cuda2)\n",
        "\n",
        "x2"
      ],
      "execution_count": null,
      "outputs": []
    },
    {
      "cell_type": "markdown",
      "metadata": {
        "id": "1TL7HFhXtbWm"
      },
      "source": [
        "### Returns a copy of this object in CUDA memory.\n",
        "\n",
        "If this object is already in CUDA memory and on the correct device, then no copy is performed and the original object is returned."
      ]
    },
    {
      "cell_type": "code",
      "metadata": {
        "id": "7rjZPQYjtbWm"
      },
      "source": [
        "# Transferring a tensor from CPU to GPU 0\n",
        "y = x.cuda()\n",
        "\n",
        "y"
      ],
      "execution_count": null,
      "outputs": []
    },
    {
      "cell_type": "code",
      "metadata": {
        "id": "U_wt5FuhtbWm"
      },
      "source": [
        "print('Outside with context: ', torch.cuda.current_device())\n",
        "\n",
        "with torch.cuda.device(0):\n",
        "    \n",
        "    print('Inside with context: ', torch.cuda.current_device())\n",
        "\n",
        "print('Outside with context again: ', torch.cuda.current_device())"
      ],
      "execution_count": null,
      "outputs": []
    },
    {
      "cell_type": "code",
      "metadata": {
        "id": "FaZ-0w-CtbWm"
      },
      "source": [
        "with torch.cuda.device(0):\n",
        "    \n",
        "    a = torch.tensor([10., 20.])\n",
        "    \n",
        "    a0 = torch.tensor([10., 20.], device=cuda0)\n",
        "    \n",
        "    a1 = torch.tensor([10., 20.], device=cuda)"
      ],
      "execution_count": null,
      "outputs": []
    },
    {
      "cell_type": "code",
      "metadata": {
        "id": "XZ6EGE8utbWm"
      },
      "source": [
        "a"
      ],
      "execution_count": null,
      "outputs": []
    },
    {
      "cell_type": "code",
      "metadata": {
        "id": "wdUJmHRJtbWm"
      },
      "source": [
        "a0"
      ],
      "execution_count": null,
      "outputs": []
    },
    {
      "cell_type": "code",
      "metadata": {
        "id": "fLHW1AxltbWn"
      },
      "source": [
        "a1"
      ],
      "execution_count": null,
      "outputs": []
    },
    {
      "cell_type": "code",
      "metadata": {
        "id": "Tx3uFCPjtbWn"
      },
      "source": [
        "sum_a = a + a0"
      ],
      "execution_count": null,
      "outputs": []
    },
    {
      "cell_type": "code",
      "metadata": {
        "id": "xoT3lbB-tbWn"
      },
      "source": [
        "sum_a = a1 + a0"
      ],
      "execution_count": null,
      "outputs": []
    },
    {
      "cell_type": "code",
      "metadata": {
        "id": "t8KIcRoqtbWn"
      },
      "source": [
        "torch.cuda.memory_allocated()"
      ],
      "execution_count": null,
      "outputs": []
    },
    {
      "cell_type": "code",
      "metadata": {
        "id": "vKDf6ImvtbWn"
      },
      "source": [
        "torch.cuda.memory_reserved()"
      ],
      "execution_count": null,
      "outputs": []
    },
    {
      "cell_type": "code",
      "metadata": {
        "id": "HkF2I5EytbWn"
      },
      "source": [
        "hugeTensor = torch.rand(100,100,100,100).cuda()\n",
        "torch.cuda.memory_allocated()"
      ],
      "execution_count": null,
      "outputs": []
    },
    {
      "cell_type": "code",
      "metadata": {
        "id": "y_FO-R5qtbWn"
      },
      "source": [
        "torch.cuda.memory_reserved()"
      ],
      "execution_count": null,
      "outputs": []
    },
    {
      "cell_type": "code",
      "metadata": {
        "id": "TfwKiynFtbWo"
      },
      "source": [
        "del hugeTensor\n",
        "torch.cuda.memory_allocated()"
      ],
      "execution_count": null,
      "outputs": []
    },
    {
      "cell_type": "code",
      "metadata": {
        "id": "Lcgmu6hDtbWo"
      },
      "source": [
        "torch.cuda.memory_reserved()"
      ],
      "execution_count": null,
      "outputs": []
    },
    {
      "cell_type": "code",
      "metadata": {
        "id": "0nGIX_ZAtbWo"
      },
      "source": [
        "import gc\n",
        "gc.collect()\n",
        "torch.cuda.empty_cache()"
      ],
      "execution_count": null,
      "outputs": []
    },
    {
      "cell_type": "code",
      "metadata": {
        "id": "pSrTieADtbWo"
      },
      "source": [
        "torch.cuda.memory_reserved()"
      ],
      "execution_count": null,
      "outputs": []
    },
    {
      "cell_type": "markdown",
      "metadata": {
        "id": "MgXaEi-TtbWp"
      },
      "source": [
        "# PyTorch Vs. Tensorflow\n",
        "<img src=\"https://github.com/JanNogga/Vision_Systems_Lab/blob/main/Session_1/imgs/1.png?raw=1\">\n",
        "<img src=\"https://github.com/JanNogga/Vision_Systems_Lab/blob/main/Session_1/imgs/3.png?raw=1\">\n",
        "<img src=\"https://github.com/JanNogga/Vision_Systems_Lab/blob/main/Session_1/imgs/4.png?raw=1\">\n",
        "<img src=\"https://github.com/JanNogga/Vision_Systems_Lab/blob/main/Session_1/imgs/5.png?raw=1\">"
      ]
    },
    {
      "cell_type": "markdown",
      "metadata": {
        "id": "d4pGpsaotbWp"
      },
      "source": [
        "# ------------------------------------------------------------------------------------------------------------"
      ]
    },
    {
      "cell_type": "markdown",
      "metadata": {
        "id": "j-et7s64tbWp"
      },
      "source": [
        "# 3- A Simple Neural Net\n",
        "\n",
        "Neural networks are basically matrix multiplications\n",
        "\n",
        "\n",
        "<img src=\"https://github.com/JanNogga/Vision_Systems_Lab/blob/main/Session_1/imgs/nn.png?raw=1\" height=300, width=400>"
      ]
    },
    {
      "cell_type": "markdown",
      "metadata": {
        "id": "A6B6blBytbWp"
      },
      "source": [
        "<img src=\"https://github.com/JanNogga/Vision_Systems_Lab/blob/main/Session_1/imgs/forward.png?raw=1\" height=400, width=600>\n",
        "\n",
        " - $\\mathbf{X}_{i,j}:$ is the value of the input pixel #$i$ for the element $j$ ib the batch\n",
        " - $\\mathbf{W}_{i,j}:$ is the weight of the connection between input neuron $i$ and output neuron $j$\n"
      ]
    },
    {
      "cell_type": "markdown",
      "metadata": {
        "id": "DGf19WRqtbWq"
      },
      "source": [
        "## Backward\n",
        " - Network parameters are updated through gradient descent\n",
        " - We compute the gradients using backpropagation\n",
        " \n",
        " \n",
        "Given the error tensor at layer $n$: $\\mathbf{E}_n$, \n",
        " - We compute the error with respect to the input ($\\frac{\\partial \\mathbf{E}_n}{\\partial \\mathbf{X}}$) and backpropagate this value:\n",
        "    - $\\mathbf{E}_{n-1} = \\mathbf{W}^T \\mathbf{E}_{n}$\n",
        " - Update parameters through gradient descent using the gradient with respect to the parameters ($\\frac{\\partial \\mathbf{E}_n}{\\partial \\mathbf{W}}$):\n",
        "   - $\\mathbf{W}^{\\text(new)} = \\mathbf{W}^{\\text(old)} - \\lambda \\cdot \\mathbf{E}_n \\mathbf{X}^T$ "
      ]
    },
    {
      "cell_type": "code",
      "metadata": {
        "id": "vVdWH2fJtbWq"
      },
      "source": [
        "INPUT_SIZE = 10\n",
        "OUT_SIZE = 2\n",
        "LR = 1e-2"
      ],
      "execution_count": null,
      "outputs": []
    },
    {
      "cell_type": "code",
      "metadata": {
        "id": "6m5XyCKgtbWq"
      },
      "source": [
        "input = torch.rand(1, INPUT_SIZE)\n",
        "weights = torch.rand(INPUT_SIZE, OUT_SIZE)\n",
        "error = torch.rand(1, OUT_SIZE)"
      ],
      "execution_count": null,
      "outputs": []
    },
    {
      "cell_type": "code",
      "metadata": {
        "id": "7ex2YxgEtbWq"
      },
      "source": [
        "# forward pass\n",
        "out = torch.mm(input, weights)"
      ],
      "execution_count": null,
      "outputs": []
    },
    {
      "cell_type": "code",
      "metadata": {
        "id": "X_TQiHkZtbWq"
      },
      "source": [
        "# backward pass\n",
        "weights_new =  weights - LR * torch.mm(input.T, error)"
      ],
      "execution_count": null,
      "outputs": []
    },
    {
      "cell_type": "code",
      "metadata": {
        "id": "V3lvNi8DtbWr"
      },
      "source": [
        ""
      ],
      "execution_count": null,
      "outputs": []
    },
    {
      "cell_type": "code",
      "metadata": {
        "id": "xIu0gjQItbWr"
      },
      "source": [
        ""
      ],
      "execution_count": null,
      "outputs": []
    },
    {
      "cell_type": "markdown",
      "metadata": {
        "id": "x12pkNf8tbWr"
      },
      "source": [
        "# 4- The MNIST Dataset\n",
        "\n",
        "Official webpage: http://yann.lecun.com/exdb/mnist/\n",
        "\n",
        "The MNIST database contains 60,000 training images and 10,000 testing images. We can flatten this array into a vector of 28x28 = 784 numbers.\n",
        "\n",
        "MNIST is a simple computer vision dataset. It consists of images of handwritten digits like these:\n",
        "\n",
        "<img src=\"https://github.com/JanNogga/Vision_Systems_Lab/blob/main/Session_1/imgs/MNIST.png?raw=1\">\n",
        "\n",
        "It also includes labels for each image, telling us which digit it is. For example, the labels for the above images are 5, 0, 4, and 1."
      ]
    },
    {
      "cell_type": "code",
      "metadata": {
        "id": "e01kEpwMtbWr"
      },
      "source": [
        "import torch\n",
        "import torch.nn as nn\n",
        "import torchvision.transforms as transforms\n",
        "import torchvision.datasets as datasets\n",
        "\n",
        "train_dataset = datasets.MNIST(root='./data',train=True, transform=transforms.ToTensor(), download=True)\n",
        "test_dataset = datasets.MNIST(root='./data',train=False, transform=transforms.ToTensor() ,download=True)"
      ],
      "execution_count": null,
      "outputs": []
    },
    {
      "cell_type": "code",
      "metadata": {
        "id": "PxPhDMyDtbWr"
      },
      "source": [
        "n_imgs_train = len(train_dataset)\n",
        "n_imgs_test = len(test_dataset)"
      ],
      "execution_count": null,
      "outputs": []
    },
    {
      "cell_type": "code",
      "metadata": {
        "id": "sdT_Zs9itbWr"
      },
      "source": [
        "print(f\"# Images Train: {n_imgs_train}\")\n",
        "print(f\"# Images Test:  {n_imgs_test}\")"
      ],
      "execution_count": null,
      "outputs": []
    },
    {
      "cell_type": "code",
      "metadata": {
        "id": "IzPndQ8MtbWr"
      },
      "source": [
        "img_shape = train_dataset[0][0].shape\n",
        "label = train_dataset[0][1]"
      ],
      "execution_count": null,
      "outputs": []
    },
    {
      "cell_type": "code",
      "metadata": {
        "id": "31DfXmiHtbWs"
      },
      "source": [
        "print(f\"Image shape: {img_shape}\")\n",
        "print(f\"Label: {label}\")"
      ],
      "execution_count": null,
      "outputs": []
    },
    {
      "cell_type": "code",
      "metadata": {
        "id": "zobZPobqtbWs"
      },
      "source": [
        "import matplotlib.pyplot as plt\n",
        "%matplotlib inline"
      ],
      "execution_count": null,
      "outputs": []
    },
    {
      "cell_type": "code",
      "metadata": {
        "id": "2rtSr2kwtbWs"
      },
      "source": [
        "fig, ax = plt.subplots(1,5)\n",
        "fig.set_size_inches(15, 3)\n",
        "\n",
        "ids = np.random.randint(low=0, high=len(train_dataset), size=5)\n",
        "\n",
        "for i, n in enumerate(ids):\n",
        "    img = train_dataset[n][0].numpy().reshape(28,28)\n",
        "    ax[i].imshow(img, cmap='gray')\n",
        "    ax[i].set_title(f\"Img #{n}  Label: {train_dataset[n][1]}\")\n",
        "plt.show()"
      ],
      "execution_count": null,
      "outputs": []
    },
    {
      "cell_type": "markdown",
      "metadata": {
        "id": "hoOnDN7qtbWs"
      },
      "source": [
        "## Our own Dataset\n",
        "\n",
        "In addition to using the already existing datasets, it is easy to make our own dataset by loading data or by modifying existing databases."
      ]
    },
    {
      "cell_type": "code",
      "metadata": {
        "id": "II76ITIxtbWs"
      },
      "source": [
        "class OurOwnDataset():\n",
        "    \"\"\" Our own simple dataset \"\"\"\n",
        "    \n",
        "    def __init__(self, path, train=True, transforms=None):\n",
        "        \"\"\" Dataset initializer \"\"\"\n",
        "        assert type(train), f\"Unrecognized split {train}...\"\n",
        "        \n",
        "        # loading data\n",
        "        data_file = \"training.pt\" if train else \"test.pt\"\n",
        "        data_path = os.path.join(path, data_file)\n",
        "        assert os.path.exists(data_path), f\"Data file {data_path} does not exist...\"\n",
        "        self.imgs, self.labels = torch.load(data_path)\n",
        "        \n",
        "        self.transforms = transforms\n",
        "        \n",
        "    def __len__(self):\n",
        "        \"\"\" Getting the number of elements in the dataset \"\"\"\n",
        "        return len(self.labels)\n",
        "        \n",
        "    def __getitem__(self, idx):\n",
        "        \"\"\" Sampling element 'idx' from the dataset \"\"\"\n",
        "        img, label = self.imgs[idx].unsqueeze(0), self.labels[idx]\n",
        "        if(self.transforms is not None):\n",
        "            img = self.transforms(img)\n",
        "        return img, label"
      ],
      "execution_count": null,
      "outputs": []
    },
    {
      "cell_type": "code",
      "metadata": {
        "id": "LXRTHOpftbWs"
      },
      "source": [
        "data_path = \"./data/MNIST/processed/\"\n",
        "our_train_db = OurOwnDataset(path = data_path, train=True)\n",
        "our_eval_db = OurOwnDataset(path = data_path, train=False)"
      ],
      "execution_count": null,
      "outputs": []
    },
    {
      "cell_type": "code",
      "metadata": {
        "id": "ozQBgkxCtbWt"
      },
      "source": [
        "n_imgs_train = len(our_train_db)\n",
        "n_imgs_test = len(our_eval_db)\n",
        "print(f\"# Images Train: {n_imgs_train}\")\n",
        "print(f\"# Images Test:  {n_imgs_test}\")"
      ],
      "execution_count": null,
      "outputs": []
    },
    {
      "cell_type": "code",
      "metadata": {
        "id": "4GsVyIb4tbWt"
      },
      "source": [
        "fig, ax = plt.subplots(1,5)\n",
        "fig.set_size_inches(15, 3)\n",
        "\n",
        "ids = np.random.randint(low=0, high=len(our_train_db), size=5)\n",
        "\n",
        "for i, n in enumerate(ids):\n",
        "    img = our_train_db[n][0].numpy().reshape(28,28)\n",
        "    ax[i].imshow(img, cmap='gray')\n",
        "    ax[i].set_title(f\"Img #{n}  Label: {our_train_db[n][1]}\")\n",
        "plt.show()"
      ],
      "execution_count": null,
      "outputs": []
    },
    {
      "cell_type": "markdown",
      "metadata": {
        "id": "pU6T-4d8tbWt"
      },
      "source": [
        "## Data Loaders\n",
        "\n",
        "Data loaders provide an efficient way to iterate a Dataset object. \n",
        "\n",
        " - https://pytorch.org/docs/stable/data.html#torch.utils.data.DataLoader"
      ]
    },
    {
      "cell_type": "code",
      "metadata": {
        "id": "c8KptbchtbWt"
      },
      "source": [
        "BATCH_SIZE = 512\n",
        "SHUFFLE = True"
      ],
      "execution_count": null,
      "outputs": []
    },
    {
      "cell_type": "code",
      "metadata": {
        "id": "ZS-nVojytbWu"
      },
      "source": [
        "eval_loader =  torch.utils.data.DataLoader(\n",
        "        dataset=our_eval_db,\n",
        "        batch_size=BATCH_SIZE,\n",
        "        shuffle=SHUFFLE\n",
        "    )"
      ],
      "execution_count": null,
      "outputs": []
    },
    {
      "cell_type": "code",
      "metadata": {
        "id": "6CHtRqIptbWu"
      },
      "source": [
        "imgs, labels = next(iter(eval_loader))"
      ],
      "execution_count": null,
      "outputs": []
    },
    {
      "cell_type": "code",
      "metadata": {
        "id": "-yXSSo8ItbWu"
      },
      "source": [
        "imgs.shape"
      ],
      "execution_count": null,
      "outputs": []
    },
    {
      "cell_type": "code",
      "metadata": {
        "id": "qvH3MIpTtbWu"
      },
      "source": [
        "for i, (imgs, labels) in enumerate(eval_loader):\n",
        "    print(f\"Iterating batch #{i+1}, which has {len(labels)} elements\")"
      ],
      "execution_count": null,
      "outputs": []
    },
    {
      "cell_type": "code",
      "metadata": {
        "id": "NDEsIXzctbWu"
      },
      "source": [
        ""
      ],
      "execution_count": null,
      "outputs": []
    },
    {
      "cell_type": "markdown",
      "metadata": {
        "id": "lSW4UJDmtbWu"
      },
      "source": [
        "# Assignment 1\n",
        "\n"
      ]
    },
    {
      "cell_type": "markdown",
      "metadata": {
        "id": "9rMkPivrtbWv"
      },
      "source": [
        "- Set Jupyter running in your home account so that you can use it remotely (Optional due to Covid-19!)\n",
        "- Build **2 layer** network for Handwritten Digit Classification using pure python/numpy  (without the layers from PyTorch)\n",
        "    - Input data $\\mathbf{x} : 20 \\times 784$ ($20$ is the batch size, $784 = 28 \\times 28$))\n",
        "    - Hidden size 64\n",
        "    - label $\\mathbf{y} : 20 \\times 10$\n",
        "    - Weight Variable $\\mathbf{W}$ with random initialization (e.g., Uniform[-0.5,0.5])\n",
        "    - Bias variable $\\mathbf{b}$ with zeros (no bias)\n",
        "    - Sigmoid nonlinearity\n",
        "    - Use softmax activation => $softmax( \\mathbf{W} \\cdot \\mathbf{x} + \\mathbf{b})$\n",
        "    - Use OneHot encoding and MSE loss! Not the best way for classification but just for practice \n",
        "    - Train the model on MNIST through gradient descent\n",
        "    - PS: If you dont know how to start see this:\n",
        "     - http://iamtrask.github.io/2015/07/12/basic-python-network/\n",
        "     - http://neuralnetworksanddeeplearning.com/chap1.html\n",
        "     - https://towardsdatascience.com/derivative-of-the-sigmoid-function-536880cf918e\n",
        "     - https://aimatters.wordpress.com/2019/06/17/the-softmax-function-derivative/\n",
        "- Submit your Jupyter Notebook (.ipynb) and an HTML export to villar@ais.uni-bonn.de with subject: **CudaLab: Assignment1**"
      ]
    },
    {
      "cell_type": "markdown",
      "metadata": {
        "id": "p2LrUBuXtbWv"
      },
      "source": [
        "#### Please use **CudaLab: Assignment1** for the subject of the mail "
      ]
    },
    {
      "cell_type": "markdown",
      "metadata": {
        "id": "ybsW6X6UtbWv"
      },
      "source": [
        "# References:\n",
        "\n",
        "#### https://pytorch.org/docs/stable/index.html\n",
        "#### https://pytorch.org/vision/stable/index.html\n",
        "#### https://cs231n.github.io/\n",
        "#### http://neuralnetworksanddeeplearning.com/"
      ]
    }
  ]
}