{
  "nbformat": 4,
  "nbformat_minor": 0,
  "metadata": {
    "colab": {
      "name": "lfw_dataloader.ipynb",
      "provenance": [],
      "authorship_tag": "ABX9TyNwqi15wGlctERgGDeinryc",
      "include_colab_link": true
    },
    "kernelspec": {
      "name": "python3",
      "display_name": "Python 3"
    },
    "language_info": {
      "name": "python"
    }
  },
  "cells": [
    {
      "cell_type": "markdown",
      "metadata": {
        "id": "view-in-github",
        "colab_type": "text"
      },
      "source": [
        "<a href=\"https://colab.research.google.com/github/JanNogga/Vision_Systems_Lab/blob/main/Assignment_8/lfw_dataloader.ipynb\" target=\"_parent\"><img src=\"https://colab.research.google.com/assets/colab-badge.svg\" alt=\"Open In Colab\"/></a>"
      ]
    },
    {
      "cell_type": "code",
      "metadata": {
        "id": "1TIzdGg-3oru"
      },
      "source": [
        "import numpy as np\n",
        "import random as rand\n",
        "import torch\n",
        "import torch.nn as nn\n",
        "import torch.nn.functional as F\n",
        "import torchvision\n",
        "import torchvision.datasets as dsets\n",
        "import torchvision.transforms as transforms\n",
        "from torch.optim.lr_scheduler import ReduceLROnPlateau\n",
        "import matplotlib.pyplot as plt\n",
        "import os\n",
        "import time\n",
        "from tqdm.notebook import tqdm\n",
        "import shutil\n",
        "import random\n",
        "from skimage import io"
      ],
      "execution_count": 19,
      "outputs": []
    },
    {
      "cell_type": "code",
      "metadata": {
        "colab": {
          "base_uri": "https://localhost:8080/"
        },
        "id": "nRxQMccj3sIy",
        "outputId": "9350941a-674a-44bf-9773-daa8ee641e6b"
      },
      "source": [
        "from google.colab import drive\n",
        "drive.mount('/content/gdrive')"
      ],
      "execution_count": 2,
      "outputs": [
        {
          "output_type": "stream",
          "text": [
            "Mounted at /content/gdrive\n"
          ],
          "name": "stdout"
        }
      ]
    },
    {
      "cell_type": "code",
      "metadata": {
        "id": "caAujMLw3tnR"
      },
      "source": [
        "if not os.path.exists('data'):\n",
        "    os.makedirs('data')\n",
        "try:\n",
        "  shutil.rmtree('data/lfw')\n",
        "except:\n",
        "  pass"
      ],
      "execution_count": 3,
      "outputs": []
    },
    {
      "cell_type": "code",
      "metadata": {
        "colab": {
          "base_uri": "https://localhost:8080/"
        },
        "id": "Xcfqd_zi318x",
        "outputId": "a9308230-b7bb-440f-b7fe-111701308eca"
      },
      "source": [
        "print('Extracting files...')\n",
        "!unzip /content/gdrive/MyDrive/lfw.zip -d data &> /dev/null\n",
        "print('Done')"
      ],
      "execution_count": 4,
      "outputs": [
        {
          "output_type": "stream",
          "text": [
            "Extracting files...\n",
            "Done\n"
          ],
          "name": "stdout"
        }
      ]
    },
    {
      "cell_type": "code",
      "metadata": {
        "colab": {
          "base_uri": "https://localhost:8080/"
        },
        "id": "dgttBTy9374z",
        "outputId": "f2fe332a-dfda-481c-841b-055f1b008c37"
      },
      "source": [
        "root = 'data/lfw/'\n",
        "mode = 'Train'\n",
        "# Path to file which encodes the split\n",
        "split_file = root + 'peopleDev' + mode + '.txt'\n",
        "# Keep only subjects who are featured in at least N images\n",
        "N = 2\n",
        "# Read the names of all subjects along with the number of photos that each is featured in\n",
        "tmp_train = np.genfromtxt(split_file, skip_header=1, dtype=np.str)\n",
        "# Store this info in separate numpy arrays\n",
        "labels_train, num_images_train= [], []\n",
        "for label, num_img in tmp_train:\n",
        "  labels_train.append(label)\n",
        "  num_images_train.append(int(num_img))\n",
        "num_images_train = np.array(num_images_train)\n",
        "labels_train = np.array(labels_train)\n",
        "print('Number of people featured in the training data:', len(num_images_train))\n",
        "train_mask = num_images_train >= N\n",
        "print(f'Number of people featured in at least {N} images: {train_mask.sum()}')\n",
        "# Obtain the names of the subjects that are kept\n",
        "masked_labels_train = labels_train[train_mask]\n",
        "# Assign each name an integer label\n",
        "label_inds_train = np.arange(len(masked_labels_train))\n",
        "# Obtain the number of images that each subject kept is featured in\n",
        "masked_num_images_train = num_images_train[train_mask]\n",
        "# For each remaining image in the data obtain the corresponding label\n",
        "train_item_inds = np.repeat(label_inds_train, masked_num_images_train)\n",
        "print(f'Total number of images in the training data: {train_item_inds.shape[0]}')\n",
        "# For each remaining image cache at which index it is in its respective folder\n",
        "local_item_inds_train = [np.arange(n_imgs)+1 for n_imgs in masked_num_images_train]\n",
        "local_item_inds_train = np.concatenate(local_item_inds_train)\n",
        "# Convert this to a list of all filenames of images in the training data\n",
        "filenames_train = [root+'lfw/'+masked_labels_train[train_item_inds[i]]+'_'+f'{local_item_inds_train[i]:04d}' for i in range(train_item_inds.shape[0])]\n",
        "# Print a few of the resulting image paths\n",
        "print(filenames_train[:10])"
      ],
      "execution_count": 5,
      "outputs": [
        {
          "output_type": "stream",
          "text": [
            "Number of people featured in the training data: 4038\n",
            "Number of people featured in at least 2 images: 1184\n",
            "Total number of images in the training data: 6671\n",
            "['data/lfw/lfw/Aaron_Peirsol_0001', 'data/lfw/lfw/Aaron_Peirsol_0002', 'data/lfw/lfw/Aaron_Peirsol_0003', 'data/lfw/lfw/Aaron_Peirsol_0004', 'data/lfw/lfw/Aaron_Sorkin_0001', 'data/lfw/lfw/Aaron_Sorkin_0002', 'data/lfw/lfw/Abdel_Nasser_Assidi_0001', 'data/lfw/lfw/Abdel_Nasser_Assidi_0002', 'data/lfw/lfw/Abdoulaye_Wade_0001', 'data/lfw/lfw/Abdoulaye_Wade_0002']\n"
          ],
          "name": "stdout"
        }
      ]
    },
    {
      "cell_type": "code",
      "metadata": {
        "id": "jAa8bNnzIYvL"
      },
      "source": [
        "root = 'data/lfw/'\n",
        "mode = 'Train'\n",
        "\n",
        "# Keep only subjects who are featured in at least N images\n",
        "N = 2\n",
        "# Read the names of all subjects along with the number of photos that each is featured in\n",
        "tmp_train = np.genfromtxt(split_file, skip_header=1, dtype=np.str)\n",
        "# Store this info in separate numpy arrays\n",
        "labels_train, num_images_train= [], []\n",
        "for label, num_img in tmp_train:\n",
        "  labels_train.append(label)\n",
        "  num_images_train.append(int(num_img))\n",
        "num_images_train = np.array(num_images_train)\n",
        "labels_train = np.array(labels_train)\n",
        "print('Number of people featured in the training data:', len(num_images_train))\n",
        "train_mask = num_images_train >= N\n",
        "print(f'Number of people featured in at least {N} images: {train_mask.sum()}')\n",
        "# Obtain the names of the subjects that are kept\n",
        "masked_labels_train = labels_train[train_mask]\n",
        "# Assign each name an integer label\n",
        "label_inds_train = np.arange(len(masked_labels_train))\n",
        "# Obtain the number of images that each subject kept is featured in\n",
        "masked_num_images_train = num_images_train[train_mask]\n",
        "# For each remaining image in the data obtain the corresponding label\n",
        "train_item_inds = np.repeat(label_inds_train, masked_num_images_train)\n",
        "print(f'Total number of images in the training data: {train_item_inds.shape[0]}')\n",
        "# For each remaining image cache at which index it is in its respective folder\n",
        "local_item_inds_train = [np.arange(n_imgs)+1 for n_imgs in masked_num_images_train]\n",
        "local_item_inds_train = np.concatenate(local_item_inds_train)\n",
        "# Convert this to a list of all filenames of images in the training data\n",
        "filenames_train = [root+'lfw/'+masked_labels_train[train_item_inds[i]]+'_'+f'{local_item_inds_train[i]:04d}' for i in range(train_item_inds.shape[0])]\n",
        "# Print a few of the resulting image paths\n",
        "print(filenames_train[:10])"
      ],
      "execution_count": null,
      "outputs": []
    },
    {
      "cell_type": "code",
      "metadata": {
        "colab": {
          "base_uri": "https://localhost:8080/"
        },
        "id": "2wHHutlV4JgR",
        "outputId": "d2169298-4e45-4028-b75f-a2a05ca47fd7"
      },
      "source": [
        "mode = 'Test'\n",
        "# Path to file which encodes the split\n",
        "split_file = root + 'peopleDev' + mode + '.txt'\n",
        "# Keep only subjects who are featured in at least N images\n",
        "N = 2\n",
        "# Read the names of all subjects along with the number of photos that each is featured in\n",
        "tmp_test = np.genfromtxt(split_file, skip_header=1, dtype=np.str)\n",
        "# Store this info in separate numpy arrays\n",
        "labels_test, num_images_test= [], []\n",
        "for label, num_img in tmp_test:\n",
        "  labels_test.append(label)\n",
        "  num_images_test.append(int(num_img))\n",
        "num_images_test = np.array(num_images_test)\n",
        "labels_test = np.array(labels_test)\n",
        "print('Number of people featured in the testing data:', len(num_images_test))\n",
        "test_mask = num_images_test >= N\n",
        "print(f'Number of people featured in at least {N} images: {test_mask.sum()}')\n",
        "# Obtain the names of the subjects that are kept\n",
        "masked_labels_test = labels_test[test_mask]\n",
        "# Assign each name an integer label\n",
        "label_inds_test = np.arange(len(masked_labels_test))\n",
        "# Obtain the number of images that each subject kept is featured in\n",
        "masked_num_images_test = num_images_test[test_mask]\n",
        "# For each remaining image in the data obtain the corresponding label\n",
        "test_item_inds = np.repeat(label_inds_test, masked_num_images_test)\n",
        "print(f'Total number of images in the testing data: {test_item_inds.shape[0]}')\n",
        "# For each remaining image cache at which index it is in its respective folder\n",
        "local_item_inds_test = [np.arange(n_imgs)+1 for n_imgs in masked_num_images_test]\n",
        "local_item_inds_test = np.concatenate(local_item_inds_test)\n",
        "# Convert this to a list of all filenames of images in the testing data\n",
        "filenames_test = [root+'lfw/'+masked_labels_test[test_item_inds[i]]+'_'+f'{local_item_inds_test[i]:04d}' for i in range(test_item_inds.shape[0])]\n",
        "# Print a few of the resulting image paths\n",
        "print(filenames_test[:15])"
      ],
      "execution_count": 6,
      "outputs": [
        {
          "output_type": "stream",
          "text": [
            "Number of people featured in the testing data: 1711\n",
            "Number of people featured in at least 2 images: 496\n",
            "Total number of images in the testing data: 2493\n",
            "['data/lfw/lfw/Abdullah_Gul_0001', 'data/lfw/lfw/Abdullah_Gul_0002', 'data/lfw/lfw/Abdullah_Gul_0003', 'data/lfw/lfw/Abdullah_Gul_0004', 'data/lfw/lfw/Abdullah_Gul_0005', 'data/lfw/lfw/Abdullah_Gul_0006', 'data/lfw/lfw/Abdullah_Gul_0007', 'data/lfw/lfw/Abdullah_Gul_0008', 'data/lfw/lfw/Abdullah_Gul_0009', 'data/lfw/lfw/Abdullah_Gul_0010', 'data/lfw/lfw/Abdullah_Gul_0011', 'data/lfw/lfw/Abdullah_Gul_0012', 'data/lfw/lfw/Abdullah_Gul_0013', 'data/lfw/lfw/Abdullah_Gul_0014', 'data/lfw/lfw/Abdullah_Gul_0015']\n"
          ],
          "name": "stdout"
        }
      ]
    },
    {
      "cell_type": "code",
      "metadata": {
        "id": "vuwcW3Iu8JN_"
      },
      "source": [
        "from torch.utils.data import Dataset\n",
        "\n",
        "class TripletDataset(Dataset):\n",
        "    \"\"\"\n",
        "    Dataset class which draws from the LFW file structure based on text files describing training and validation splits.\n",
        "    The available modes are 'Train' and 'Test', referencing the suggested training and testing splits for LFW.\n",
        "    For a triplet dataset, anchor images and positive examples should be different images, so only images featuring people featured in at least N >= 2 images are considered.\n",
        "    By default, all images are transformed using transform, and anchor, positive and negative are additionally transformed beforehand using transform_anchor, etc.\n",
        "    \"\"\"\n",
        "    def __init__(self, root, N=2, mode='Train', transform=None, transform_anchor=None, transform_positive=None, transform_negative=None):\n",
        "        \"\"\" Dataset initializer\"\"\"\n",
        "        self.root = root\n",
        "        self.N = N\n",
        "        assert self.N >= 2, 'A person must be featured in at least 2 images, please adjust N'\n",
        "        # File which describes which images are in training/testing sets\n",
        "        self.split_file = root + 'peopleDev' + mode + '.txt'\n",
        "        # Read the names of all subjects along with the number of photos that each is featured in\n",
        "        tmp = np.genfromtxt(self.split_file, skip_header=1, dtype=np.str)\n",
        "        # Store this info in separate numpy arrays\n",
        "        labels, num_images= [], []\n",
        "        for label, num_img in tmp:\n",
        "          labels.append(label)\n",
        "          num_images.append(int(num_img))\n",
        "        num_images = np.array(num_images)\n",
        "        labels = np.array(labels)\n",
        "        mask = num_images >= self.N\n",
        "        # Obtain the names of the subjects that are kept\n",
        "        masked_labels = labels[mask]\n",
        "        self.classes = masked_labels\n",
        "        # Assign each name an integer label\n",
        "        label_inds = np.arange(len(masked_labels))\n",
        "        # Obtain the number of images that each subject kept is featured in\n",
        "        masked_num_images = num_images[mask]\n",
        "        # For each remaining image in the data obtain the corresponding label\n",
        "        self.item_labels = np.repeat(label_inds, masked_num_images)\n",
        "        # For each remaining image cache at which index it is in its respective folder\n",
        "        local_item_inds = [np.arange(n_imgs)+1 for n_imgs in masked_num_images]\n",
        "        local_item_inds = np.concatenate(local_item_inds)\n",
        "        # Convert this to a list of all filenames of images in the testing data\n",
        "        self.filenames = [self.root+'lfw/'+masked_labels[self.item_labels[i]]+'/'+masked_labels[self.item_labels[i]]+'_'+f'{local_item_inds[i]:04d}.jpg' for i in range(self.item_labels.shape[0])]\n",
        "        self.arange= np.arange(len(self.filenames))\n",
        "        self.transform = transform\n",
        "        self.transform_anchor = transform_anchor\n",
        "        self.transform_positive = transform_positive\n",
        "        self.transform_negative = transform_negative\n",
        "\n",
        "        return\n",
        "    \n",
        "    def __len__(self):\n",
        "        \"\"\" Returning number of anchors \"\"\"\n",
        "        return len(self.filenames)\n",
        "\n",
        "    def __getitem__(self, i):\n",
        "        \"\"\" \n",
        "        Sampling a triplet for the dataset. Index i corresponds to anchor \n",
        "        \"\"\"\n",
        "        # Obtain the anchor\n",
        "        anchor_img_path, anchor_lbl = self.filenames[i], self.item_labels[i]\n",
        "        # Set up indices and labels not containing the anchor element\n",
        "        ids = np.delete(self.arange, i)\n",
        "        labels = np.delete(self.item_labels, i)\n",
        "        # Partition this into positive and negative examples\n",
        "        pos_ids = ids[labels == anchor_lbl]\n",
        "        neg_ids = ids[labels != anchor_lbl]\n",
        "        # Sample random positive and negative example\n",
        "        pos_id, neg_id = random.choice(pos_ids).item(), random.choice(neg_ids).item()\n",
        "        pos_img_path, pos_lbl = self.filenames[pos_id], self.item_labels[pos_id]\n",
        "        neg_img_path, neg_lbl = self.filenames[neg_id], self.item_labels[neg_id]\n",
        "        \n",
        "        anchor_img, pos_img, neg_img = io.imread(anchor_img_path), io.imread(pos_img_path), io.imread(neg_img_path)\n",
        "        if self.transform_anchor:\n",
        "            anchor_img = self.transform_anchor(anchor_img)\n",
        "        if self.transform_positive:\n",
        "            pos_img = self.transform_positive(pos_img)\n",
        "        if self.transform_negative:\n",
        "            neg_img = self.transform_negative(neg_img)\n",
        "        if self.transform:\n",
        "            anchor_img, pos_img, neg_img = self.transform(anchor_img), self.transform(pos_img), self.transform(neg_img)\n",
        "\n",
        "              \n",
        "        return (anchor_img, pos_img, neg_img), (anchor_lbl, pos_lbl, neg_lbl)"
      ],
      "execution_count": 37,
      "outputs": []
    },
    {
      "cell_type": "code",
      "metadata": {
        "id": "qYXCV2aIHKEM"
      },
      "source": [
        "MEAN, STD = [0.485, 0.456, 0.406], [0.229, 0.224, 0.225]\n",
        "\n",
        "data_transforms = transforms.Compose([\n",
        "    transforms.ToTensor(),\n",
        "    transforms.Normalize(mean = MEAN, std = STD)\n",
        "])\n",
        "\n",
        "pos_transform = transforms.Compose([transforms.RandomResizedCrop(size=(250,250), scale=(0.8, 1.0)),\n",
        "                                    transforms.RandomHorizontalFlip(p=0.5), \n",
        "                                    transforms.ColorJitter(brightness=0.1, contrast=.4, saturation=0.2, hue=0.05)\n",
        "])\n",
        "\n",
        "inv_normalize = transforms.Normalize(\n",
        "   mean= [-m/s for m, s in zip(MEAN, STD)],\n",
        "   std= [1/s for s in STD]\n",
        ")\n",
        "\n",
        "train_dataset = TripletDataset(root='data/lfw/', mode='Train', transform=data_transforms, transform_positive=pos_transform)\n",
        "train_names = train_dataset.classes"
      ],
      "execution_count": 98,
      "outputs": []
    },
    {
      "cell_type": "code",
      "metadata": {
        "colab": {
          "base_uri": "https://localhost:8080/",
          "height": 145
        },
        "id": "4Blc2YDeVK-T",
        "outputId": "794ab391-0a6b-4c99-f45c-eff8cc10f3b7"
      },
      "source": [
        "(anchor_img, pos_img, neg_img), (anchor_l, pos_l, neg_l) = train_dataset[42]\n",
        "_, (ax1, ax2, ax3) = plt.subplots(1,3)\n",
        "ax1.imshow(inv_normalize(anchor_img).permute(1,2,0))\n",
        "ax1.axis('off')\n",
        "ax1.set_title(train_names[anchor_l])\n",
        "ax2.imshow(inv_normalize(pos_img).permute(1,2,0))\n",
        "ax2.axis('off')\n",
        "ax2.set_title(train_names[pos_l])\n",
        "ax3.imshow(inv_normalize(neg_img).permute(1,2,0))\n",
        "ax3.axis('off')\n",
        "ax3.set_title(train_names[neg_l])\n",
        "plt.show()"
      ],
      "execution_count": 99,
      "outputs": [
        {
          "output_type": "display_data",
          "data": {
            "image/png": "[encoded data removed]",
            "text/plain": [
              "<Figure size 432x288 with 3 Axes>"
            ]
          },
          "metadata": {
            "tags": [],
            "needs_background": "light"
          }
        }
      ]
    },
    {
      "cell_type": "code",
      "metadata": {
        "id": "msLbAWWaXJ9j"
      },
      "source": [
        ""
      ],
      "execution_count": 79,
      "outputs": []
    }
  ]
}