{
  "nbformat": 4,
  "nbformat_minor": 5,
  "metadata": {
    "kernelspec": {
      "display_name": "Python 3",
      "language": "python",
      "name": "python3"
    },
    "language_info": {
      "codemirror_mode": {
        "name": "ipython",
        "version": 3
      },
      "file_extension": ".py",
      "mimetype": "text/x-python",
      "name": "python",
      "nbconvert_exporter": "python",
      "pygments_lexer": "ipython3",
      "version": "3.8.8"
    },
    "colab": {
      "name": "Assignment_1.ipynb",
      "provenance": [],
      "collapsed_sections": [],
      "include_colab_link": true
    },
    "widgets": {
      "application/vnd.jupyter.widget-state+json": {
        "5559931554a44df8b2eec79abef4eaa4": {
          "model_module": "@jupyter-widgets/controls",
          "model_name": "HBoxModel",
          "state": {
            "_view_name": "HBoxView",
            "_dom_classes": [],
            "_model_name": "HBoxModel",
            "_view_module": "@jupyter-widgets/controls",
            "_model_module_version": "1.5.0",
            "_view_count": null,
            "_view_module_version": "1.5.0",
            "box_style": "",
            "layout": "IPY_MODEL_da86c96052bf4ea9b07984aba4f8aa38",
            "_model_module": "@jupyter-widgets/controls",
            "children": [
              "IPY_MODEL_a94f4c23e1094f9c9afa20bebc5ab479",
              "IPY_MODEL_f483e7c631eb4109bad7af80e89ed104"
            ]
          }
        },
        "da86c96052bf4ea9b07984aba4f8aa38": {
          "model_module": "@jupyter-widgets/base",
          "model_name": "LayoutModel",
          "state": {
            "_view_name": "LayoutView",
            "grid_template_rows": null,
            "right": null,
            "justify_content": null,
            "_view_module": "@jupyter-widgets/base",
            "overflow": null,
            "_model_module_version": "1.2.0",
            "_view_count": null,
            "flex_flow": null,
            "width": null,
            "min_width": null,
            "border": null,
            "align_items": null,
            "bottom": null,
            "_model_module": "@jupyter-widgets/base",
            "top": null,
            "grid_column": null,
            "overflow_y": null,
            "overflow_x": null,
            "grid_auto_flow": null,
            "grid_area": null,
            "grid_template_columns": null,
            "flex": null,
            "_model_name": "LayoutModel",
            "justify_items": null,
            "grid_row": null,
            "max_height": null,
            "align_content": null,
            "visibility": null,
            "align_self": null,
            "height": null,
            "min_height": null,
            "padding": null,
            "grid_auto_rows": null,
            "grid_gap": null,
            "max_width": null,
            "order": null,
            "_view_module_version": "1.2.0",
            "grid_template_areas": null,
            "object_position": null,
            "object_fit": null,
            "grid_auto_columns": null,
            "margin": null,
            "display": null,
            "left": null
          }
        },
        "a94f4c23e1094f9c9afa20bebc5ab479": {
          "model_module": "@jupyter-widgets/controls",
          "model_name": "FloatProgressModel",
          "state": {
            "_view_name": "ProgressView",
            "style": "IPY_MODEL_7490c7eb72d24ba2b8fe1cd9fb184216",
            "_dom_classes": [],
            "description": "Epoch: 150 | train: 0.00922 | valid: 0.00967. : 100%",
            "_model_name": "FloatProgressModel",
            "bar_style": "success",
            "max": 150,
            "_view_module": "@jupyter-widgets/controls",
            "_model_module_version": "1.5.0",
            "value": 150,
            "_view_count": null,
            "_view_module_version": "1.5.0",
            "orientation": "horizontal",
            "min": 0,
            "description_tooltip": null,
            "_model_module": "@jupyter-widgets/controls",
            "layout": "IPY_MODEL_05606522715642329b1be0f5e3ed74fd"
          }
        },
        "f483e7c631eb4109bad7af80e89ed104": {
          "model_module": "@jupyter-widgets/controls",
          "model_name": "HTMLModel",
          "state": {
            "_view_name": "HTMLView",
            "style": "IPY_MODEL_7fa96170ad8445fb844b810dd8cb766c",
            "_dom_classes": [],
            "description": "",
            "_model_name": "HTMLModel",
            "placeholder": "​",
            "_view_module": "@jupyter-widgets/controls",
            "_model_module_version": "1.5.0",
            "value": " 150/150 [56:04&lt;00:00, 22.43s/it]",
            "_view_count": null,
            "_view_module_version": "1.5.0",
            "description_tooltip": null,
            "_model_module": "@jupyter-widgets/controls",
            "layout": "IPY_MODEL_ea94df8c52d2434bb30a2340dc0e445b"
          }
        },
        "7490c7eb72d24ba2b8fe1cd9fb184216": {
          "model_module": "@jupyter-widgets/controls",
          "model_name": "ProgressStyleModel",
          "state": {
            "_view_name": "StyleView",
            "_model_name": "ProgressStyleModel",
            "description_width": "initial",
            "_view_module": "@jupyter-widgets/base",
            "_model_module_version": "1.5.0",
            "_view_count": null,
            "_view_module_version": "1.2.0",
            "bar_color": null,
            "_model_module": "@jupyter-widgets/controls"
          }
        },
        "05606522715642329b1be0f5e3ed74fd": {
          "model_module": "@jupyter-widgets/base",
          "model_name": "LayoutModel",
          "state": {
            "_view_name": "LayoutView",
            "grid_template_rows": null,
            "right": null,
            "justify_content": null,
            "_view_module": "@jupyter-widgets/base",
            "overflow": null,
            "_model_module_version": "1.2.0",
            "_view_count": null,
            "flex_flow": null,
            "width": null,
            "min_width": null,
            "border": null,
            "align_items": null,
            "bottom": null,
            "_model_module": "@jupyter-widgets/base",
            "top": null,
            "grid_column": null,
            "overflow_y": null,
            "overflow_x": null,
            "grid_auto_flow": null,
            "grid_area": null,
            "grid_template_columns": null,
            "flex": null,
            "_model_name": "LayoutModel",
            "justify_items": null,
            "grid_row": null,
            "max_height": null,
            "align_content": null,
            "visibility": null,
            "align_self": null,
            "height": null,
            "min_height": null,
            "padding": null,
            "grid_auto_rows": null,
            "grid_gap": null,
            "max_width": null,
            "order": null,
            "_view_module_version": "1.2.0",
            "grid_template_areas": null,
            "object_position": null,
            "object_fit": null,
            "grid_auto_columns": null,
            "margin": null,
            "display": null,
            "left": null
          }
        },
        "7fa96170ad8445fb844b810dd8cb766c": {
          "model_module": "@jupyter-widgets/controls",
          "model_name": "DescriptionStyleModel",
          "state": {
            "_view_name": "StyleView",
            "_model_name": "DescriptionStyleModel",
            "description_width": "",
            "_view_module": "@jupyter-widgets/base",
            "_model_module_version": "1.5.0",
            "_view_count": null,
            "_view_module_version": "1.2.0",
            "_model_module": "@jupyter-widgets/controls"
          }
        },
        "ea94df8c52d2434bb30a2340dc0e445b": {
          "model_module": "@jupyter-widgets/base",
          "model_name": "LayoutModel",
          "state": {
            "_view_name": "LayoutView",
            "grid_template_rows": null,
            "right": null,
            "justify_content": null,
            "_view_module": "@jupyter-widgets/base",
            "overflow": null,
            "_model_module_version": "1.2.0",
            "_view_count": null,
            "flex_flow": null,
            "width": null,
            "min_width": null,
            "border": null,
            "align_items": null,
            "bottom": null,
            "_model_module": "@jupyter-widgets/base",
            "top": null,
            "grid_column": null,
            "overflow_y": null,
            "overflow_x": null,
            "grid_auto_flow": null,
            "grid_area": null,
            "grid_template_columns": null,
            "flex": null,
            "_model_name": "LayoutModel",
            "justify_items": null,
            "grid_row": null,
            "max_height": null,
            "align_content": null,
            "visibility": null,
            "align_self": null,
            "height": null,
            "min_height": null,
            "padding": null,
            "grid_auto_rows": null,
            "grid_gap": null,
            "max_width": null,
            "order": null,
            "_view_module_version": "1.2.0",
            "grid_template_areas": null,
            "object_position": null,
            "object_fit": null,
            "grid_auto_columns": null,
            "margin": null,
            "display": null,
            "left": null
          }
        }
      }
    }
  },
  "cells": [
    {
      "cell_type": "markdown",
      "metadata": {
        "id": "view-in-github",
        "colab_type": "text"
      },
      "source": [
        "<a href=\"https://colab.research.google.com/github/JanNogga/Vision_Systems_Lab/blob/main/Assignment_1/Assignment_1.ipynb\" target=\"_parent\"><img src=\"https://colab.research.google.com/assets/colab-badge.svg\" alt=\"Open In Colab\"/></a>"
      ]
    },
    {
      "cell_type": "code",
      "metadata": {
        "id": "144b36d7"
      },
      "source": [
        "import torch\n",
        "import torch.nn as nn\n",
        "import torchvision.transforms as transforms\n",
        "import torchvision.datasets as datasets\n",
        "import numpy as np\n",
        "np.seterr(divide='ignore', over='ignore')\n",
        "import matplotlib.pyplot as plt\n",
        "import os\n",
        "from tqdm.notebook import tqdm\n",
        "import pandas as pd"
      ],
      "id": "144b36d7",
      "execution_count": 1,
      "outputs": []
    },
    {
      "cell_type": "markdown",
      "metadata": {
        "id": "oiMdV65Ht0dO"
      },
      "source": [
        "## Setting up the data"
      ],
      "id": "oiMdV65Ht0dO"
    },
    {
      "cell_type": "code",
      "metadata": {
        "id": "IxrVTSactgEV"
      },
      "source": [
        "### Load the datasets\n",
        "train_dataset = datasets.MNIST(root='./data',train=True, transform=transforms.ToTensor(), download=True)\n",
        "test_dataset = datasets.MNIST(root='./data',train=False, transform=transforms.ToTensor() ,download=True)"
      ],
      "id": "IxrVTSactgEV",
      "execution_count": 2,
      "outputs": []
    },
    {
      "cell_type": "code",
      "metadata": {
        "id": "or88IrpyyGDi"
      },
      "source": [
        "class OurOwnDataset():\n",
        "    \"\"\" Our own simple dataset \"\"\"\n",
        "    \n",
        "    def __init__(self, path, train=True):\n",
        "        \"\"\" Dataset initializer \"\"\"\n",
        "        assert type(train), f\"Unrecognized split {train}...\"\n",
        "        \n",
        "        ### Loading data\n",
        "        data_file = \"training.pt\" if train else \"test.pt\"\n",
        "        data_path = os.path.join(path, data_file)\n",
        "        assert os.path.exists(data_path), f\"Data file {data_path} does not exist...\"\n",
        "        self.imgs, self.labels = torch.load(data_path)\n",
        "        self.imgs = self.imgs.float()\n",
        "        \n",
        "        ### Converting 1d-int-labels to 10-bit-array representation\n",
        "        one_hot_template = torch.eye(self.labels.max()+1)\n",
        "        self.labels = one_hot_template[self.labels]\n",
        "        \n",
        "    def __len__(self):\n",
        "        \"\"\" Getting the number of elements in the dataset \"\"\"\n",
        "        return len(self.labels)\n",
        "        \n",
        "    def __getitem__(self, idx):\n",
        "        \"\"\" Sampling element 'idx' from the dataset \"\"\"\n",
        "        img, label = self.imgs[idx].flatten(), self.labels[idx]\n",
        "        return img, label"
      ],
      "id": "or88IrpyyGDi",
      "execution_count": 3,
      "outputs": []
    },
    {
      "cell_type": "code",
      "metadata": {
        "id": "oOx0XKk0zAt5"
      },
      "source": [
        "data_path = \"./data/MNIST/processed/\"\n",
        "our_train_db = OurOwnDataset(path = data_path, train=True)\n",
        "our_eval_db = OurOwnDataset(path = data_path, train=False)"
      ],
      "id": "oOx0XKk0zAt5",
      "execution_count": 4,
      "outputs": []
    },
    {
      "cell_type": "code",
      "metadata": {
        "id": "SPqwLA46zXnQ"
      },
      "source": [
        "BATCH_SIZE_TRAIN = 20\n",
        "BATCH_SIZE_EVAL = 10000\n",
        "\n",
        "train_loader =  torch.utils.data.DataLoader(\n",
        "        dataset=our_train_db,\n",
        "        batch_size=BATCH_SIZE_TRAIN,\n",
        "        shuffle=True\n",
        "    )\n",
        "eval_loader =  torch.utils.data.DataLoader(\n",
        "        dataset=our_eval_db,\n",
        "        batch_size=BATCH_SIZE_EVAL,\n",
        "        shuffle=False\n",
        "    )"
      ],
      "id": "SPqwLA46zXnQ",
      "execution_count": 5,
      "outputs": []
    },
    {
      "cell_type": "markdown",
      "metadata": {
        "id": "ydyv_Fpct4l4"
      },
      "source": [
        "## Thoughts on the theory"
      ],
      "id": "ydyv_Fpct4l4"
    },
    {
      "cell_type": "markdown",
      "metadata": {
        "id": "0HOTRgomemip"
      },
      "source": [
        "Before diving into the implementation, lets consider the involved theory. We use the following variables:\n",
        "- Batch size $b$ (`BATCH_SIZE_EVAL` and `BATCH_SIZE_TRAIN`)\n",
        "- $X\\in\\mathbb{R}^{b\\times 784}\\qquad=$ Input (`imgs`)\n",
        "- $W_{\\text{ih}}\\in\\mathbb{R}^{64\\times 784}\\quad=$ Weights between the input layer and the hidden layer (`W_i_h`)\n",
        "- $H\\in\\mathbb{R}^{b\\times 64}\\qquad=$ Hidden layer activations with sigmoid activation function $\\sigma_{\\text{act}}$  (`sigmoid`)\n",
        "- $W_{\\text{ho}}\\in\\mathbb{R}^{10 \\times 64}\\quad=$ Weights between the hidden layer and the output layer (`W_h_o`)\n",
        "- $O\\in\\mathbb{R}^{b\\times 10}\\qquad=$ Output layer activations with softmax probability function $f_{\\text{sm}}$  (`softmax`) ($O = f_{\\text{sm}}(\\tilde{o})$ with $\\tilde{o}\\in\\mathbb{R}^{b\\times 10}$)\n",
        "- $Y\\in\\mathbb{R}^{b\\times 10}\\qquad=$ Labels (`labels`)"
      ],
      "id": "0HOTRgomemip"
    },
    {
      "cell_type": "markdown",
      "metadata": {
        "id": "zDUejxXIAbdy"
      },
      "source": [
        "### The forward pass:\n",
        "- $\\tilde{h}= W_{\\text{ih}} X\\qquad$ (with dimensions ${b\\times 64}=({64\\times 784})({b\\times 784 \\times 1})$) (`out_1` as col vec, then *squeeze()*)\n",
        "- $H= \\sigma_{\\text{act}}\\Big(\\tilde{h}\\Big)\\qquad$ (with dimensions ${b\\times 64}$) (`out_act_1`)\n",
        "- $\\tilde{o}= W_{\\text{ho}} H\\qquad$ (with dimensions ${b\\times 10}=({10\\times 64})({b\\times 64 \\times 1})$) (`out_2` as col vec, then *squeeze()*)\n",
        "- $O=f_{\\text{sm}}\\Big(\\tilde{o} \\Big)\\qquad$ (with dimension ${b\\times 10}$) (`out_act_2`)"
      ],
      "id": "zDUejxXIAbdy"
    },
    {
      "cell_type": "markdown",
      "metadata": {
        "id": "RJQ9vhh8t7N-"
      },
      "source": [
        "## Setting up the training"
      ],
      "id": "RJQ9vhh8t7N-"
    },
    {
      "cell_type": "code",
      "metadata": {
        "id": "2Kojzo2A198n"
      },
      "source": [
        "### Weight matrixes setup\n",
        "hidden_size = 64\n",
        "\n",
        "W_i_h_init = np.random.rand(hidden_size,784)-0.5\n",
        "W_i_h_init = W_i_h_init - W_i_h_init.mean()\n",
        "W_i_h = W_i_h_init.copy()\n",
        "\n",
        "W_h_o_init = np.random.rand(10,hidden_size)-0.5\n",
        "W_h_o_init = W_h_o_init - W_h_o_init.mean()\n",
        "W_h_o = W_h_o_init.copy()"
      ],
      "id": "2Kojzo2A198n",
      "execution_count": 6,
      "outputs": []
    },
    {
      "cell_type": "code",
      "metadata": {
        "id": "-iElcJdu3qXg"
      },
      "source": [
        "### Definition of the activation \n",
        "def sigmoid(t, derivative=False):\n",
        "  if not derivative:\n",
        "    ''' Sigmoid function'''\n",
        "    return 1 / (1+np.exp(-t))\n",
        "    ### We failed to eliminate: 'RuntimeWarning: overflow encountered in exp'\n",
        "    ### Our cure: 'np.seterr(divide='ignore', over='ignore')'\n",
        "  else: \n",
        "    return sigmoid(t) * (1- sigmoid(t))"
      ],
      "id": "-iElcJdu3qXg",
      "execution_count": 7,
      "outputs": []
    },
    {
      "cell_type": "code",
      "metadata": {
        "id": "XMuctnNj5AH-"
      },
      "source": [
        "def softmax(t, derivative=False, dE = None):\n",
        "  if not derivative:\n",
        "    # stabilize the exp a bit\n",
        "    t_shift = t - np.max(t, axis=-1, keepdims=True)\n",
        "    tmp = np.exp(t_shift)\n",
        "    return tmp / tmp.sum(-1)[:,None]\n",
        "  else:\n",
        "    S = softmax(t)\n",
        "    # S.shape = (BS, 10)\n",
        "    # want: (BS, 10, 10) matrices with S on the diagonals\n",
        "    diag_matrices = np.einsum('ij,jk->ijk', S, np.eye(S.shape[-1]))\n",
        "    # want: (BS, 10, 10) covariance matrices\n",
        "    cov = S[:,:,None] @ S[:,None,:]\n",
        "    # put together the Jacobian\n",
        "    dt = diag_matrices - cov\n",
        "    return (dt @ dE[:,:,None]).squeeze(axis=-1)"
      ],
      "id": "XMuctnNj5AH-",
      "execution_count": 8,
      "outputs": []
    },
    {
      "cell_type": "code",
      "metadata": {
        "id": "ZWJBy2iiuG5J"
      },
      "source": [
        "### Learning rate \n",
        "alpha = 1e-3\n",
        "\n",
        "### Saving the losses for every epoch for validation and training\n",
        "losses_eval = []\n",
        "losses_train = []\n",
        "\n",
        "num_epochs = 150\n",
        "print_every = 1"
      ],
      "id": "ZWJBy2iiuG5J",
      "execution_count": 9,
      "outputs": []
    },
    {
      "cell_type": "code",
      "metadata": {
        "id": "HnwflwSY2gby",
        "colab": {
          "base_uri": "https://localhost:8080/",
          "height": 67,
          "referenced_widgets": [
            "5559931554a44df8b2eec79abef4eaa4",
            "da86c96052bf4ea9b07984aba4f8aa38",
            "a94f4c23e1094f9c9afa20bebc5ab479",
            "f483e7c631eb4109bad7af80e89ed104",
            "7490c7eb72d24ba2b8fe1cd9fb184216",
            "05606522715642329b1be0f5e3ed74fd",
            "7fa96170ad8445fb844b810dd8cb766c",
            "ea94df8c52d2434bb30a2340dc0e445b"
          ]
        },
        "outputId": "79e5e892-edb0-4021-bfdd-52d01cc1cb53"
      },
      "source": [
        "progress_bar = tqdm(range(num_epochs), total=num_epochs)\n",
        "for epoch in progress_bar:\n",
        "  losses_train_epoch = []\n",
        "\n",
        "  ### EVALUATION\n",
        "  for i, (imgs, labels) in enumerate(eval_loader):\n",
        "    ### Conversion of TorchTensor to Numpy\n",
        "    imgs = imgs.numpy()\n",
        "    labels = labels.numpy()\n",
        "\n",
        "    ### FORWARD PASS:\n",
        "    ### 1. Layer\n",
        "    out_1 =  (W_i_h @ imgs[:,:,None]).squeeze(axis=-1)\n",
        "    out_act_1 = sigmoid(out_1)\n",
        "    ### 2. Layer\n",
        "    out_2 = (W_h_o @ out_act_1[:,:,None]).squeeze(axis=-1)\n",
        "    out_act_2 = softmax(out_2)\n",
        "    ### LOSS COMPUTATION:\n",
        "    E = labels - out_act_2\n",
        "    MSE = np.power(E, 2).mean(-1)\n",
        "\n",
        "  ### Save & print evaluation error\n",
        "  losses_eval.append(MSE.mean())\n",
        "\n",
        "  ### TRAINING\n",
        "  for i, (imgs, labels) in enumerate(train_loader):\n",
        "    ### Conversion of TorchTensor to Numpy\n",
        "    imgs = imgs.numpy()\n",
        "    labels = labels.numpy()\n",
        "\n",
        "    ### FORWARD PASS:                                                           \n",
        "    ### 1. Layer\n",
        "    out_1 =  (W_i_h @ imgs[:,:,None]).squeeze(axis=-1)\n",
        "    out_act_1 = sigmoid(out_1)\n",
        "    ### 2. Layer\n",
        "    out_2 = (W_h_o @ out_act_1[:,:,None]).squeeze(axis=-1)\n",
        "    out_act_2 = softmax(out_2)\n",
        "    ### LOSS COMPUTATION:\n",
        "    E = labels - out_act_2\n",
        "    MSE = np.power(E, 2).mean(-1)\n",
        "    losses_train_epoch.append(MSE.mean())\n",
        "\n",
        "    ### BACKWARD PASS:  \n",
        "    delta_o = softmax(out_2, derivative=True, dE=2*E)\n",
        "    o_err = (W_h_o.T @ delta_o[:,:,None]).squeeze(axis=-1)\n",
        "    delta_i = o_err * sigmoid(out_1, derivative=True)\n",
        "\n",
        "\n",
        "    W_h_o_grads = delta_o[:,:,None] @ out_act_1[:,None]\n",
        "    W_h_o = W_h_o + alpha * W_h_o_grads.sum(0)\n",
        "    W_i_h_grads = delta_i[:,:,None] @ imgs[:,None]\n",
        "    W_i_h = W_i_h + alpha * W_i_h_grads.sum(0)  \n",
        "\n",
        "  ### Save & print training error\n",
        "  mean_loss_train_epoch = np.array(losses_train_epoch).mean()\n",
        "  losses_train.append(mean_loss_train_epoch)\n",
        "  if(epoch % print_every == 0 or epoch == num_epochs-1):\n",
        "        progress_bar.set_description(f\"Epoch: {epoch+1} | train: {losses_train[-1]:.5f} | valid: {losses_eval[-1]:.5f}. \")"
      ],
      "id": "HnwflwSY2gby",
      "execution_count": 10,
      "outputs": [
        {
          "output_type": "display_data",
          "data": {
            "application/vnd.jupyter.widget-view+json": {
              "model_id": "5559931554a44df8b2eec79abef4eaa4",
              "version_minor": 0,
              "version_major": 2
            },
            "text/plain": [
              "HBox(children=(FloatProgress(value=0.0, max=150.0), HTML(value='')))"
            ]
          },
          "metadata": {
            "tags": []
          }
        },
        {
          "output_type": "stream",
          "text": [
            "\n"
          ],
          "name": "stdout"
        }
      ]
    },
    {
      "cell_type": "markdown",
      "metadata": {
        "id": "dqM06fdqthLV"
      },
      "source": [
        "---\n",
        "### Plotting the results: MSE-loss over time for training and validation"
      ],
      "id": "dqM06fdqthLV"
    },
    {
      "cell_type": "code",
      "metadata": {
        "id": "HHJXUG7_58fp",
        "colab": {
          "base_uri": "https://localhost:8080/",
          "height": 279
        },
        "outputId": "a748f1bb-a893-4fca-8db8-910d5f572972"
      },
      "source": [
        "plt.plot(np.array(losses_eval),label='validation')\n",
        "plt.plot(np.array(losses_train),label='training')\n",
        "plt.xlabel('Epoch')\n",
        "plt.ylabel('Loss')\n",
        "plt.legend()\n",
        "plt.show()"
      ],
      "id": "HHJXUG7_58fp",
      "execution_count": 11,
      "outputs": [
        {
          "output_type": "display_data",
          "data": {
            "image/png": "[encoded data removed]",
            "text/plain": [
              "<Figure size 432x288 with 1 Axes>"
            ]
          },
          "metadata": {
            "tags": [],
            "needs_background": "light"
          }
        }
      ]
    },
    {
      "cell_type": "code",
      "metadata": {
        "id": "mY3Fwj1qoLbY"
      },
      "source": [
        "def evaluate(image):\n",
        "    ''' Letting the trained net evaluate a batch of given images\n",
        "        The function returns a batch of integers in {0,...,9},\n",
        "        representing the learned classification of the image by\n",
        "        the net.\n",
        "    '''\n",
        "    out_1 =  (W_i_h @ image[:,:,None]).squeeze(axis=-1)\n",
        "    out_act_1 = sigmoid(out_1)\n",
        "    out_2 = (W_h_o @ out_act_1[:,:,None]).squeeze(axis=-1)\n",
        "    out_act_2 = softmax(out_2)  \n",
        "    return np.argmax(out_act_2.reshape(-1,10),axis=-1)"
      ],
      "id": "mY3Fwj1qoLbY",
      "execution_count": 12,
      "outputs": []
    },
    {
      "cell_type": "markdown",
      "metadata": {
        "id": "bMUJj5aDtVRn"
      },
      "source": [
        "### Showing the results: Learned classification for a random sample of images"
      ],
      "id": "bMUJj5aDtVRn"
    },
    {
      "cell_type": "code",
      "metadata": {
        "colab": {
          "base_uri": "https://localhost:8080/",
          "height": 195
        },
        "id": "tD9qD4XHxAoV",
        "outputId": "876c8819-86f9-41a6-b0f0-b8c434909d87"
      },
      "source": [
        "fig, ax = plt.subplots(1,5)\n",
        "fig.set_size_inches(15, 3)\n",
        "for a in ax:\n",
        "    a.set_xticks([])\n",
        "    a.set_yticks([])\n",
        "\n",
        "### Fetching 'size' random identifiers for the examplary sample\n",
        "ids = np.random.randint(low=0, high=len(our_eval_db), size=5)\n",
        "\n",
        "for iter, id in enumerate(ids):\n",
        "    ### Fetching the current image and its label\n",
        "    img = our_eval_db[id][0].numpy().reshape(1,-1)\n",
        "    true_label = np.argmax(our_eval_db[id][1])\n",
        "    ### Letting the trained net evaluate the image\n",
        "    predicted_label = evaluate(img)\n",
        "\n",
        "    ax[iter].imshow(img.reshape(28,28), cmap='gray')\n",
        "    ax[iter].set_title(f\"Img #{id}  GT: {true_label}  Out: {predicted_label}\")\n",
        "    \n",
        "plt.show()"
      ],
      "id": "tD9qD4XHxAoV",
      "execution_count": 13,
      "outputs": [
        {
          "output_type": "display_data",
          "data": {
            "image/png": "[encoded data removed]",
            "text/plain": [
              "<Figure size 1080x216 with 5 Axes>"
            ]
          },
          "metadata": {
            "tags": []
          }
        }
      ]
    },
    {
      "cell_type": "markdown",
      "metadata": {
        "id": "xW2RirpFG5UX"
      },
      "source": [
        "### Quantifying the results: Print accuracy and confusion matrix."
      ],
      "id": "xW2RirpFG5UX"
    },
    {
      "cell_type": "code",
      "metadata": {
        "id": "K6EXJuWUuL1S",
        "colab": {
          "base_uri": "https://localhost:8080/",
          "height": 415
        },
        "outputId": "c5dfd1ec-2122-4d1b-abd2-0bfa5e355fd2"
      },
      "source": [
        "images, labels = our_eval_db[:]\n",
        "images = images.numpy().reshape((-1,784))\n",
        "labels = labels.numpy().argmax(-1)\n",
        "predicted_labels = evaluate(images)\n",
        "\n",
        "n_correct = (predicted_labels == labels).sum()\n",
        "accuracy = n_correct / len(labels) * 100\n",
        "print(f'Classification accuracy: {round(accuracy, 2)}%')\n",
        "print('Confusion Matrix:')\n",
        "df_confusion = pd.crosstab(labels, predicted_labels, rownames=['Actual'], colnames=['Predicted'], margins=True)\n",
        "df_confusion.head(10)"
      ],
      "id": "K6EXJuWUuL1S",
      "execution_count": 14,
      "outputs": [
        {
          "output_type": "stream",
          "text": [
            "Classification accuracy: 94.24%\n",
            "Confusion Matrix:\n"
          ],
          "name": "stdout"
        },
        {
          "output_type": "execute_result",
          "data": {
            "text/html": [
              "<div>\n",
              "<style scoped>\n",
              "    .dataframe tbody tr th:only-of-type {\n",
              "        vertical-align: middle;\n",
              "    }\n",
              "\n",
              "    .dataframe tbody tr th {\n",
              "        vertical-align: top;\n",
              "    }\n",
              "\n",
              "    .dataframe thead th {\n",
              "        text-align: right;\n",
              "    }\n",
              "</style>\n",
              "<table border=\"1\" class=\"dataframe\">\n",
              "  <thead>\n",
              "    <tr style=\"text-align: right;\">\n",
              "      <th>Predicted</th>\n",
              "      <th>0</th>\n",
              "      <th>1</th>\n",
              "      <th>2</th>\n",
              "      <th>3</th>\n",
              "      <th>4</th>\n",
              "      <th>5</th>\n",
              "      <th>6</th>\n",
              "      <th>7</th>\n",
              "      <th>8</th>\n",
              "      <th>9</th>\n",
              "      <th>All</th>\n",
              "    </tr>\n",
              "    <tr>\n",
              "      <th>Actual</th>\n",
              "      <th></th>\n",
              "      <th></th>\n",
              "      <th></th>\n",
              "      <th></th>\n",
              "      <th></th>\n",
              "      <th></th>\n",
              "      <th></th>\n",
              "      <th></th>\n",
              "      <th></th>\n",
              "      <th></th>\n",
              "      <th></th>\n",
              "    </tr>\n",
              "  </thead>\n",
              "  <tbody>\n",
              "    <tr>\n",
              "      <th>0</th>\n",
              "      <td>956</td>\n",
              "      <td>1</td>\n",
              "      <td>4</td>\n",
              "      <td>0</td>\n",
              "      <td>1</td>\n",
              "      <td>5</td>\n",
              "      <td>9</td>\n",
              "      <td>2</td>\n",
              "      <td>2</td>\n",
              "      <td>0</td>\n",
              "      <td>980</td>\n",
              "    </tr>\n",
              "    <tr>\n",
              "      <th>1</th>\n",
              "      <td>0</td>\n",
              "      <td>1110</td>\n",
              "      <td>3</td>\n",
              "      <td>2</td>\n",
              "      <td>1</td>\n",
              "      <td>0</td>\n",
              "      <td>4</td>\n",
              "      <td>2</td>\n",
              "      <td>12</td>\n",
              "      <td>1</td>\n",
              "      <td>1135</td>\n",
              "    </tr>\n",
              "    <tr>\n",
              "      <th>2</th>\n",
              "      <td>10</td>\n",
              "      <td>1</td>\n",
              "      <td>969</td>\n",
              "      <td>8</td>\n",
              "      <td>4</td>\n",
              "      <td>4</td>\n",
              "      <td>11</td>\n",
              "      <td>12</td>\n",
              "      <td>11</td>\n",
              "      <td>2</td>\n",
              "      <td>1032</td>\n",
              "    </tr>\n",
              "    <tr>\n",
              "      <th>3</th>\n",
              "      <td>2</td>\n",
              "      <td>2</td>\n",
              "      <td>18</td>\n",
              "      <td>932</td>\n",
              "      <td>0</td>\n",
              "      <td>28</td>\n",
              "      <td>0</td>\n",
              "      <td>11</td>\n",
              "      <td>10</td>\n",
              "      <td>7</td>\n",
              "      <td>1010</td>\n",
              "    </tr>\n",
              "    <tr>\n",
              "      <th>4</th>\n",
              "      <td>0</td>\n",
              "      <td>1</td>\n",
              "      <td>4</td>\n",
              "      <td>1</td>\n",
              "      <td>924</td>\n",
              "      <td>0</td>\n",
              "      <td>12</td>\n",
              "      <td>3</td>\n",
              "      <td>4</td>\n",
              "      <td>33</td>\n",
              "      <td>982</td>\n",
              "    </tr>\n",
              "    <tr>\n",
              "      <th>5</th>\n",
              "      <td>6</td>\n",
              "      <td>6</td>\n",
              "      <td>2</td>\n",
              "      <td>22</td>\n",
              "      <td>3</td>\n",
              "      <td>822</td>\n",
              "      <td>10</td>\n",
              "      <td>3</td>\n",
              "      <td>12</td>\n",
              "      <td>6</td>\n",
              "      <td>892</td>\n",
              "    </tr>\n",
              "    <tr>\n",
              "      <th>6</th>\n",
              "      <td>5</td>\n",
              "      <td>2</td>\n",
              "      <td>4</td>\n",
              "      <td>1</td>\n",
              "      <td>8</td>\n",
              "      <td>13</td>\n",
              "      <td>919</td>\n",
              "      <td>2</td>\n",
              "      <td>4</td>\n",
              "      <td>0</td>\n",
              "      <td>958</td>\n",
              "    </tr>\n",
              "    <tr>\n",
              "      <th>7</th>\n",
              "      <td>1</td>\n",
              "      <td>6</td>\n",
              "      <td>16</td>\n",
              "      <td>9</td>\n",
              "      <td>4</td>\n",
              "      <td>2</td>\n",
              "      <td>0</td>\n",
              "      <td>975</td>\n",
              "      <td>3</td>\n",
              "      <td>12</td>\n",
              "      <td>1028</td>\n",
              "    </tr>\n",
              "    <tr>\n",
              "      <th>8</th>\n",
              "      <td>8</td>\n",
              "      <td>2</td>\n",
              "      <td>8</td>\n",
              "      <td>21</td>\n",
              "      <td>7</td>\n",
              "      <td>7</td>\n",
              "      <td>7</td>\n",
              "      <td>8</td>\n",
              "      <td>897</td>\n",
              "      <td>9</td>\n",
              "      <td>974</td>\n",
              "    </tr>\n",
              "    <tr>\n",
              "      <th>9</th>\n",
              "      <td>4</td>\n",
              "      <td>6</td>\n",
              "      <td>5</td>\n",
              "      <td>10</td>\n",
              "      <td>21</td>\n",
              "      <td>8</td>\n",
              "      <td>2</td>\n",
              "      <td>22</td>\n",
              "      <td>11</td>\n",
              "      <td>920</td>\n",
              "      <td>1009</td>\n",
              "    </tr>\n",
              "  </tbody>\n",
              "</table>\n",
              "</div>"
            ],
            "text/plain": [
              "Predicted    0     1    2    3    4    5    6    7    8    9   All\n",
              "Actual                                                            \n",
              "0          956     1    4    0    1    5    9    2    2    0   980\n",
              "1            0  1110    3    2    1    0    4    2   12    1  1135\n",
              "2           10     1  969    8    4    4   11   12   11    2  1032\n",
              "3            2     2   18  932    0   28    0   11   10    7  1010\n",
              "4            0     1    4    1  924    0   12    3    4   33   982\n",
              "5            6     6    2   22    3  822   10    3   12    6   892\n",
              "6            5     2    4    1    8   13  919    2    4    0   958\n",
              "7            1     6   16    9    4    2    0  975    3   12  1028\n",
              "8            8     2    8   21    7    7    7    8  897    9   974\n",
              "9            4     6    5   10   21    8    2   22   11  920  1009"
            ]
          },
          "metadata": {
            "tags": []
          },
          "execution_count": 14
        }
      ]
    },
    {
      "cell_type": "code",
      "metadata": {
        "id": "dXhMD_gQ7VAq"
      },
      "source": [
        ""
      ],
      "id": "dXhMD_gQ7VAq",
      "execution_count": 14,
      "outputs": []
    }
  ]
}