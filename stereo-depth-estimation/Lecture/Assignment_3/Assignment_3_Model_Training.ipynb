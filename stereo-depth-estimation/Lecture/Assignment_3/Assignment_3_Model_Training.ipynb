{
 "cells": [
  {
   "cell_type": "markdown",
   "metadata": {
    "colab_type": "text",
    "id": "view-in-github"
   },
   "source": [
    "<a href=\"https://colab.research.google.com/github/JanNogga/Vision_Systems_Lab/blob/main/Assignment_3/Assignment_3.ipynb\" target=\"_parent\"><img src=\"https://colab.research.google.com/assets/colab-badge.svg\" alt=\"Open In Colab\"/></a>"
   ]
  },
  {
   "cell_type": "code",
   "execution_count": 1,
   "metadata": {
    "id": "c8WWCiE0pHNO"
   },
   "outputs": [],
   "source": [
    "import torch\n",
    "import torch.nn as nn\n",
    "import torch.nn.functional as F\n",
    "import torchvision\n",
    "import torchvision.transforms as transforms\n",
    "import torchvision.datasets as dsets\n",
    "from torch.optim.lr_scheduler import ReduceLROnPlateau\n",
    "import random as rand\n",
    "import matplotlib.pyplot as plt\n",
    "%matplotlib inline\n",
    "from tqdm import tqdm\n",
    "import numpy as np\n",
    "import joblib\n",
    "import optuna\n",
    "from optuna.trial import TrialState\n",
    "import time"
   ]
  },
  {
   "cell_type": "code",
   "execution_count": 2,
   "metadata": {
    "id": "kafcnuGE2iqs"
   },
   "outputs": [],
   "source": [
    "# reject randomness (as much as possible)\n",
    "manualSeed = 2021\n",
    "\n",
    "np.random.seed(manualSeed)\n",
    "rand.seed(manualSeed)\n",
    "torch.manual_seed(manualSeed)\n",
    "if torch.cuda.is_available():\n",
    "    torch.cuda.manual_seed(manualSeed)\n",
    "    torch.cuda.manual_seed_all(manualSeed)\n",
    "\n",
    "torch.backends.cudnn.enabled = False \n",
    "torch.backends.cudnn.benchmark = False\n",
    "torch.backends.cudnn.deterministic = True\n",
    "\n",
    "def _init_fn():\n",
    "    np.random.seed(manualSeed)"
   ]
  },
  {
   "cell_type": "code",
   "execution_count": 3,
   "metadata": {
    "colab": {
     "base_uri": "https://localhost:8080/"
    },
    "id": "srjqHmMp2lKz",
    "outputId": "5527bcad-76a5-4abb-fa7c-eec42555c200"
   },
   "outputs": [
    {
     "name": "stdout",
     "output_type": "stream",
     "text": [
      "Using downloaded and verified file: data/train_32x32.mat\n",
      "Using downloaded and verified file: data/test_32x32.mat\n"
     ]
    }
   ],
   "source": [
    "### it should be beneficial to use some data augmentation here\n",
    "transform_train = transforms.Compose(\n",
    "    [#transforms.RandomCrop(32, padding=4),\n",
    "     #transforms.RandomHorizontalFlip(),\n",
    "     #transforms.ColorJitter(brightness=63.0 / 255.0, saturation=[0.5, 1.5], contrast=[0.2, 1.8]),\n",
    "     transforms.ToTensor(),\n",
    "     # legends say that these are the true values for SVHN\n",
    "     transforms.Normalize((0.4376821, 0.4437697, 0.47280442), (0.19803012, 0.20101562, 0.19703614))])\n",
    "transform_valid = transforms.Compose(\n",
    "    [transforms.ToTensor(),\n",
    "     transforms.Normalize((0.4376821, 0.4437697, 0.47280442), (0.19803012, 0.20101562, 0.19703614))])\n",
    "\n",
    "# use this function when we want to plot the images\n",
    "inv_normalize = transforms.Normalize(\n",
    "    mean=[-0.4376821/0.19803012, -0.4437697/0.20101562, -0.47280442/0.19703614],\n",
    "    std=[1/0.19803012, 1/0.20101562, 1/0.19703614]\n",
    ")\n",
    "\n",
    "\n",
    "\n",
    "trainset = dsets.SVHN('data', split='train', download=True, transform=transform_train)\n",
    "testset = dsets.SVHN('data', split='test', download=True, transform=transform_valid)"
   ]
  },
  {
   "cell_type": "code",
   "execution_count": 4,
   "metadata": {
    "id": "9mSA6Xtl2p3z"
   },
   "outputs": [],
   "source": [
    "BATCH_SIZE = 1024\n",
    "train_loader = torch.utils.data.DataLoader(dataset=trainset, \n",
    "                                           batch_size=BATCH_SIZE, \n",
    "                                           shuffle=True,\n",
    "                                           worker_init_fn=_init_fn)\n",
    " \n",
    "valid_loader = torch.utils.data.DataLoader(dataset=testset, \n",
    "                                          batch_size=BATCH_SIZE, \n",
    "                                          shuffle=False,\n",
    "                                          worker_init_fn=_init_fn)"
   ]
  },
  {
   "cell_type": "code",
   "execution_count": 5,
   "metadata": {},
   "outputs": [
    {
     "name": "stdout",
     "output_type": "stream",
     "text": [
      "Study statistics: \n",
      "  Number of finished trials:  109\n",
      "  Number of pruned trials:  0\n",
      "  Number of complete trials:  108\n",
      "Best trial:\n",
      "  Value:  87.34250179447861\n",
      "  Params: \n",
      "    z_wide_dim: 2000\n",
      "    z_narrow_dim: 1000\n",
      "    p_drop_in: 0.0\n",
      "    p_drop_hidden: 0.0\n",
      "    sigma_in: 0.5\n",
      "    sigma_hidden: 0.0\n",
      "    num_z_layers: 1\n",
      "    learning_rate: 0.0002710952848957833\n"
     ]
    }
   ],
   "source": [
    "# load first study an summarize result\n",
    "study = joblib.load(\"SVHN_FC.pkl\")\n",
    "pruned_trials = study.get_trials(deepcopy=False, states=[TrialState.PRUNED])\n",
    "complete_trials = study.get_trials(deepcopy=False, states=[TrialState.COMPLETE])\n",
    "\n",
    "print(\"Study statistics: \")\n",
    "print(\"  Number of finished trials: \", len(study.trials))\n",
    "print(\"  Number of pruned trials: \", len(pruned_trials))\n",
    "print(\"  Number of complete trials: \", len(complete_trials))\n",
    "\n",
    "print(\"Best trial:\")\n",
    "trial_fc = study.best_trial\n",
    "\n",
    "print(\"  Value: \", trial_fc.value)\n",
    "\n",
    "print(\"  Params: \")\n",
    "for key, value in trial_fc.params.items():\n",
    "    print(\"    {}: {}\".format(key, value))"
   ]
  },
  {
   "cell_type": "code",
   "execution_count": 6,
   "metadata": {
    "id": "ur1Yuj3opYN1"
   },
   "outputs": [],
   "source": [
    "# load the values as found by the study and retrain the network\n",
    "INPUT_DIM = 3072 # Immutable\n",
    "Z_WIDE_DIM = trial_fc.params['z_wide_dim'] \n",
    "Z_NARROW_DIM = trial_fc.params['z_narrow_dim']\n",
    "OUTPUT_DIM = 10 # Immutable\n",
    "LEARNING_RATE = trial_fc.params['learning_rate']\n",
    "P_DROP_IN = trial_fc.params['p_drop_in']\n",
    "P_DROP_HIDDEN = trial_fc.params['p_drop_hidden']\n",
    "SIGMA_IN = trial_fc.params['sigma_in']\n",
    "SIGMA_HIDDEN = trial_fc.params['sigma_hidden']\n",
    "NUM_Z_LAYERS = trial_fc.params['num_z_layers']\n",
    "\n",
    "# network architecture stolen from: https://openreview.net/pdf/1WvovwjA7UMnPB1oinBL.pdf\n",
    "\n",
    "class GaussianNoise(nn.Module):\n",
    "    def __init__(self, sigma=0.1, is_relative_detach=True):\n",
    "        super().__init__()\n",
    "        self.sigma = sigma\n",
    "        self.is_relative_detach = is_relative_detach\n",
    "        self.register_buffer('noise', torch.tensor(0))\n",
    "\n",
    "    def forward(self, x):\n",
    "        if self.training and self.sigma != 0:\n",
    "            scale = self.sigma * x.detach() if self.is_relative_detach else self.sigma * x\n",
    "            sampled_noise = self.noise.expand(*x.size()).float().normal_() * scale\n",
    "            x = x + sampled_noise\n",
    "        return x \n",
    "\n",
    "class FC_Model(nn.Module):\n",
    "    def __init__(self, input_dim=INPUT_DIM, z_wide_dim=Z_WIDE_DIM, z_narrow_dim=Z_NARROW_DIM, output_dim=OUTPUT_DIM, p_drop_in=P_DROP_IN, p_drop_hidden=P_DROP_HIDDEN, sigma_in=SIGMA_IN, sigma_hidden=SIGMA_HIDDEN, num_z_layers=NUM_Z_LAYERS):\n",
    "        super().__init__()\n",
    "        self.input_dim = input_dim\n",
    "        layers = [GaussianNoise(sigma=sigma_in),\n",
    "                  nn.Dropout(p=p_drop_in),\n",
    "                  nn.Linear(input_dim, z_wide_dim),\n",
    "                  GaussianNoise(sigma=sigma_hidden),\n",
    "                  nn.Dropout(p=p_drop_hidden)]\n",
    "        for i in range(num_z_layers):\n",
    "            layers += [nn.Linear(z_wide_dim, z_narrow_dim, bias=False),\n",
    "                       nn.ReLU(),\n",
    "                       GaussianNoise(sigma=sigma_hidden),\n",
    "                       nn.Dropout(p=p_drop_hidden),\n",
    "                       nn.Linear(z_narrow_dim, z_wide_dim),\n",
    "                       GaussianNoise(sigma=sigma_hidden),\n",
    "                       nn.Dropout(p=p_drop_hidden)]\n",
    "        layers += [nn.Linear(z_wide_dim, output_dim)]\n",
    "        self.model = nn.Sequential(*layers)\n",
    "    \n",
    "    def forward(self, x):\n",
    "        x_flat = x.view(-1, self.input_dim)\n",
    "        out = self.model(x_flat)\n",
    "        return out"
   ]
  },
  {
   "cell_type": "code",
   "execution_count": 7,
   "metadata": {
    "id": "9caTz3eiSRLS"
   },
   "outputs": [],
   "source": [
    "class EarlyStopping(object):\n",
    "    def __init__(self, mode='min', min_delta=0, patience=7):\n",
    "        self.mode = mode\n",
    "        self.min_delta = min_delta\n",
    "        self.patience = patience\n",
    "        self.best = None\n",
    "        self.num_bad_epochs = 0\n",
    "        self.is_better = None\n",
    "        \n",
    "        if mode == 'min':\n",
    "            self.is_better = lambda a, best: a < best - min_delta\n",
    "        if mode == 'max':\n",
    "            self.is_better = lambda a, best: a > best + min_delta\n",
    "\n",
    "        if patience == 0:\n",
    "            self.is_better = lambda a, b: True\n",
    "            self.step = lambda a: False\n",
    "\n",
    "    def step(self, metrics):\n",
    "        if self.best is None:\n",
    "            self.best = metrics\n",
    "            return False\n",
    "\n",
    "        if self.is_better(metrics, self.best):\n",
    "            self.num_bad_epochs = 0\n",
    "            self.best = metrics\n",
    "        else:\n",
    "            self.num_bad_epochs += 1\n",
    "\n",
    "        if self.num_bad_epochs >= self.patience:\n",
    "            return True\n",
    "        return False"
   ]
  },
  {
   "cell_type": "code",
   "execution_count": 8,
   "metadata": {
    "colab": {
     "base_uri": "https://localhost:8080/"
    },
    "id": "PTAwxz9G-85D",
    "outputId": "310f5353-4e7f-4764-91a8-4985860927df"
   },
   "outputs": [
    {
     "name": "stdout",
     "output_type": "stream",
     "text": [
      "Device is : cuda\n"
     ]
    }
   ],
   "source": [
    "device = torch.device(\"cuda\" if torch.cuda.is_available() else \"cpu\")\n",
    "print(f\"Device is : {device}\")"
   ]
  },
  {
   "cell_type": "code",
   "execution_count": 9,
   "metadata": {
    "colab": {
     "base_uri": "https://localhost:8080/"
    },
    "id": "H-E3E68IAG3-",
    "outputId": "e34769a3-2b31-4bb6-ea8b-6f0f93b4dc37"
   },
   "outputs": [
    {
     "name": "stdout",
     "output_type": "stream",
     "text": [
      "Number of trainable parameters: 10168010\n"
     ]
    }
   ],
   "source": [
    "def count_parameters(model):\n",
    "    return sum(p.numel() for p in model.parameters() if p.requires_grad)\n",
    "\n",
    "model = FC_Model()\n",
    "model = model.to(device)\n",
    "\n",
    "# Actually enforce 0 mean weights init, this is often quite far off.\n",
    "with torch.no_grad():\n",
    "    for param in model.parameters():\n",
    "        param.data = param.data - param.data.mean()\n",
    "\n",
    "criterion = nn.CrossEntropyLoss().to(device)\n",
    "optimizer = torch.optim.Adam(model.parameters(), lr=LEARNING_RATE)\n",
    "scheduler = ReduceLROnPlateau(optimizer, 'min', patience=5)\n",
    "\n",
    "print('Number of trainable parameters:', count_parameters(model))"
   ]
  },
  {
   "cell_type": "code",
   "execution_count": 10,
   "metadata": {
    "id": "sstCkQj2TIEZ"
   },
   "outputs": [],
   "source": [
    "def epoch_average(losses, counts):\n",
    "    losses_np = np.array(losses)\n",
    "    counts_np = np.array(counts)\n",
    "    weighted_losses = losses_np * counts_np\n",
    "    return weighted_losses.sum()/counts_np.sum()"
   ]
  },
  {
   "cell_type": "code",
   "execution_count": 11,
   "metadata": {
    "colab": {
     "base_uri": "https://localhost:8080/"
    },
    "id": "d5FMCGhdCgpu",
    "outputId": "082119c5-c6cb-45b4-9cb6-b25c5111b864"
   },
   "outputs": [
    {
     "name": "stderr",
     "output_type": "stream",
     "text": [
      "Epoch 39 - Train: loss 0.2820 | acc 91.93 - Valid: loss 0.5416 | acc 86.94. :  15%|█▌        | 38/250 [07:11<40:09, 11.37s/it]"
     ]
    },
    {
     "name": "stdout",
     "output_type": "stream",
     "text": [
      "Early stopping triggered!\n",
      "Training FC took 431.978483915329 seconds!\n"
     ]
    },
    {
     "name": "stderr",
     "output_type": "stream",
     "text": [
      "\n"
     ]
    }
   ],
   "source": [
    "start = time.time()\n",
    "es = EarlyStopping(mode='max', patience=10)\n",
    "\n",
    "N_EPOCHS = 250\n",
    "UPDATE_EVERY = 1\n",
    "train_loss_hist, train_acc_hist, valid_loss_hist, valid_acc_hist  = [], [], [], []\n",
    "progress_bar = tqdm(range(N_EPOCHS), total=N_EPOCHS, position=0, leave=True)\n",
    "for epoch in progress_bar:\n",
    "    train_loss_list, train_acc_list, batch_sizes_train = [], [], []\n",
    "    valid_loss_list, valid_acc_list, batch_sizes_valid = [], [], []\n",
    "\n",
    "    model.train()\n",
    "    for imgs, labels in train_loader:\n",
    "        optimizer.zero_grad()\n",
    "        labels = labels.to(device)\n",
    "        pred_labels = model(imgs.to(device))\n",
    "        loss = criterion(pred_labels, labels)\n",
    "    \n",
    "        loss.backward()\n",
    "        optimizer.step()\n",
    "\n",
    "        train_loss_list.append(loss.item())\n",
    "        batch_sizes_train.append(labels.shape[0])\n",
    "        pred_label_inds = pred_labels.argmax(dim=-1)\n",
    "        acc = (pred_label_inds == labels).float().mean() * 100\n",
    "        train_acc_list.append(acc.item())\n",
    "\n",
    "    avg_train_loss = epoch_average(train_loss_list, batch_sizes_train)\n",
    "    avg_train_acc = epoch_average(train_acc_list, batch_sizes_train)\n",
    "    train_loss_hist.append(avg_train_loss)\n",
    "    train_acc_hist.append(avg_train_acc)\n",
    "\n",
    "    model.eval()\n",
    "    for imgs, labels in valid_loader:\n",
    "        with torch.no_grad():\n",
    "            labels = labels.to(device)\n",
    "            pred_labels = model(imgs.to(device))\n",
    "            loss = criterion(pred_labels, labels)\n",
    "            \n",
    "            valid_loss_list.append(loss.item())\n",
    "            batch_sizes_valid.append(imgs.shape[0])\n",
    "            pred_label_inds = pred_labels.argmax(dim=-1)\n",
    "            acc = (pred_label_inds == labels).float().mean() * 100\n",
    "            valid_acc_list.append(acc.item())\n",
    "\n",
    "    avg_valid_loss = epoch_average(valid_loss_list, batch_sizes_valid)\n",
    "    avg_valid_acc = epoch_average(valid_acc_list, batch_sizes_valid)\n",
    "    valid_loss_hist.append(avg_valid_loss)\n",
    "    valid_acc_hist.append(avg_valid_acc)\n",
    "\n",
    "    if(epoch % UPDATE_EVERY == 0 or epoch == N_EPOCHS-1):\n",
    "        progress_bar.set_description(f\"Epoch {epoch+1} - Train: loss {train_loss_hist[-1]:.4f} | acc {train_acc_hist[-1]:.2f} - Valid: loss {valid_loss_hist[-1]:.4f} | acc {valid_acc_hist[-1]:.2f}. \")\n",
    "\n",
    "    scheduler.step(avg_valid_loss)\n",
    "    if(es.step(avg_valid_acc)):\n",
    "        print('Early stopping triggered!')\n",
    "        break\n",
    "print('Training FC took', time.time()-start, 'seconds!')"
   ]
  },
  {
   "cell_type": "code",
   "execution_count": 12,
   "metadata": {
    "id": "EYhx7EjwQ9-0"
   },
   "outputs": [
    {
     "data": {
      "image/png": "[encoded data removed]",
      "text/plain": [
       "<Figure size 432x288 with 1 Axes>"
      ]
     },
     "metadata": {
      "needs_background": "light"
     },
     "output_type": "display_data"
    },
    {
     "data": {
      "image/png": "[encoded data removed]",
      "text/plain": [
       "<Figure size 432x288 with 1 Axes>"
      ]
     },
     "metadata": {
      "needs_background": "light"
     },
     "output_type": "display_data"
    }
   ],
   "source": [
    "plt.plot(train_loss_hist, label='train loss')\n",
    "plt.plot(valid_loss_hist, label='valid loss')\n",
    "plt.xlabel(\"epoch\")\n",
    "plt.ylabel(\"loss\")\n",
    "plt.legend()\n",
    "plt.savefig(\"saved_models/fc_loss.png\", dpi=360)\n",
    "plt.show()\n",
    "\n",
    "\n",
    "plt.plot(train_acc_hist, label='train acc')\n",
    "plt.plot(valid_acc_hist, label='valid acc')\n",
    "plt.xlabel(\"epoch\")\n",
    "plt.ylabel(\"accuracy\")\n",
    "plt.legend()\n",
    "plt.savefig(\"saved_models/fc_acc.png\", dpi=360)\n",
    "plt.show()"
   ]
  },
  {
   "cell_type": "code",
   "execution_count": 13,
   "metadata": {},
   "outputs": [],
   "source": [
    "torch.save(model.state_dict(), \"saved_models/fc_trained.pt\")"
   ]
  },
  {
   "cell_type": "code",
   "execution_count": 14,
   "metadata": {},
   "outputs": [
    {
     "name": "stdout",
     "output_type": "stream",
     "text": [
      "Study statistics: \n",
      "  Number of finished trials:  30\n",
      "  Number of pruned trials:  0\n",
      "  Number of complete trials:  29\n",
      "Best trial:\n",
      "  Value:  89.37461605904362\n",
      "  Params: \n",
      "    channels_1: 8\n",
      "    kernel_1: 11\n",
      "    channels_2: 20\n",
      "    kernel_2: 5\n",
      "    fc_1_neurons: 96\n",
      "    fc_2_neurons: 44\n",
      "    pool_mode: avg\n",
      "    p_drop_in: 0.6\n",
      "    p_drop_conv: 0.0\n",
      "    p_drop_fc: 0.0\n",
      "    learning_rate: 0.0010327240125788814\n"
     ]
    }
   ],
   "source": [
    "# load first study an summarize result\n",
    "study = joblib.load(\"SVHN_CONV.pkl\")\n",
    "pruned_trials = study.get_trials(deepcopy=False, states=[TrialState.PRUNED])\n",
    "complete_trials = study.get_trials(deepcopy=False, states=[TrialState.COMPLETE])\n",
    "\n",
    "print(\"Study statistics: \")\n",
    "print(\"  Number of finished trials: \", len(study.trials))\n",
    "print(\"  Number of pruned trials: \", len(pruned_trials))\n",
    "print(\"  Number of complete trials: \", len(complete_trials))\n",
    "\n",
    "print(\"Best trial:\")\n",
    "trial_conv = study.best_trial\n",
    "\n",
    "print(\"  Value: \", trial_conv.value)\n",
    "\n",
    "print(\"  Params: \")\n",
    "for key, value in trial_conv.params.items():\n",
    "    print(\"    {}: {}\".format(key, value))"
   ]
  },
  {
   "cell_type": "code",
   "execution_count": 15,
   "metadata": {},
   "outputs": [],
   "source": [
    "INPUT_CHANNELS = 3 # Immutable\n",
    "CHANNELS_1 = trial_conv.params['channels_1'] \n",
    "KERNEL_1 = trial_conv.params['kernel_1'] \n",
    "CHANNELS_2 = trial_conv.params['channels_2'] \n",
    "KERNEL_2 = trial_conv.params['kernel_2'] \n",
    "FC_1_NEURONS = trial_conv.params['fc_1_neurons'] \n",
    "FC_2_NEURONS = trial_conv.params['fc_2_neurons'] \n",
    "POOL_MODE = trial_conv.params['pool_mode'] \n",
    "P_DROP_FC = trial_conv.params['p_drop_fc'] \n",
    "P_DROP_CONV = trial_conv.params['p_drop_conv'] \n",
    "P_DROP_IN = trial_conv.params['p_drop_in']\n",
    "LEARNING_RATE = trial_conv.params['learning_rate']\n",
    "\n",
    "class Conv_Model(nn.Module):\n",
    "    def __init__(self, input_channels=INPUT_CHANNELS, channels_1=CHANNELS_1, kernel_1=KERNEL_1, channels_2=CHANNELS_2, kernel_2=KERNEL_2, fc_1_neurons=FC_1_NEURONS, fc_2_neurons=FC_2_NEURONS,pool_mode=POOL_MODE, output_dim=OUTPUT_DIM, p_drop_in=P_DROP_IN, p_drop_conv=P_DROP_CONV, p_drop_fc=P_DROP_FC):\n",
    "        super().__init__()\n",
    "        self.drop_in = nn.Dropout2d(p=p_drop_in)\n",
    "        self.conv1 = nn.Conv2d(input_channels, channels_1, kernel_1, padding=kernel_1//2)\n",
    "        self.drop_conv = nn.Dropout2d(p=p_drop_conv)\n",
    "        if pool_mode == 'max':\n",
    "            self.pool = nn.MaxPool2d(2, 2)\n",
    "            self.out_size = 8\n",
    "        elif pool_mode == 'avg':\n",
    "            self.pool = nn.AvgPool2d(2,2)\n",
    "            self.out_size = 8\n",
    "        else:\n",
    "            self.pool = lambda x: x\n",
    "            self.out_size = 32\n",
    "        self.conv2 = nn.Conv2d(channels_1, channels_2, kernel_2, padding=kernel_2//2)\n",
    "        self.fc1 = nn.Linear(channels_2 * self.out_size * self.out_size, fc_1_neurons)\n",
    "        self.drop_fc = nn.Dropout(p=p_drop_fc)\n",
    "        self.fc2 = nn.Linear(fc_1_neurons, fc_2_neurons)\n",
    "        self.fc3 = nn.Linear(fc_2_neurons, output_dim)\n",
    "\n",
    "    def forward(self, x):\n",
    "        x = self.drop_in(x)\n",
    "        x = self.pool(F.relu(self.conv1(x)))\n",
    "        x = self.drop_conv(x)\n",
    "        x = self.pool(F.relu(self.conv2(x)))\n",
    "        x = self.drop_conv(x)\n",
    "        x = torch.flatten(x, 1)\n",
    "        x = F.relu(self.fc1(x))\n",
    "        x = self.drop_fc(x)\n",
    "        x = F.relu(self.fc2(x))\n",
    "        x = self.drop_fc(x)\n",
    "        x = self.fc3(x)\n",
    "        return x"
   ]
  },
  {
   "cell_type": "code",
   "execution_count": 16,
   "metadata": {},
   "outputs": [
    {
     "name": "stdout",
     "output_type": "stream",
     "text": [
      "Number of trainable parameters: 134626\n"
     ]
    }
   ],
   "source": [
    "def count_parameters(model):\n",
    "    return sum(p.numel() for p in model.parameters() if p.requires_grad)\n",
    "\n",
    "model = Conv_Model()\n",
    "model = model.to(device)\n",
    "\n",
    "# Actually enforce 0 mean weights init, this is often quite far off.\n",
    "with torch.no_grad():\n",
    "    for param in model.parameters():\n",
    "        param.data = param.data - param.data.mean()\n",
    "\n",
    "criterion = nn.CrossEntropyLoss().to(device)\n",
    "optimizer = torch.optim.Adam(model.parameters(), lr=LEARNING_RATE)\n",
    "scheduler = ReduceLROnPlateau(optimizer, 'min', patience=5)\n",
    "\n",
    "print('Number of trainable parameters:', count_parameters(model))"
   ]
  },
  {
   "cell_type": "code",
   "execution_count": 17,
   "metadata": {},
   "outputs": [
    {
     "name": "stderr",
     "output_type": "stream",
     "text": [
      "Epoch 69 - Train: loss 0.6055 | acc 79.27 - Valid: loss 0.3931 | acc 89.65. :  27%|██▋       | 68/250 [29:07<1:17:56, 25.69s/it]"
     ]
    },
    {
     "name": "stdout",
     "output_type": "stream",
     "text": [
      "Early stopping triggered!\n",
      "Training Conv took 1747.2185311317444 seconds!\n"
     ]
    },
    {
     "name": "stderr",
     "output_type": "stream",
     "text": [
      "\n"
     ]
    }
   ],
   "source": [
    "start = time.time()\n",
    "es = EarlyStopping(mode='max', patience=10)\n",
    "\n",
    "UPDATE_EVERY = 1\n",
    "train_loss_hist, train_acc_hist, valid_loss_hist, valid_acc_hist  = [], [], [], []\n",
    "progress_bar = tqdm(range(N_EPOCHS), total=N_EPOCHS, position=0, leave=True)\n",
    "for epoch in progress_bar:\n",
    "    train_loss_list, train_acc_list, batch_sizes_train = [], [], []\n",
    "    valid_loss_list, valid_acc_list, batch_sizes_valid = [], [], []\n",
    "\n",
    "    model.train()\n",
    "    for imgs, labels in train_loader:\n",
    "        optimizer.zero_grad()\n",
    "        labels = labels.to(device)\n",
    "        pred_labels = model(imgs.to(device))\n",
    "        loss = criterion(pred_labels, labels)\n",
    "    \n",
    "        loss.backward()\n",
    "        optimizer.step()\n",
    "\n",
    "        train_loss_list.append(loss.item())\n",
    "        batch_sizes_train.append(labels.shape[0])\n",
    "        pred_label_inds = pred_labels.argmax(dim=-1)\n",
    "        acc = (pred_label_inds == labels).float().mean() * 100\n",
    "        train_acc_list.append(acc.item())\n",
    "\n",
    "    avg_train_loss = epoch_average(train_loss_list, batch_sizes_train)\n",
    "    avg_train_acc = epoch_average(train_acc_list, batch_sizes_train)\n",
    "    train_loss_hist.append(avg_train_loss)\n",
    "    train_acc_hist.append(avg_train_acc)\n",
    "\n",
    "    model.eval()\n",
    "    for imgs, labels in valid_loader:\n",
    "        with torch.no_grad():\n",
    "            labels = labels.to(device)\n",
    "            pred_labels = model(imgs.to(device))\n",
    "            loss = criterion(pred_labels, labels)\n",
    "            \n",
    "            valid_loss_list.append(loss.item())\n",
    "            batch_sizes_valid.append(imgs.shape[0])\n",
    "            pred_label_inds = pred_labels.argmax(dim=-1)\n",
    "            acc = (pred_label_inds == labels).float().mean() * 100\n",
    "            valid_acc_list.append(acc.item())\n",
    "\n",
    "    avg_valid_loss = epoch_average(valid_loss_list, batch_sizes_valid)\n",
    "    avg_valid_acc = epoch_average(valid_acc_list, batch_sizes_valid)\n",
    "    valid_loss_hist.append(avg_valid_loss)\n",
    "    valid_acc_hist.append(avg_valid_acc)\n",
    "\n",
    "    if(epoch % UPDATE_EVERY == 0 or epoch == N_EPOCHS-1):\n",
    "        progress_bar.set_description(f\"Epoch {epoch+1} - Train: loss {train_loss_hist[-1]:.4f} | acc {train_acc_hist[-1]:.2f} - Valid: loss {valid_loss_hist[-1]:.4f} | acc {valid_acc_hist[-1]:.2f}. \")\n",
    "\n",
    "    scheduler.step(avg_valid_loss)\n",
    "    if(es.step(avg_valid_acc)):\n",
    "        print('Early stopping triggered!')\n",
    "        break\n",
    "print('Training Conv took', time.time()-start, 'seconds!')"
   ]
  },
  {
   "cell_type": "code",
   "execution_count": 18,
   "metadata": {},
   "outputs": [
    {
     "data": {
      "image/png": "[encoded data removed]",
      "text/plain": [
       "<Figure size 432x288 with 1 Axes>"
      ]
     },
     "metadata": {
      "needs_background": "light"
     },
     "output_type": "display_data"
    },
    {
     "data": {
      "image/png": "[encoded data removed]",
      "text/plain": [
       "<Figure size 432x288 with 1 Axes>"
      ]
     },
     "metadata": {
      "needs_background": "light"
     },
     "output_type": "display_data"
    }
   ],
   "source": [
    "plt.plot(train_loss_hist, label='train loss')\n",
    "plt.plot(valid_loss_hist, label='valid loss')\n",
    "plt.xlabel(\"epoch\")\n",
    "plt.ylabel(\"loss\")\n",
    "plt.legend()\n",
    "plt.savefig(\"saved_models/conv_loss.png\", dpi=360)\n",
    "plt.show()\n",
    "\n",
    "\n",
    "plt.plot(train_acc_hist, label='train acc')\n",
    "plt.plot(valid_acc_hist, label='valid acc')\n",
    "plt.xlabel(\"epoch\")\n",
    "plt.ylabel(\"accuracy\")\n",
    "plt.legend()\n",
    "plt.savefig(\"saved_models/conv_acc.png\", dpi=360)\n",
    "plt.show()"
   ]
  },
  {
   "cell_type": "code",
   "execution_count": 19,
   "metadata": {},
   "outputs": [],
   "source": [
    "torch.save(model.state_dict(), \"saved_models/conv_trained.pt\")"
   ]
  },
  {
   "cell_type": "code",
   "execution_count": null,
   "metadata": {},
   "outputs": [],
   "source": []
  }
 ],
 "metadata": {
  "accelerator": "GPU",
  "colab": {
   "authorship_tag": "ABX9TyNs2C+jKAaEiwgwZwA0+68j",
   "include_colab_link": true,
   "name": "Assignment_3.ipynb",
   "provenance": []
  },
  "kernelspec": {
   "display_name": "Python 3",
   "language": "python",
   "name": "python3"
  },
  "language_info": {
   "codemirror_mode": {
    "name": "ipython",
    "version": 3
   },
   "file_extension": ".py",
   "mimetype": "text/x-python",
   "name": "python",
   "nbconvert_exporter": "python",
   "pygments_lexer": "ipython3",
   "version": "3.7.9"
  }
 },
 "nbformat": 4,
 "nbformat_minor": 1
}
